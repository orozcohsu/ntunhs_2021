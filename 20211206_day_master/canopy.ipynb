{
 "cells": [
  {
   "cell_type": "code",
   "execution_count": 1,
   "id": "3043c53e-c788-4284-bc30-052c648c7dd7",
   "metadata": {},
   "outputs": [],
   "source": [
    "#匯入 k_means.py 與 canopy.py 兩個檔案\n",
    "from k_means import KMeans\n",
    "from canopy import Canopy\n",
    "from visualization import Visualization\n",
    "import random\n",
    "import numpy as np"
   ]
  },
  {
   "cell_type": "markdown",
   "id": "79a22225-b52d-4a6e-ab36-f1e5c01a30b0",
   "metadata": {},
   "source": [
    "# 兩個階段比較中心點(質心)更新的次數\n",
    "# 第一個階段，採用canopy，透過t1,t2兩個閥值來決定最適當的K值；另外也記住質心位置，減少迭代計算\n",
    "# 第二個階段，採用傳統K-Means方法，直接給定K值為4，比較迭代計算的次數"
   ]
  },
  {
   "cell_type": "code",
   "execution_count": 16,
   "id": "d00601bc-00f9-4684-a35e-2e3572fc47f7",
   "metadata": {},
   "outputs": [
    {
     "name": "stdout",
     "output_type": "stream",
     "text": [
      "中心點： [[80, 61], [13, 48], [90, 5], [14, 99]]\n",
      "K值: 4\n",
      "更新後的中心點： [[76, 63], [19, 38], [85, 14], [24, 85]]\n",
      "更新後的中心點： [[76, 65], [19, 33], [83, 17], [23, 81]]\n",
      "更新後的中心點： [[75, 65], [18, 31], [82, 18], [23, 80]]\n",
      "更新後的中心點： [[75, 65], [18, 30], [82, 18], [23, 79]]\n",
      "更新後的中心點： [[75, 65], [17, 30], [82, 18], [23, 78]]\n",
      "更新後的中心點： [[75, 65], [17, 30], [82, 18], [23, 78]]\n"
     ]
    },
    {
     "data": {
      "image/png": "[encoded data removed]",
      "text/plain": [
       "<Figure size 432x288 with 1 Axes>"
      ]
     },
     "metadata": {
      "needs_background": "light"
     },
     "output_type": "display_data"
    }
   ],
   "source": [
    "points = []\n",
    "center_points = []\n",
    "\n",
    "K = 0\n",
    "#建立測試資料集(2d)\n",
    "for i in range (0, 100):\n",
    "    x = random.randint(0, 100)\n",
    "    y = random.randint(0, 100)\n",
    "    point = [x, y]\n",
    "    points.append(point)\n",
    "points = np.array(points)\n",
    "#print(\"points:\",points)\n",
    "\n",
    "#設定t1,t2的閥值\n",
    "canopy = Canopy(points, t1=75, t2=50)\n",
    "\n",
    "#將points帶入canopy，在t1,t2的條件下，計算中心點\n",
    "canopy_cluster = canopy.find_cluster_by_canopy()\n",
    "#print(\"canopy_cluster:\",canopy_cluster)\n",
    "\n",
    "for i in canopy_cluster:\n",
    "    center_points.append(i[0].tolist())\n",
    "print(\"中心點：\", end=\" \")\n",
    "print(center_points)\n",
    "\n",
    "#取得K值\n",
    "K = len(center_points)\n",
    "print(\"K值:\",K)\n",
    "\n",
    "#重新計算KMeans\n",
    "#訓練資料集: points\n",
    "#初始化中心點: center_points\n",
    "#K值: K\n",
    "kmeans = KMeans(points, center_points, K)\n",
    "center_points, kmeans_cluster = kmeans.find_cluster_by_kmeans()\n",
    "\n",
    "visual = Visualization(center_points, kmeans_cluster)\n",
    "visual.visual()\n"
   ]
  },
  {
   "cell_type": "code",
   "execution_count": 19,
   "id": "9efdda73-03c7-4886-bb9c-117aee70d068",
   "metadata": {},
   "outputs": [
    {
     "name": "stdout",
     "output_type": "stream",
     "text": [
      "更新後的中心點： [[31, 22], [76, 17], [80, 67], [28, 75]]\n",
      "更新後的中心點： [[29, 19], [78, 15], [81, 66], [32, 75]]\n",
      "更新後的中心點： [[29, 19], [77, 13], [84, 64], [35, 75]]\n",
      "更新後的中心點： [[28, 19], [75, 13], [84, 64], [35, 75]]\n",
      "更新後的中心點： [[27, 20], [74, 13], [84, 64], [35, 75]]\n",
      "更新後的中心點： [[26, 20], [72, 12], [84, 64], [35, 75]]\n",
      "更新後的中心點： [[25, 20], [71, 13], [84, 64], [35, 75]]\n",
      "更新後的中心點： [[24, 20], [69, 13], [84, 64], [35, 75]]\n",
      "更新後的中心點： [[24, 20], [69, 13], [84, 64], [35, 75]]\n"
     ]
    },
    {
     "data": {
      "image/png": "[encoded data removed]",
      "text/plain": [
       "<Figure size 432x288 with 1 Axes>"
      ]
     },
     "metadata": {
      "needs_background": "light"
     },
     "output_type": "display_data"
    }
   ],
   "source": [
    "points = []\n",
    "center_points = []\n",
    "\n",
    "K = 4\n",
    "\n",
    "#建立測試資料集(2d)\n",
    "for i in range (0, 100):\n",
    "    x = random.randint(0, 100)\n",
    "    y = random.randint(0, 100)\n",
    "    point = [x, y]\n",
    "    points.append(point)\n",
    "points = np.array(points)\n",
    "\n",
    "for i in range (0, 4):\n",
    "    x = random.randint(0, 100)\n",
    "    y = random.randint(0, 100)\n",
    "    point = [x, y]\n",
    "    center_points.append(point)\n",
    "\n",
    "#重新計算KMeans\n",
    "#訓練資料集: points\n",
    "#初始化中心點: center_points\n",
    "#K值: K\n",
    "kmeans = KMeans(points, center_points, K)\n",
    "center_points, kmeans_cluster = kmeans.find_cluster_by_kmeans()\n",
    "\n",
    "visual = Visualization(center_points, kmeans_cluster)\n",
    "visual.visual()\n"
   ]
  },
  {
   "cell_type": "code",
   "execution_count": null,
   "id": "6e22fe15-88a7-4e16-a10b-6c918c587d15",
   "metadata": {},
   "outputs": [],
   "source": []
  },
  {
   "cell_type": "code",
   "execution_count": null,
   "id": "edacab75-02e0-4469-8590-6acaa1cd1b98",
   "metadata": {},
   "outputs": [],
   "source": []
  }
 ],
 "metadata": {
  "kernelspec": {
   "display_name": "Python 3 (ipykernel)",
   "language": "python",
   "name": "python3"
  },
  "language_info": {
   "codemirror_mode": {
    "name": "ipython",
    "version": 3
   },
   "file_extension": ".py",
   "mimetype": "text/x-python",
   "name": "python",
   "nbconvert_exporter": "python",
   "pygments_lexer": "ipython3",
   "version": "3.8.12"
  }
 },
 "nbformat": 4,
 "nbformat_minor": 5
}
