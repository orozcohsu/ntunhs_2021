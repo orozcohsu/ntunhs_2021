{
 "cells": [
  {
   "cell_type": "code",
   "execution_count": 1,
   "metadata": {
    "tags": []
   },
   "outputs": [],
   "source": [
    "%matplotlib inline\n",
    "import matplotlib.pyplot as plt\n",
    "import numpy as np"
   ]
  },
  {
   "cell_type": "code",
   "execution_count": 2,
   "metadata": {
    "collapsed": false,
    "jupyter": {
     "outputs_hidden": false
    }
   },
   "outputs": [
    {
     "name": "stdout",
     "output_type": "stream",
     "text": [
      "loading documents ...\n",
      "summary: 7898 documents in 4 categories.\n",
      "done in 1.2990741729736328 seconds\n"
     ]
    }
   ],
   "source": [
    "from time import time\n",
    "from sklearn.datasets import load_files\n",
    "\n",
    "print(\"loading documents ...\")\n",
    "t = time()\n",
    "docs = load_files('data')\n",
    "print(\"summary: {0} documents in {1} categories.\".format(\n",
    "    len(docs.data), len(docs.target_names)))\n",
    "print(\"done in {0} seconds\".format(time() - t))"
   ]
  },
  {
   "cell_type": "code",
   "execution_count": 3,
   "metadata": {
    "collapsed": false,
    "jupyter": {
     "outputs_hidden": false
    }
   },
   "outputs": [
    {
     "name": "stdout",
     "output_type": "stream",
     "text": [
      "vectorizing documents ...\n",
      "n_samples: 7898, n_features: 20000\n",
      "number of non-zero features in sample [data\\sci.electronics\\._12249-54259]: 0\n",
      "done in 1.0180583000183105 seconds\n"
     ]
    }
   ],
   "source": [
    "from sklearn.feature_extraction.text import TfidfVectorizer\n",
    "\n",
    "max_features = 20000\n",
    "print(\"vectorizing documents ...\")\n",
    "t = time()\n",
    "vectorizer = TfidfVectorizer(max_df=0.4, \n",
    "                             min_df=2, \n",
    "                             max_features=max_features, \n",
    "                             encoding='latin-1')\n",
    "X = vectorizer.fit_transform((d for d in docs.data))\n",
    "print(\"n_samples: %d, n_features: %d\" % X.shape)\n",
    "print(\"number of non-zero features in sample [{0}]: {1}\".format(\n",
    "    docs.filenames[0], X[0].getnnz()))\n",
    "print(\"done in {0} seconds\".format(time() - t))"
   ]
  },
  {
   "cell_type": "code",
   "execution_count": 4,
   "metadata": {
    "collapsed": false,
    "jupyter": {
     "outputs_hidden": false
    }
   },
   "outputs": [
    {
     "name": "stdout",
     "output_type": "stream",
     "text": [
      "clustering documents ...\n",
      "Initialization complete\n",
      "Iteration 0, inertia 3945.0726985741767\n",
      "Iteration 1, inertia 3846.8833001124417\n",
      "Iteration 2, inertia 3846.084431659387\n",
      "Converged at iteration 2: strict convergence.\n",
      "Initialization complete\n",
      "Iteration 0, inertia 3940.437835481184\n",
      "Iteration 1, inertia 3836.424694660833\n",
      "Iteration 2, inertia 3833.4219715799386\n",
      "Iteration 3, inertia 3832.311110489677\n",
      "Iteration 4, inertia 3832.0239038488953\n",
      "Iteration 5, inertia 3831.9542101315897\n",
      "Iteration 6, inertia 3831.8704741178003\n",
      "Iteration 7, inertia 3831.808042972564\n",
      "Converged at iteration 7: strict convergence.\n",
      "Initialization complete\n",
      "Iteration 0, inertia 3944.4676170688795\n",
      "Iteration 1, inertia 3846.5822821417905\n",
      "Iteration 2, inertia 3846.3665926444532\n",
      "Iteration 3, inertia 3846.2096337595704\n",
      "Converged at iteration 3: strict convergence.\n",
      "kmean: k=4, cost=3831\n",
      "done in 1.3730785846710205 seconds\n"
     ]
    }
   ],
   "source": [
    "from sklearn.cluster import KMeans\n",
    "\n",
    "print(\"clustering documents ...\")\n",
    "t = time()\n",
    "n_clusters = 4\n",
    "kmean = KMeans(n_clusters=n_clusters, \n",
    "               max_iter=100,\n",
    "               tol=0.01,\n",
    "               verbose=1,\n",
    "               n_init=3)\n",
    "kmean.fit(X);\n",
    "print(\"kmean: k={}, cost={}\".format(n_clusters, int(kmean.inertia_)))\n",
    "print(\"done in {0} seconds\".format(time() - t))"
   ]
  },
  {
   "cell_type": "code",
   "execution_count": 5,
   "metadata": {
    "collapsed": false,
    "jupyter": {
     "outputs_hidden": false
    }
   },
   "outputs": [
    {
     "data": {
      "text/plain": [
       "7898"
      ]
     },
     "execution_count": 5,
     "metadata": {},
     "output_type": "execute_result"
    }
   ],
   "source": [
    "len(kmean.labels_)"
   ]
  },
  {
   "cell_type": "code",
   "execution_count": 6,
   "metadata": {
    "collapsed": false,
    "jupyter": {
     "outputs_hidden": false
    }
   },
   "outputs": [
    {
     "data": {
      "text/plain": [
       "array([0, 0, 0, 0, 0, 0, 0, 0, 0, 0])"
      ]
     },
     "execution_count": 6,
     "metadata": {},
     "output_type": "execute_result"
    }
   ],
   "source": [
    "kmean.labels_[1000:1010]"
   ]
  },
  {
   "cell_type": "code",
   "execution_count": 7,
   "metadata": {
    "collapsed": false,
    "jupyter": {
     "outputs_hidden": false
    }
   },
   "outputs": [
    {
     "data": {
      "text/plain": [
       "array(['data\\\\sci.crypt\\\\11475-15954', 'data\\\\sci.med\\\\._13133-59218',\n",
       "       'data\\\\sci.med\\\\._13072-59582', 'data\\\\sci.crypt\\\\11228-15855',\n",
       "       'data\\\\sci.med\\\\._13131-58806', 'data\\\\sci.space\\\\14343-60918',\n",
       "       'data\\\\sci.space\\\\14001-60226', 'data\\\\sci.space\\\\._14348-61339',\n",
       "       'data\\\\sci.space\\\\._14390-61342',\n",
       "       'data\\\\sci.electronics\\\\._12203-54305'], dtype='<U34')"
      ]
     },
     "execution_count": 7,
     "metadata": {},
     "output_type": "execute_result"
    }
   ],
   "source": [
    "docs.filenames[1000:1010]"
   ]
  },
  {
   "cell_type": "code",
   "execution_count": 9,
   "metadata": {
    "collapsed": false,
    "jupyter": {
     "outputs_hidden": false
    }
   },
   "outputs": [
    {
     "name": "stdout",
     "output_type": "stream",
     "text": [
      "Top terms per cluster:\n",
      "Cluster 0: it that for you edu be this on have are\n",
      "Cluster 1: oort cloud distribution gamma bursters are they ray that mechanism\n",
      "Cluster 2: afit af element elements mil tkelso ts kelso shuttle celestial\n",
      "Cluster 3: uga mcovingt covington ai georgia michael 706 542 0358 30602\n"
     ]
    }
   ],
   "source": [
    "from __future__ import print_function\n",
    "\n",
    "print(\"Top terms per cluster:\")\n",
    "\n",
    "order_centroids = kmean.cluster_centers_.argsort()[:, ::-1]\n",
    "\n",
    "terms = vectorizer.get_feature_names()\n",
    "for i in range(n_clusters):\n",
    "    print(\"Cluster %d:\" % i, end='')\n",
    "    for ind in order_centroids[i, :10]:\n",
    "        print(' %s' % terms[ind], end='')\n",
    "    print()"
   ]
  },
  {
   "cell_type": "code",
   "execution_count": 10,
   "metadata": {
    "collapsed": false,
    "jupyter": {
     "outputs_hidden": false
    }
   },
   "outputs": [
    {
     "data": {
      "text/plain": [
       "array([[3, 2, 0, 1],\n",
       "       [3, 1, 2, 0],\n",
       "       [1, 2, 3, 0]], dtype=int64)"
      ]
     },
     "execution_count": 10,
     "metadata": {},
     "output_type": "execute_result"
    }
   ],
   "source": [
    "a = np.array([[20, 10, 30, 40], [100, 300, 200, 400], [1, 5, 3, 2]])\n",
    "a.argsort()[:, ::-1]"
   ]
  },
  {
   "cell_type": "code",
   "execution_count": 11,
   "metadata": {
    "collapsed": false,
    "jupyter": {
     "outputs_hidden": false
    }
   },
   "outputs": [
    {
     "data": {
      "text/plain": [
       "array([3, 1, 2, 0], dtype=int64)"
      ]
     },
     "execution_count": 11,
     "metadata": {},
     "output_type": "execute_result"
    }
   ],
   "source": [
    "a = np.array([10, 30, 20, 40])\n",
    "a.argsort()[::-1]"
   ]
  },
  {
   "cell_type": "code",
   "execution_count": 12,
   "metadata": {
    "collapsed": false,
    "jupyter": {
     "outputs_hidden": false
    }
   },
   "outputs": [
    {
     "name": "stdout",
     "output_type": "stream",
     "text": [
      "Adjusted Rand-Index for random sample: -0.176\n",
      "Adjusted Rand-Index for same structure sample: 1.000\n"
     ]
    }
   ],
   "source": [
    "from sklearn import metrics\n",
    "\n",
    "label_true = np.random.randint(1, 4, 6)\n",
    "label_pred = np.random.randint(1, 4, 6)\n",
    "print(\"Adjusted Rand-Index for random sample: %.3f\"\n",
    "      % metrics.adjusted_rand_score(label_true, label_pred))\n",
    "label_true = [1, 1, 3, 3, 2, 2]\n",
    "label_pred = [3, 3, 2, 2, 1, 1]\n",
    "print(\"Adjusted Rand-Index for same structure sample: %.3f\"\n",
    "      % metrics.adjusted_rand_score(label_true, label_pred))"
   ]
  }
 ],
 "metadata": {
  "kernelspec": {
   "display_name": "Python 3 (ipykernel)",
   "language": "python",
   "name": "python3"
  },
  "language_info": {
   "codemirror_mode": {
    "name": "ipython",
    "version": 3
   },
   "file_extension": ".py",
   "mimetype": "text/x-python",
   "name": "python",
   "nbconvert_exporter": "python",
   "pygments_lexer": "ipython3",
   "version": "3.8.12"
  }
 },
 "nbformat": 4,
 "nbformat_minor": 4
}
