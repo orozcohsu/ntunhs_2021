{
 "cells": [
  {
   "cell_type": "code",
   "execution_count": 1,
   "metadata": {},
   "outputs": [
    {
     "name": "stdout",
     "output_type": "stream",
     "text": [
      "test123!\n"
     ]
    }
   ],
   "source": [
    "!python test.py"
   ]
  },
  {
   "cell_type": "markdown",
   "metadata": {},
   "source": [
    "# PRINT"
   ]
  },
  {
   "cell_type": "code",
   "execution_count": 2,
   "metadata": {},
   "outputs": [
    {
     "name": "stdout",
     "output_type": "stream",
     "text": [
      "test123\n"
     ]
    }
   ],
   "source": [
    "print(\"test123\")"
   ]
  },
  {
   "cell_type": "code",
   "execution_count": 3,
   "metadata": {},
   "outputs": [
    {
     "name": "stdout",
     "output_type": "stream",
     "text": [
      "USA\n",
      "Canada\n",
      "Germany\n",
      "France\n",
      "Japan\n"
     ]
    }
   ],
   "source": [
    "print(\"USA\")\n",
    "print(\"Canada\")\n",
    "print(\"Germany\")\n",
    "print(\"France\")\n",
    "print(\"Japan\")"
   ]
  },
  {
   "cell_type": "code",
   "execution_count": 4,
   "metadata": {},
   "outputs": [
    {
     "name": "stdout",
     "output_type": "stream",
     "text": [
      "\n",
      "\n",
      "\n",
      "\n",
      "\n",
      "\n",
      "\n",
      "\n",
      "\n"
     ]
    }
   ],
   "source": [
    "#print new line\n",
    "print (8 * \"\\n\")"
   ]
  },
  {
   "cell_type": "code",
   "execution_count": 5,
   "metadata": {},
   "outputs": [
    {
     "name": "stdout",
     "output_type": "stream",
     "text": [
      "\n",
      "\n",
      "\n",
      "\n",
      "\n",
      "\n",
      "\n",
      "\n",
      "\n",
      "\n"
     ]
    }
   ],
   "source": [
    "#print new line\n",
    "print (\"\\n\\n\\n\\n\\n\\n\\n\\n\\n\")"
   ]
  },
  {
   "cell_type": "code",
   "execution_count": 6,
   "metadata": {},
   "outputs": [
    {
     "name": "stdout",
     "output_type": "stream",
     "text": [
      "Welcome to Guru99\n",
      "\n",
      "\n",
      "\n",
      "\n",
      "\n",
      "\n",
      "\n",
      "\n",
      "\n",
      "Welcome to Guru99\n"
     ]
    }
   ],
   "source": [
    "print (\"Welcome to Guru99\")\n",
    "print (8 * \"\\n\")\n",
    "print (\"Welcome to Guru99\")"
   ]
  },
  {
   "cell_type": "code",
   "execution_count": 7,
   "metadata": {},
   "outputs": [
    {
     "name": "stdout",
     "output_type": "stream",
     "text": [
      "0\n",
      "guru99\n"
     ]
    }
   ],
   "source": [
    "# Declare a variable and initialize it\n",
    "f = 0\n",
    "print(f)\n",
    "# re-declaring the variable works\n",
    "f = 'guru99'\n",
    "print(f)"
   ]
  },
  {
   "cell_type": "code",
   "execution_count": 3,
   "metadata": {},
   "outputs": [
    {
     "ename": "TypeError",
     "evalue": "can only concatenate str (not \"int\") to str",
     "output_type": "error",
     "traceback": [
      "\u001b[1;31m---------------------------------------------------------------------------\u001b[0m",
      "\u001b[1;31mTypeError\u001b[0m                                 Traceback (most recent call last)",
      "\u001b[1;32m~\\AppData\\Local\\Temp/ipykernel_5040/3773954553.py\u001b[0m in \u001b[0;36m<module>\u001b[1;34m\u001b[0m\n\u001b[0;32m      1\u001b[0m \u001b[0ma\u001b[0m\u001b[1;33m=\u001b[0m\u001b[1;34m\"Guru\"\u001b[0m\u001b[1;33m\u001b[0m\u001b[1;33m\u001b[0m\u001b[0m\n\u001b[0;32m      2\u001b[0m \u001b[0mb\u001b[0m \u001b[1;33m=\u001b[0m \u001b[1;36m99\u001b[0m\u001b[1;33m\u001b[0m\u001b[1;33m\u001b[0m\u001b[0m\n\u001b[1;32m----> 3\u001b[1;33m \u001b[0mprint\u001b[0m\u001b[1;33m(\u001b[0m\u001b[0ma\u001b[0m\u001b[1;33m+\u001b[0m\u001b[0mb\u001b[0m\u001b[1;33m)\u001b[0m\u001b[1;33m\u001b[0m\u001b[1;33m\u001b[0m\u001b[0m\n\u001b[0m",
      "\u001b[1;31mTypeError\u001b[0m: can only concatenate str (not \"int\") to str"
     ]
    }
   ],
   "source": [
    "a=\"Guru\"\n",
    "b = 99\n",
    "print(a+b)"
   ]
  },
  {
   "cell_type": "code",
   "execution_count": 4,
   "metadata": {},
   "outputs": [
    {
     "name": "stdout",
     "output_type": "stream",
     "text": [
      "101\n",
      "I am learning Python\n",
      "I am learning Python\n"
     ]
    }
   ],
   "source": [
    "# Declare a variable and initialize it\n",
    "f = 101\n",
    "print(f)\n",
    "# Global vs. local variables in functions\n",
    "def someFunction():\n",
    "    global f\n",
    "    f = 'I am learning Python'\n",
    "    print(f)\n",
    "someFunction()\n",
    "print(f)"
   ]
  },
  {
   "cell_type": "code",
   "execution_count": 13,
   "metadata": {},
   "outputs": [
    {
     "name": "stdout",
     "output_type": "stream",
     "text": [
      "101\n",
      "101\n",
      "changing global variable\n"
     ]
    }
   ],
   "source": [
    "f = 101;\n",
    "print(f)\n",
    "# Global vs.local variables in functions\n",
    "def someFunction():\n",
    "    global f\n",
    "    print(f)\n",
    "    f = \"changing global variable\"\n",
    "someFunction()\n",
    "print(f)"
   ]
  },
  {
   "cell_type": "code",
   "execution_count": 9,
   "metadata": {},
   "outputs": [
    {
     "name": "stdout",
     "output_type": "stream",
     "text": [
      "11\n"
     ]
    },
    {
     "ename": "NameError",
     "evalue": "name 'f' is not defined",
     "output_type": "error",
     "traceback": [
      "\u001b[1;31m---------------------------------------------------------------------------\u001b[0m",
      "\u001b[1;31mNameError\u001b[0m                                 Traceback (most recent call last)",
      "\u001b[1;32m<ipython-input-9-8aa6d6f9ce82>\u001b[0m in \u001b[0;36m<module>\u001b[1;34m\u001b[0m\n\u001b[0;32m      2\u001b[0m \u001b[0mprint\u001b[0m\u001b[1;33m(\u001b[0m\u001b[0mf\u001b[0m\u001b[1;33m)\u001b[0m\u001b[1;33m\u001b[0m\u001b[1;33m\u001b[0m\u001b[0m\n\u001b[0;32m      3\u001b[0m \u001b[1;32mdel\u001b[0m \u001b[0mf\u001b[0m\u001b[1;33m\u001b[0m\u001b[1;33m\u001b[0m\u001b[0m\n\u001b[1;32m----> 4\u001b[1;33m \u001b[0mprint\u001b[0m\u001b[1;33m(\u001b[0m\u001b[0mf\u001b[0m\u001b[1;33m)\u001b[0m\u001b[1;33m\u001b[0m\u001b[1;33m\u001b[0m\u001b[0m\n\u001b[0m",
      "\u001b[1;31mNameError\u001b[0m: name 'f' is not defined"
     ]
    }
   ],
   "source": [
    "f = 11;\n",
    "print(f)\n",
    "del f\n",
    "print(f)"
   ]
  },
  {
   "cell_type": "markdown",
   "metadata": {},
   "source": [
    "# TUPLE"
   ]
  },
  {
   "cell_type": "code",
   "execution_count": 6,
   "metadata": {},
   "outputs": [
    {
     "data": {
      "text/plain": [
       "('Jan', 'feb', 'march')"
      ]
     },
     "execution_count": 6,
     "metadata": {},
     "output_type": "execute_result"
    }
   ],
   "source": [
    "#Tuple Syntax\n",
    "Tup = ('Jan','feb','march')\n",
    "Tup"
   ]
  },
  {
   "cell_type": "code",
   "execution_count": 11,
   "metadata": {},
   "outputs": [
    {
     "data": {
      "text/plain": [
       "()"
      ]
     },
     "execution_count": 11,
     "metadata": {},
     "output_type": "execute_result"
    }
   ],
   "source": [
    "tup1 = ();\n",
    "tup1"
   ]
  },
  {
   "cell_type": "code",
   "execution_count": 12,
   "metadata": {},
   "outputs": [
    {
     "data": {
      "text/plain": [
       "(50,)"
      ]
     },
     "execution_count": 12,
     "metadata": {},
     "output_type": "execute_result"
    }
   ],
   "source": [
    "Tup1 = (50,);\n",
    "Tup1"
   ]
  },
  {
   "cell_type": "code",
   "execution_count": 13,
   "metadata": {},
   "outputs": [
    {
     "name": "stdout",
     "output_type": "stream",
     "text": [
      "Robert\n",
      "(2, 3, 4)\n"
     ]
    }
   ],
   "source": [
    "#Tuple Assignment \n",
    "tup1 = ('Robert', 'Carlos','1965','Terminator 1995', 'Actor','Florida');\n",
    "tup2 = (1,2,3,4,5,6,7);\n",
    "print(tup1[0])\n",
    "print(tup2[1:4])"
   ]
  },
  {
   "cell_type": "code",
   "execution_count": 7,
   "metadata": {},
   "outputs": [
    {
     "ename": "ValueError",
     "evalue": "not enough values to unpack (expected 4, got 3)",
     "output_type": "error",
     "traceback": [
      "\u001b[1;31m---------------------------------------------------------------------------\u001b[0m",
      "\u001b[1;31mValueError\u001b[0m                                Traceback (most recent call last)",
      "\u001b[1;32m~\\AppData\\Local\\Temp/ipykernel_5040/237239828.py\u001b[0m in \u001b[0;36m<module>\u001b[1;34m\u001b[0m\n\u001b[0;32m      1\u001b[0m \u001b[1;31m#Packing and Unpacking\u001b[0m\u001b[1;33m\u001b[0m\u001b[1;33m\u001b[0m\u001b[1;33m\u001b[0m\u001b[0m\n\u001b[0;32m      2\u001b[0m \u001b[0mx\u001b[0m \u001b[1;33m=\u001b[0m \u001b[1;33m(\u001b[0m\u001b[1;34m\"Guru99\"\u001b[0m\u001b[1;33m,\u001b[0m \u001b[1;36m20\u001b[0m\u001b[1;33m,\u001b[0m \u001b[1;34m\"Education\"\u001b[0m\u001b[1;33m)\u001b[0m    \u001b[1;31m# tuple packing\u001b[0m\u001b[1;33m\u001b[0m\u001b[1;33m\u001b[0m\u001b[0m\n\u001b[1;32m----> 3\u001b[1;33m \u001b[1;33m(\u001b[0m\u001b[0mcompany\u001b[0m\u001b[1;33m,\u001b[0m \u001b[0memp\u001b[0m\u001b[1;33m,\u001b[0m \u001b[0mprofile\u001b[0m\u001b[1;33m,\u001b[0m \u001b[0maa\u001b[0m\u001b[1;33m)\u001b[0m \u001b[1;33m=\u001b[0m \u001b[0mx\u001b[0m    \u001b[1;31m# tuple unpacking\u001b[0m\u001b[1;33m\u001b[0m\u001b[1;33m\u001b[0m\u001b[0m\n\u001b[0m\u001b[0;32m      4\u001b[0m \u001b[0mprint\u001b[0m\u001b[1;33m(\u001b[0m\u001b[0mcompany\u001b[0m\u001b[1;33m)\u001b[0m\u001b[1;33m\u001b[0m\u001b[1;33m\u001b[0m\u001b[0m\n\u001b[0;32m      5\u001b[0m \u001b[0mprint\u001b[0m\u001b[1;33m(\u001b[0m\u001b[0memp\u001b[0m\u001b[1;33m)\u001b[0m\u001b[1;33m\u001b[0m\u001b[1;33m\u001b[0m\u001b[0m\n",
      "\u001b[1;31mValueError\u001b[0m: not enough values to unpack (expected 4, got 3)"
     ]
    }
   ],
   "source": [
    "#Packing and Unpacking\n",
    "x = (\"Guru99\", 20, \"Education\")    # tuple packing\n",
    "(company, emp, profile, aa) = x    # tuple unpacking\n",
    "print(company)\n",
    "print(emp)\n",
    "print(profile)"
   ]
  },
  {
   "cell_type": "code",
   "execution_count": 15,
   "metadata": {},
   "outputs": [
    {
     "name": "stdout",
     "output_type": "stream",
     "text": [
      "a is bigger\n"
     ]
    }
   ],
   "source": [
    "#Comparing tuples\n",
    "a=(5,6)\n",
    "b=(1,4)\n",
    "if (a>b):print(\"a is bigger\")\n",
    "else: print(\"b is bigger\")"
   ]
  },
  {
   "cell_type": "code",
   "execution_count": 8,
   "metadata": {},
   "outputs": [
    {
     "name": "stdout",
     "output_type": "stream",
     "text": [
      "[('x', 100), ('y', 200)]\n"
     ]
    }
   ],
   "source": [
    "#Tuples and dictionary\n",
    "a = {'x':100, 'y':200}\n",
    "b = list(a.items())\n",
    "print(b)"
   ]
  },
  {
   "cell_type": "code",
   "execution_count": 18,
   "metadata": {},
   "outputs": [
    {
     "data": {
      "text/plain": [
       "100"
      ]
     },
     "execution_count": 18,
     "metadata": {},
     "output_type": "execute_result"
    }
   ],
   "source": [
    "b[0][1]"
   ]
  },
  {
   "cell_type": "code",
   "execution_count": 20,
   "metadata": {},
   "outputs": [
    {
     "name": "stdout",
     "output_type": "stream",
     "text": [
      "('c', 'd')\n"
     ]
    }
   ],
   "source": [
    "#Slicing of Tuple\n",
    "x = (\"a\", \"b\",\"c\", \"d\", \"e\")\n",
    "print(x[2:4])"
   ]
  },
  {
   "cell_type": "code",
   "execution_count": 31,
   "metadata": {},
   "outputs": [
    {
     "data": {
      "text/plain": [
       "3"
      ]
     },
     "execution_count": 31,
     "metadata": {},
     "output_type": "execute_result"
    }
   ],
   "source": [
    "#Try\n",
    "x=(2,3,1)\n",
    "len(x)\n",
    "#all(), any(), enumerate(), max(), min(), sorted(), len()"
   ]
  },
  {
   "cell_type": "code",
   "execution_count": 35,
   "metadata": {},
   "outputs": [
    {
     "name": "stdout",
     "output_type": "stream",
     "text": [
      "1\n",
      "2\n",
      "3\n",
      "4\n"
     ]
    }
   ],
   "source": [
    "for i in (1,2,3,4):\n",
    "    print(i)\n"
   ]
  },
  {
   "cell_type": "code",
   "execution_count": 98,
   "metadata": {},
   "outputs": [
    {
     "name": "stdout",
     "output_type": "stream",
     "text": [
      "{'Tim': 18, 'Charlie': 12, 'Robert': 25}\n",
      "{'Tiffany': 22}\n"
     ]
    }
   ],
   "source": [
    "#dict\n",
    "Dict = {'Tim': 18,'Charlie':12,'Tiffany':22,'Robert':25}\n",
    "Boys = {'Tim': 18,'Charlie':12,'Robert':25}\n",
    "Girls = {'Tiffany':22}\n",
    "studentX=Boys.copy()\n",
    "studentY=Girls.copy()\n",
    "print(studentX)\n",
    "print(studentY)"
   ]
  },
  {
   "cell_type": "code",
   "execution_count": 52,
   "metadata": {},
   "outputs": [
    {
     "name": "stdout",
     "output_type": "stream",
     "text": [
      "{'Tim': 18, 'Charlie': 12, 'Tiffany': 22, 'Robert': 25, 'Sarah': 9}\n"
     ]
    }
   ],
   "source": [
    "#Updating Dictionary\n",
    "Dict = {'Tim': 18,'Charlie':12,'Tiffany':22,'Robert':25}\n",
    "Dict.update({\"Sarah\":9})\n",
    "print(Dict)"
   ]
  },
  {
   "cell_type": "code",
   "execution_count": 53,
   "metadata": {},
   "outputs": [
    {
     "name": "stdout",
     "output_type": "stream",
     "text": [
      "{'Tim': 18, 'Tiffany': 22, 'Robert': 25}\n"
     ]
    }
   ],
   "source": [
    "#Delete Keys from the dictionary\n",
    "Dict = {'Tim': 18,'Charlie':12,'Tiffany':22,'Robert':25}\n",
    "del Dict ['Charlie']\n",
    "print(Dict)"
   ]
  },
  {
   "cell_type": "code",
   "execution_count": 54,
   "metadata": {},
   "outputs": [
    {
     "name": "stdout",
     "output_type": "stream",
     "text": [
      "Students Name: [('Tim', 18), ('Charlie', 12), ('Tiffany', 22), ('Robert', 25)]\n"
     ]
    }
   ],
   "source": [
    "#Dictionary items() Method\n",
    "Dict = {'Tim': 18,'Charlie':12,'Tiffany':22,'Robert':25}\n",
    "print(\"Students Name: %s\" % list(Dict.items()))"
   ]
  },
  {
   "cell_type": "code",
   "execution_count": 36,
   "metadata": {},
   "outputs": [
    {
     "name": "stdout",
     "output_type": "stream",
     "text": [
      "True\n",
      "True\n",
      "True\n",
      "False\n"
     ]
    }
   ],
   "source": [
    "#Check if a given key already exists in a dictionary\n",
    "Dict = {'Tim': 18,'Charlie':12,'Tiffany':22,'Robert':25}\n",
    "Boys = {'Tim': 18,'Charlie':12,'Robert':25,'Orozco':22}\n",
    "Girls = {'Tiffany':22}\n",
    "for key in list(Boys.keys()):\n",
    "    if key in list(Dict.keys()):\n",
    "        print(True)\n",
    "    else:       \n",
    "        print(False)"
   ]
  },
  {
   "cell_type": "code",
   "execution_count": 99,
   "metadata": {},
   "outputs": [
    {
     "name": "stdout",
     "output_type": "stream",
     "text": [
      "Charlie\n",
      "Charlie:12\n",
      "Robert\n",
      "Robert:25\n",
      "Tiffany\n",
      "Tiffany:22\n",
      "Tim\n",
      "Tim:18\n"
     ]
    }
   ],
   "source": [
    "#Sorting the Dictionary\n",
    "Dict = {'Tim': 18,'Charlie':12,'Tiffany':22,'Robert':25}\n",
    "Students = list(Dict.keys())\n",
    "Students.sort()\n",
    "#S is the key of dict\n",
    "for S in Students:\n",
    "    print(\":\".join((S,str(Dict[S]))))"
   ]
  },
  {
   "cell_type": "code",
   "execution_count": 38,
   "metadata": {},
   "outputs": [
    {
     "name": "stdout",
     "output_type": "stream",
     "text": [
      "printable string:{'Tim': 18, 'Charlie': 12, 'Tiffany': 22, 'Robert': 25}\n"
     ]
    },
    {
     "data": {
      "text/plain": [
       "18"
      ]
     },
     "execution_count": 38,
     "metadata": {},
     "output_type": "execute_result"
    }
   ],
   "source": [
    "#convert to string\n",
    "Dict = {'Tim': 18,'Charlie':12,'Tiffany':22,'Robert':25}\n",
    "print(\"printable string:%s\" % str(Dict))\n",
    "Dict['Tim']"
   ]
  },
  {
   "cell_type": "code",
   "execution_count": 62,
   "metadata": {},
   "outputs": [
    {
     "name": "stdout",
     "output_type": "stream",
     "text": [
      "{'username': 'XYZ', 'email': 'xyz@gmail.com', 'location': 'Mumbai', 'firstName': 'Nick', 'lastName': 'Price'}\n"
     ]
    }
   ],
   "source": [
    "#Merging Dictionaries\n",
    "my_dict1 = {\"username\": \"XYZ\", \"email\": \"xyz@gmail.com\", \"location\":\"Mumbai\"}\n",
    "my_dict2 = {\"firstName\" : \"Nick\", \"lastName\": \"Price\"}\n",
    "my_dict1.update(my_dict2)\n",
    "\n",
    "print(my_dict1)"
   ]
  },
  {
   "cell_type": "code",
   "execution_count": 63,
   "metadata": {},
   "outputs": [
    {
     "name": "stdout",
     "output_type": "stream",
     "text": [
      "{'username': 'XYZ', 'email': 'xyz@gmail.com', 'location': 'Mumbai', 'firstName': 'Nick', 'lastName': 'Price'}\n"
     ]
    }
   ],
   "source": [
    "#Kwargs\n",
    "my_dict1 = {\"username\": \"XYZ\", \"email\": \"xyz@gmail.com\", \"location\":\"Mumbai\"}\n",
    "my_dict2 = {\"firstName\" : \"Nick\", \"lastName\": \"Price\"}\n",
    "\n",
    "my_dict =  {**my_dict1, **my_dict2} \n",
    "\n",
    "print(my_dict)"
   ]
  },
  {
   "cell_type": "code",
   "execution_count": 103,
   "metadata": {},
   "outputs": [
    {
     "name": "stdout",
     "output_type": "stream",
     "text": [
      "{'name': 'Sky', 'attack': 100, 'hp': 500}\n"
     ]
    }
   ],
   "source": [
    "#Kwargs\n",
    "def fun(**_settings):\n",
    "    print(_settings)\n",
    "\n",
    "fun(name='Sky', attack=100, hp=500)"
   ]
  },
  {
   "cell_type": "code",
   "execution_count": 39,
   "metadata": {},
   "outputs": [
    {
     "name": "stdout",
     "output_type": "stream",
     "text": [
      "{'Name': ['Guru', 'Guru99'], 'Address': ['Mumbai'], 'Age': [30]}\n"
     ]
    }
   ],
   "source": [
    "#Python Dictionary Append\n",
    "my_dict = {\"Name\":[],\"Address\":[],\"Age\":[]};\n",
    "\n",
    "my_dict[\"Name\"].append(\"Guru\")\n",
    "my_dict[\"Name\"].append(\"Guru99\")\n",
    "my_dict[\"Address\"].append(\"Mumbai\")\n",
    "my_dict[\"Age\"].append(30)\n",
    "print(my_dict)"
   ]
  },
  {
   "cell_type": "code",
   "execution_count": 102,
   "metadata": {},
   "outputs": [
    {
     "data": {
      "text/plain": [
       "{}"
      ]
     },
     "execution_count": 102,
     "metadata": {},
     "output_type": "execute_result"
    }
   ],
   "source": [
    "my_dict.clear()\n",
    "my_dict"
   ]
  },
  {
   "cell_type": "code",
   "execution_count": 67,
   "metadata": {},
   "outputs": [
    {
     "name": "stdout",
     "output_type": "stream",
     "text": [
      "{'email': 'xyz@gmail.com', 'location': 'Mumbai'}\n"
     ]
    }
   ],
   "source": [
    "#Deleting Element(s) from dictionary using pop() method\n",
    "my_dict = {\"username\": \"XYZ\", \"email\": \"xyz@gmail.com\", \"location\":\"Mumbai\"}\n",
    "my_dict.pop(\"username\")\n",
    "print(my_dict)"
   ]
  },
  {
   "cell_type": "code",
   "execution_count": 68,
   "metadata": {},
   "outputs": [
    {
     "name": "stdout",
     "output_type": "stream",
     "text": [
      "{'username': 'XYZ', 'email': 'xyz@gmail.com', 'location': 'Mumbai', 'name': 'Nick'}\n"
     ]
    }
   ],
   "source": [
    "#Appending element(s) to a dictionary\n",
    "my_dict = {\"username\": \"XYZ\", \"email\": \"xyz@gmail.com\", \"location\":\"Mumbai\"}\n",
    "my_dict['name']='Nick'\n",
    "\n",
    "print(my_dict)"
   ]
  },
  {
   "cell_type": "code",
   "execution_count": 69,
   "metadata": {},
   "outputs": [
    {
     "name": "stdout",
     "output_type": "stream",
     "text": [
      "{'username': 'ABC', 'email': 'xyz@gmail.com', 'location': 'Mumbai'}\n"
     ]
    }
   ],
   "source": [
    "#Updating existing element(s) in a dictionary\n",
    "my_dict = {\"username\": \"XYZ\", \"email\": \"xyz@gmail.com\", \"location\":\"Mumbai\"}\n",
    "\n",
    "my_dict[\"username\"] = \"ABC\"\n",
    "\n",
    "print(my_dict)"
   ]
  },
  {
   "cell_type": "code",
   "execution_count": 70,
   "metadata": {},
   "outputs": [
    {
     "name": "stdout",
     "output_type": "stream",
     "text": [
      "{'username': 'XYZ', 'email': 'xyz@gmail.com', 'location': 'Washington', 'name': {'firstName': 'Nick', 'lastName': 'Price'}}\n"
     ]
    }
   ],
   "source": [
    "#Insert a dictionary into another dictionary\n",
    "my_dict = {\"username\": \"XYZ\", \"email\": \"xyz@gmail.com\", \"location\":\"Washington\"}\n",
    "\n",
    "my_dict1 = {\"firstName\" : \"Nick\", \"lastName\": \"Price\"}\n",
    "\n",
    "my_dict[\"name\"] = my_dict1\n",
    "\n",
    "print(my_dict)"
   ]
  },
  {
   "cell_type": "markdown",
   "metadata": {},
   "source": [
    "# OPERATOR"
   ]
  },
  {
   "cell_type": "code",
   "execution_count": 104,
   "metadata": {},
   "outputs": [
    {
     "name": "stdout",
     "output_type": "stream",
     "text": [
      "9\n"
     ]
    }
   ],
   "source": [
    "#Arithmetic Operators\n",
    "x= 4\n",
    "y= 5\n",
    "print(x + y)"
   ]
  },
  {
   "cell_type": "code",
   "execution_count": 105,
   "metadata": {},
   "outputs": [
    {
     "name": "stdout",
     "output_type": "stream",
     "text": [
      "('x > y  is', False)\n"
     ]
    }
   ],
   "source": [
    "#Comparison Operators\n",
    "x = 4\n",
    "y = 5\n",
    "print(('x > y  is',x>y))"
   ]
  },
  {
   "cell_type": "code",
   "execution_count": 106,
   "metadata": {},
   "outputs": [
    {
     "name": "stdout",
     "output_type": "stream",
     "text": [
      "('Line 1 - Result of + is ', 13)\n"
     ]
    }
   ],
   "source": [
    "num1 = 4\n",
    "num2 = 5\n",
    "res = num1 + num2\n",
    "res += num1\n",
    "print((\"Line 1 - Result of + is \", res))"
   ]
  },
  {
   "cell_type": "code",
   "execution_count": 107,
   "metadata": {},
   "outputs": [
    {
     "name": "stdout",
     "output_type": "stream",
     "text": [
      "('a and b is', False)\n",
      "('a or b is', True)\n",
      "('not a is', False)\n"
     ]
    }
   ],
   "source": [
    "#Logical Operators or Bitwise Operators\n",
    "a = True\n",
    "b = False\n",
    "print(('a and b is',a and b))\n",
    "print(('a or b is',a or b))\n",
    "print(('not a is',not a))"
   ]
  },
  {
   "cell_type": "code",
   "execution_count": 76,
   "metadata": {},
   "outputs": [
    {
     "name": "stdout",
     "output_type": "stream",
     "text": [
      "Line 1 - x is available in the given list\n",
      "Line 2 - y is not available in the given list\n"
     ]
    }
   ],
   "source": [
    "#Membership Operators\n",
    "x = 4\n",
    "y = 8\n",
    "list = [1, 2, 3, 4, 5 ];\n",
    "if ( x in list ):\n",
    "    print(\"Line 1 - x is available in the given list\")\n",
    "else:\n",
    "    print(\"Line 1 - x is not available in the given list\")\n",
    "if ( y not in list ):\n",
    "    print(\"Line 2 - y is not available in the given list\")\n",
    "else:\n",
    "    print(\"Line 2 - y is available in the given list\")"
   ]
  },
  {
   "cell_type": "code",
   "execution_count": 116,
   "metadata": {},
   "outputs": [
    {
     "name": "stdout",
     "output_type": "stream",
     "text": [
      "x & y  SAME identity\n",
      "x & y have DIFFERENT identity\n"
     ]
    }
   ],
   "source": [
    "#Identity Operators\n",
    "x = 20\n",
    "y = 20\n",
    "if ( x is y ): \n",
    "    print(\"x & y  SAME identity\")\n",
    "y=30\n",
    "if ( x is not y ):\n",
    "    print(\"x & y have DIFFERENT identity\")"
   ]
  },
  {
   "cell_type": "markdown",
   "metadata": {},
   "source": [
    "# ARRAY"
   ]
  },
  {
   "cell_type": "code",
   "execution_count": 123,
   "metadata": {},
   "outputs": [
    {
     "name": "stdout",
     "output_type": "stream",
     "text": [
      "200\n"
     ]
    }
   ],
   "source": [
    "#array\n",
    "import array\n",
    "balance = array.array('i', [300,200,100])\n",
    "print(balance[1])"
   ]
  },
  {
   "cell_type": "code",
   "execution_count": 79,
   "metadata": {},
   "outputs": [
    {
     "name": "stdout",
     "output_type": "stream",
     "text": [
      "Array first element is: 2.5\n",
      "Array last element is: 6.7\n"
     ]
    }
   ],
   "source": [
    "import array as myarray\n",
    "abc = myarray.array('d', [2.5, 4.9, 6.7])\n",
    "print(\"Array first element is:\",abc[0]) \n",
    "print(\"Array last element is:\",abc[-1])"
   ]
  },
  {
   "cell_type": "code",
   "execution_count": 80,
   "metadata": {},
   "outputs": [
    {
     "name": "stdout",
     "output_type": "stream",
     "text": [
      "array('q', [9, 6, 5])\n",
      "array('q', [22, 30, 25])\n"
     ]
    }
   ],
   "source": [
    "import array as myarray\n",
    "abc= myarray.array('q',[3,9,6,5,20,13,19,22,30,25]) \n",
    "print(abc[1:4])\n",
    "print(abc[7:10])"
   ]
  },
  {
   "cell_type": "code",
   "execution_count": 44,
   "metadata": {},
   "outputs": [
    {
     "name": "stdout",
     "output_type": "stream",
     "text": [
      "array('i', [300, 150, 200, 100])\n"
     ]
    }
   ],
   "source": [
    "#insert elements?\n",
    "import array\n",
    "balance = array.array('i', [300,200,100])\n",
    "balance.insert(-2, 150)\n",
    "print(balance)"
   ]
  },
  {
   "cell_type": "code",
   "execution_count": 83,
   "metadata": {},
   "outputs": [
    {
     "name": "stdout",
     "output_type": "stream",
     "text": [
      "array('b', [99, 6, 4, 8, 10, 12, 14, 16, 18, 20])\n"
     ]
    }
   ],
   "source": [
    "#modify elements\n",
    "import array as myarr \n",
    "a=myarr.array('b',[3,6,4,8,10,12,14,16,18,20]) \n",
    "a[0]=99 \n",
    "print(a) "
   ]
  },
  {
   "cell_type": "code",
   "execution_count": 129,
   "metadata": {},
   "outputs": [
    {
     "name": "stdout",
     "output_type": "stream",
     "text": [
      "array('b', [4, 6, 8, 9, 12, 15])\n"
     ]
    }
   ],
   "source": [
    "import array as myarr \n",
    "first = myarr.array('b', [4, 6, 8]) \n",
    "second = myarr.array('b', [9, 12, 15]) \n",
    "numbers = myarr.array('b')   \n",
    "numbers = first + second \n",
    "print(numbers)"
   ]
  },
  {
   "cell_type": "code",
   "execution_count": 85,
   "metadata": {},
   "outputs": [
    {
     "name": "stdout",
     "output_type": "stream",
     "text": [
      "array('b', [20, 25])\n"
     ]
    }
   ],
   "source": [
    "#pop an element from Array\n",
    "import array as myarr \n",
    "first = myarr.array('b', [20, 25, 30]) \n",
    "first.pop(2) \n",
    "print(first)"
   ]
  },
  {
   "cell_type": "code",
   "execution_count": 86,
   "metadata": {},
   "outputs": [
    {
     "name": "stdout",
     "output_type": "stream",
     "text": [
      "array('b', [10, 4, 5, 5])\n"
     ]
    }
   ],
   "source": [
    "import array as myarr \n",
    "no = myarr.array('b', [10, 4, 5, 5, 7]) \n",
    "del no[4]  \n",
    "print(no)"
   ]
  },
  {
   "cell_type": "code",
   "execution_count": 87,
   "metadata": {},
   "outputs": [
    {
     "name": "stdout",
     "output_type": "stream",
     "text": [
      "array('b', [2, 4])\n"
     ]
    }
   ],
   "source": [
    "#delete elements\n",
    "import array as myarray\n",
    "first = myarray.array('b', [2, 3, 4]) \n",
    "first.remove(3) \n",
    "print(first)"
   ]
  },
  {
   "cell_type": "code",
   "execution_count": 88,
   "metadata": {},
   "outputs": [
    {
     "name": "stdout",
     "output_type": "stream",
     "text": [
      "1\n"
     ]
    }
   ],
   "source": [
    "#Search and get the index of a value in an Array\n",
    "import array as myarray\n",
    "number = myarray.array('b', [2, 3, 4, 5, 6])              \n",
    "print(number.index(3))"
   ]
  },
  {
   "cell_type": "code",
   "execution_count": 89,
   "metadata": {},
   "outputs": [
    {
     "name": "stdout",
     "output_type": "stream",
     "text": [
      "array('b', [3, 2, 1])\n"
     ]
    }
   ],
   "source": [
    "#Reverse an Array\n",
    "import array as myarray\n",
    "number = myarray.array('b', [1,2, 3])   \n",
    "number.reverse()           \n",
    "print(number)"
   ]
  },
  {
   "cell_type": "code",
   "execution_count": 90,
   "metadata": {},
   "outputs": [
    {
     "name": "stdout",
     "output_type": "stream",
     "text": [
      "4\n"
     ]
    }
   ],
   "source": [
    "#Count the occurrence of a Value in Array \n",
    "import array as myarr\n",
    "number = myarr.array('b', [2, 3, 5, 4,3,3,3]) \n",
    "print(number.count(3))"
   ]
  },
  {
   "cell_type": "code",
   "execution_count": 130,
   "metadata": {},
   "outputs": [
    {
     "name": "stdout",
     "output_type": "stream",
     "text": [
      "300\n",
      "200\n",
      "100\n"
     ]
    }
   ],
   "source": [
    "#Traverse an Array\n",
    "import array\n",
    "balance = array.array('i', [300,200,100])\n",
    "for x in balance:\n",
    "    print(x)"
   ]
  },
  {
   "cell_type": "code",
   "execution_count": 131,
   "metadata": {},
   "outputs": [
    {
     "ename": "TypeError",
     "evalue": "an integer is required (got type str)",
     "output_type": "error",
     "traceback": [
      "\u001b[1;31m---------------------------------------------------------------------------\u001b[0m",
      "\u001b[1;31mTypeError\u001b[0m                                 Traceback (most recent call last)",
      "\u001b[1;32m<ipython-input-131-4469c9d8d82b>\u001b[0m in \u001b[0;36m<module>\u001b[1;34m\u001b[0m\n\u001b[1;32m----> 1\u001b[1;33m \u001b[0marray\u001b[0m\u001b[1;33m.\u001b[0m\u001b[0marray\u001b[0m\u001b[1;33m(\u001b[0m\u001b[1;34m'i'\u001b[0m\u001b[1;33m,\u001b[0m \u001b[1;33m[\u001b[0m\u001b[1;34m'a'\u001b[0m\u001b[1;33m,\u001b[0m\u001b[1;36m200\u001b[0m\u001b[1;33m,\u001b[0m\u001b[1;36m100\u001b[0m\u001b[1;33m]\u001b[0m\u001b[1;33m)\u001b[0m\u001b[1;33m\u001b[0m\u001b[1;33m\u001b[0m\u001b[0m\n\u001b[0m",
      "\u001b[1;31mTypeError\u001b[0m: an integer is required (got type str)"
     ]
    }
   ],
   "source": [
    "#array data type\n",
    "array.array('i', ['a',200,100])"
   ]
  },
  {
   "cell_type": "code",
   "execution_count": 135,
   "metadata": {},
   "outputs": [
    {
     "name": "stdout",
     "output_type": "stream",
     "text": [
      "[1, 2, 3, 'ok']\n"
     ]
    }
   ],
   "source": [
    "#list data type\n",
    "import numpy as np\n",
    "lst=np.list=[1,2,3,'ok']\n",
    "print(lst)"
   ]
  },
  {
   "cell_type": "markdown",
   "metadata": {},
   "source": [
    "# CONDITIONAL LOOPS"
   ]
  },
  {
   "cell_type": "code",
   "execution_count": 92,
   "metadata": {},
   "outputs": [
    {
     "name": "stdout",
     "output_type": "stream",
     "text": [
      "x is less than y\n"
     ]
    }
   ],
   "source": [
    "#Python if Statement \n",
    "def main():\n",
    "    x,y =2,8\n",
    "    if(x < y):\n",
    "        st= \"x is less than y\"\n",
    "    print(st)\n",
    "\n",
    "main()"
   ]
  },
  {
   "cell_type": "code",
   "execution_count": 93,
   "metadata": {},
   "outputs": [
    {
     "name": "stdout",
     "output_type": "stream",
     "text": [
      "x is greater than y\n"
     ]
    }
   ],
   "source": [
    "#else condition\n",
    "def main():\n",
    "    x,y =8,4\n",
    "\n",
    "    if(x < y):\n",
    "        st= \"x is less than y\"\n",
    "    else:\n",
    "        st= \"x is greater than y\"\n",
    "    print (st)\n",
    "main()"
   ]
  },
  {
   "cell_type": "code",
   "execution_count": 46,
   "metadata": {},
   "outputs": [
    {
     "name": "stdout",
     "output_type": "stream",
     "text": [
      "x is same as y\n"
     ]
    }
   ],
   "source": [
    "#elif condition\n",
    "def main():\n",
    "    x,y =8,8\n",
    "\n",
    "    if(x < y):\n",
    "        st= \"x is less than y\"\n",
    "\n",
    "    elif (x is y):\n",
    "        st= \"x is same as y\"\n",
    "    \n",
    "    else:\n",
    "        st=\"x is greater than y\"\n",
    "    print(st)\n",
    "\n",
    "main()"
   ]
  },
  {
   "cell_type": "code",
   "execution_count": 96,
   "metadata": {},
   "outputs": [
    {
     "name": "stdout",
     "output_type": "stream",
     "text": [
      "x is greater than or equal to y\n"
     ]
    }
   ],
   "source": [
    "#conditional statement with minimal code\n",
    "def main():\n",
    "    x,y = 10,8\n",
    "    st = \"x is less than y\" if (x < y) else \"x is greater than or equal to y\"\n",
    "    print(st)\n",
    "main()"
   ]
  },
  {
   "cell_type": "code",
   "execution_count": 97,
   "metadata": {},
   "outputs": [
    {
     "name": "stdout",
     "output_type": "stream",
     "text": [
      "Shipping Cost is $25\n"
     ]
    }
   ],
   "source": [
    "#Nested if Statement\n",
    "total = 100\n",
    "#country = \"US\"\n",
    "country = \"AU\"\n",
    "if country == \"US\":\n",
    "    if total <= 50:\n",
    "        print(\"Shipping Cost is  $50\")\n",
    "elif total <= 100:\n",
    "        print(\"Shipping Cost is $25\")\n",
    "elif total <= 150:\n",
    "    print(\"Shipping Costs $5\")\n",
    "else:\n",
    "        print(\"FREE\")\n",
    "if country == \"AU\": \n",
    "    if total <= 50:\n",
    "        print(\"Shipping Cost is  $100\")\n",
    "else:\n",
    "    print(\"FREE\")"
   ]
  },
  {
   "cell_type": "code",
   "execution_count": 49,
   "metadata": {},
   "outputs": [
    {
     "name": "stdout",
     "output_type": "stream",
     "text": [
      "aaaa\n"
     ]
    }
   ],
   "source": [
    "#Switch Case Statement\n",
    "def SwitchExample(argument):\n",
    "    switcher = {\n",
    "        0: \" This is Case Zero \",\n",
    "        1: \" This is Case One \",\n",
    "        2: \" This is Case Two \",\n",
    "    }\n",
    "    return switcher.get(argument,'aaaa')\n",
    "\n",
    "\n",
    "argument = 5\n",
    "print (SwitchExample(argument))"
   ]
  },
  {
   "cell_type": "code",
   "execution_count": 51,
   "metadata": {},
   "outputs": [
    {
     "name": "stdout",
     "output_type": "stream",
     "text": [
      "0\n",
      "1\n",
      "2\n",
      "3\n"
     ]
    }
   ],
   "source": [
    "#While Loop\n",
    "x=0\n",
    "#define a while loop\n",
    "while(x <4):\n",
    "    print(x)\n",
    "    x +=1"
   ]
  },
  {
   "cell_type": "code",
   "execution_count": 53,
   "metadata": {},
   "outputs": [
    {
     "name": "stdout",
     "output_type": "stream",
     "text": [
      "2\n",
      "3\n",
      "4\n",
      "5\n",
      "6\n",
      "7\n"
     ]
    }
   ],
   "source": [
    "#for loop\n",
    "x=10000\n",
    "for x in range(2,8):\n",
    "    print(x)"
   ]
  },
  {
   "cell_type": "code",
   "execution_count": 138,
   "metadata": {},
   "outputs": [
    {
     "name": "stdout",
     "output_type": "stream",
     "text": [
      "Jan\n",
      "Feb\n",
      "Mar\n",
      "April\n",
      "May\n",
      "June\n"
     ]
    }
   ],
   "source": [
    "#For Loop for String\n",
    "Months = [\"Jan\",\"Feb\",\"Mar\",\"April\",\"May\",\"June\"]\n",
    "for m in Months:\n",
    "    print(m)"
   ]
  },
  {
   "cell_type": "markdown",
   "metadata": {},
   "source": [
    "# BREAK, CONTINUE, PASS"
   ]
  },
  {
   "cell_type": "code",
   "execution_count": 142,
   "metadata": {},
   "outputs": [
    {
     "name": "stdout",
     "output_type": "stream",
     "text": [
      "11\n",
      "13\n"
     ]
    }
   ],
   "source": [
    "#break statements in For Loop\n",
    "for x in range (10,20):\n",
    "    if (x == 15): break\n",
    "    if (x % 2 == 0) : continue\n",
    "    print(x)"
   ]
  },
  {
   "cell_type": "code",
   "execution_count": 144,
   "metadata": {},
   "outputs": [
    {
     "name": "stdout",
     "output_type": "stream",
     "text": [
      "11\n",
      "12\n",
      "13\n",
      "14\n"
     ]
    }
   ],
   "source": [
    "#continue statement” in For Loop\n",
    "for x in range (10,20):\n",
    "    if (x == 15): break\n",
    "    if (x % 5 == 0) : continue\n",
    "    print(x)"
   ]
  },
  {
   "cell_type": "code",
   "execution_count": 55,
   "metadata": {},
   "outputs": [
    {
     "name": "stdout",
     "output_type": "stream",
     "text": [
      "Jan\n",
      "Feb\n",
      "Mar\n",
      "April\n",
      "May\n",
      "June\n"
     ]
    }
   ],
   "source": [
    "#enumerate() in Python\n",
    "Months = [\"Jan\",\"Feb\",\"Mar\",\"April\",\"May\",\"June\"]\n",
    "for i, m in enumerate (Months):\n",
    "    print(m)"
   ]
  },
  {
   "cell_type": "code",
   "execution_count": 57,
   "metadata": {},
   "outputs": [
    {
     "name": "stdout",
     "output_type": "stream",
     "text": [
      "a\n",
      "b\n",
      "c\n"
     ]
    },
    {
     "data": {
      "text/plain": [
       "'a'"
      ]
     },
     "execution_count": 57,
     "metadata": {},
     "output_type": "execute_result"
    }
   ],
   "source": [
    "#try\n",
    "for i in 'abc':\n",
    "    print(i)\n",
    "a='abc'\n",
    "a[0:1]"
   ]
  },
  {
   "cell_type": "code",
   "execution_count": 147,
   "metadata": {},
   "outputs": [
    {
     "name": "stdout",
     "output_type": "stream",
     "text": [
      "Siya\n",
      "Tiya\n",
      "Guru\n",
      "Found the name Guru\n",
      "Loop is Terminated\n"
     ]
    }
   ],
   "source": [
    "#break statement\n",
    "my_list = ['Siya', 'Tiya', 'Guru', 'Daksh', 'Riya', 'Guru'] \n",
    "\n",
    "for i in range(len(my_list)):\n",
    "    print(my_list[i])\n",
    "    if my_list[i] == 'Guru':\n",
    "        print('Found the name Guru')\n",
    "        break\n",
    "        print('After break statement')\n",
    "\n",
    "print('Loop is Terminated')"
   ]
  },
  {
   "cell_type": "code",
   "execution_count": 58,
   "metadata": {},
   "outputs": [
    {
     "name": "stdout",
     "output_type": "stream",
     "text": [
      "0\n",
      "1\n",
      "2\n",
      "3\n",
      "4\n",
      "5\n"
     ]
    }
   ],
   "source": [
    "for i in range(6):\n",
    "    print(i)"
   ]
  },
  {
   "cell_type": "code",
   "execution_count": 109,
   "metadata": {},
   "outputs": [
    {
     "name": "stdout",
     "output_type": "stream",
     "text": [
      "Siya\n",
      "Tiya\n",
      "Guru\n",
      "Found the name Guru\n",
      "After while-loop exit\n"
     ]
    }
   ],
   "source": [
    "#Break statement inside while-loop\n",
    "my_list = ['Siya', 'Tiya', 'Guru', 'Daksh', 'Riya', 'Guru'] \n",
    "i = 0\n",
    "\n",
    "while True:\n",
    "    print(my_list[i])\n",
    "    if (my_list[i] == 'Guru'):\n",
    "        print('Found the name Guru')\n",
    "        break\n",
    "        print('After break statement')\n",
    "    i += 1\n",
    "\n",
    "print('After while-loop exit')"
   ]
  },
  {
   "cell_type": "code",
   "execution_count": 148,
   "metadata": {},
   "outputs": [
    {
     "name": "stdout",
     "output_type": "stream",
     "text": [
      "The number is  0 0\n",
      "The number is  0 1\n",
      "The number is  1 0\n",
      "The number is  1 1\n",
      "The number is  2 0\n",
      "The number is  2 1\n",
      "The number is  3 0\n",
      "The number is  3 1\n"
     ]
    }
   ],
   "source": [
    "#Break Statement inside nested loops\n",
    "for i in range(4):\n",
    "    for j in range(4):          \n",
    "        if j==2:    \n",
    "            break\n",
    "        print(\"The number is \",i,j);  "
   ]
  },
  {
   "cell_type": "code",
   "execution_count": 149,
   "metadata": {},
   "outputs": [
    {
     "name": "stdout",
     "output_type": "stream",
     "text": [
      "The Number is : 0\n",
      "The Number is : 1\n",
      "The Number is : 2\n",
      "The Number is : 3\n",
      "The Number is : 4\n",
      "The Number is : 5\n",
      "The Number is : 6\n",
      "The Number is : 8\n",
      "The Number is : 9\n"
     ]
    }
   ],
   "source": [
    "#Continue inside for-loop\n",
    "for i in range(10):    \n",
    "    if i == 7:\n",
    "        continue  \n",
    "    print(\"The Number is :\" , i)"
   ]
  },
  {
   "cell_type": "code",
   "execution_count": 60,
   "metadata": {},
   "outputs": [],
   "source": [
    "#pass\n",
    "def my_func():\n",
    "    pass\n",
    "my_func()"
   ]
  },
  {
   "cell_type": "code",
   "execution_count": 151,
   "metadata": {},
   "outputs": [
    {
     "name": "stdout",
     "output_type": "stream",
     "text": [
      "G\n",
      "u\n",
      "Pass executed\n",
      "r\n",
      "u\n"
     ]
    }
   ],
   "source": [
    "# Pass statement in for-loop\n",
    "test = \"Guru\"\n",
    "for i in test: \n",
    "    if i == 'r': \n",
    "        print('Pass executed') \n",
    "        pass\n",
    "    print(i)"
   ]
  },
  {
   "cell_type": "markdown",
   "metadata": {},
   "source": [
    "# OOP"
   ]
  },
  {
   "cell_type": "code",
   "execution_count": 152,
   "metadata": {},
   "outputs": [
    {
     "name": "stdout",
     "output_type": "stream",
     "text": [
      "Guru99\n",
      "Software Testing: Testing is fun\n"
     ]
    }
   ],
   "source": [
    "#class\n",
    "class myClass():\n",
    "    def method1(self):\n",
    "        print(\"Guru99\")\n",
    "        \n",
    "    def method2(self,someString):    \n",
    "        print(\"Software Testing:\" + someString)\n",
    "\n",
    "def main():           \n",
    "    c = myClass ()\n",
    "    c.method1()\n",
    "    c.method2(\" Testing is fun\")\n",
    "    \n",
    "main()"
   ]
  },
  {
   "cell_type": "code",
   "execution_count": 153,
   "metadata": {},
   "outputs": [
    {
     "name": "stdout",
     "output_type": "stream",
     "text": [
      "Guru99\n"
     ]
    }
   ],
   "source": [
    "#Inheritance works\n",
    "class myClass():\n",
    "    def method1(self):\n",
    "        print(\"Guru99\")\n",
    "        \n",
    "class childClass(myClass):\n",
    "    def method2(self):\n",
    "        print(\"childClass method2\")    \n",
    "\n",
    "def main():           \n",
    "    c2 = childClass()\n",
    "    c2.method1()\n",
    "    \n",
    "main()"
   ]
  },
  {
   "cell_type": "code",
   "execution_count": 154,
   "metadata": {},
   "outputs": [
    {
     "name": "stdout",
     "output_type": "stream",
     "text": [
      "Welcome to Guru99, Alex\n"
     ]
    }
   ],
   "source": [
    "#Constructors\n",
    "class User:\n",
    "    name = \"\"\n",
    "\n",
    "    def __init__(self, name):\n",
    "        self.name = name\n",
    "\n",
    "    def sayHello(self):\n",
    "        print(\"Welcome to Guru99, \" + self.name)\n",
    "\n",
    "User1 = User(\"Alex\")\n",
    "User1.sayHello()"
   ]
  },
  {
   "cell_type": "code",
   "execution_count": null,
   "metadata": {},
   "outputs": [],
   "source": []
  }
 ],
 "metadata": {
  "kernelspec": {
   "display_name": "Python 3 (ipykernel)",
   "language": "python",
   "name": "python3"
  },
  "language_info": {
   "codemirror_mode": {
    "name": "ipython",
    "version": 3
   },
   "file_extension": ".py",
   "mimetype": "text/x-python",
   "name": "python",
   "nbconvert_exporter": "python",
   "pygments_lexer": "ipython3",
   "version": "3.8.12"
  }
 },
 "nbformat": 4,
 "nbformat_minor": 4
}
