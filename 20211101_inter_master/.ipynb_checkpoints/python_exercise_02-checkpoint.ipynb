{
 "cells": [
  {
   "cell_type": "markdown",
   "metadata": {},
   "source": [
    "# STRING"
   ]
  },
  {
   "cell_type": "code",
   "execution_count": 1,
   "metadata": {},
   "outputs": [
    {
     "name": "stdout",
     "output_type": "stream",
     "text": [
      "Hello \n",
      "Hello Guru99\n"
     ]
    }
   ],
   "source": [
    "#string\n",
    "x = \"Hello World!\"\n",
    "print(x[:6]) \n",
    "print(x[0:6] + \"Guru99\")"
   ]
  },
  {
   "cell_type": "code",
   "execution_count": 2,
   "metadata": {},
   "outputs": [
    {
     "name": "stdout",
     "output_type": "stream",
     "text": [
      "I love Guru99\n"
     ]
    }
   ],
   "source": [
    "#String replace()\n",
    "oldstring = 'I like Guru99' \n",
    "newstring = oldstring.replace('like', 'love')\n",
    "print(newstring)"
   ]
  },
  {
   "cell_type": "code",
   "execution_count": 3,
   "metadata": {},
   "outputs": [
    {
     "name": "stdout",
     "output_type": "stream",
     "text": [
      "PYTHON AT GURU99\n"
     ]
    }
   ],
   "source": [
    "#Changing upper and lower case strings\n",
    "string=\"python at guru99\"\n",
    "print(string.upper())"
   ]
  },
  {
   "cell_type": "code",
   "execution_count": 4,
   "metadata": {},
   "outputs": [
    {
     "name": "stdout",
     "output_type": "stream",
     "text": [
      "Python at guru99\n"
     ]
    }
   ],
   "source": [
    "string=\"python at guru99\"\t\t\n",
    "print(string.capitalize())"
   ]
  },
  {
   "cell_type": "code",
   "execution_count": 5,
   "metadata": {},
   "outputs": [
    {
     "name": "stdout",
     "output_type": "stream",
     "text": [
      "P:y:t:h:o:n\n"
     ]
    }
   ],
   "source": [
    "#join function\n",
    "print(\":\".join(\"Python\"))"
   ]
  },
  {
   "cell_type": "code",
   "execution_count": 6,
   "metadata": {},
   "outputs": [
    {
     "name": "stdout",
     "output_type": "stream",
     "text": [
      "54321\n"
     ]
    }
   ],
   "source": [
    "#Reversing String\n",
    "string=\"12345\"\t\t\n",
    "print(''.join(reversed(string)))\n"
   ]
  },
  {
   "cell_type": "code",
   "execution_count": 7,
   "metadata": {},
   "outputs": [
    {
     "name": "stdout",
     "output_type": "stream",
     "text": [
      "['guru99', 'career', 'guru99']\n"
     ]
    }
   ],
   "source": [
    "#Split Strings\n",
    "word=\"guru99 career guru99\"\t\t\n",
    "print(word.split(' '))"
   ]
  },
  {
   "cell_type": "code",
   "execution_count": 7,
   "metadata": {},
   "outputs": [
    {
     "name": "stdout",
     "output_type": "stream",
     "text": [
      "Python\n"
     ]
    }
   ],
   "source": [
    "#replace\n",
    "x = \"Guru99\"\n",
    "\n",
    "#Strings are immutable. \n",
    "x = x.replace(\"Guru99\",\"Python\")\n",
    "print(x)"
   ]
  },
  {
   "cell_type": "code",
   "execution_count": 8,
   "metadata": {},
   "outputs": [
    {
     "name": "stdout",
     "output_type": "stream",
     "text": [
      "Welcome to Guru99!\n",
      "Welcome to Guru\n",
      "Welcome to Guru99!\n"
     ]
    }
   ],
   "source": [
    "#strip\n",
    "str1 = \"****Welcome to Guru99!****\"\n",
    "after_strip = str1.strip(\"*\")\n",
    "print(after_strip)\n",
    "\n",
    "str2 = \"Welcome to Guru99!\"\n",
    "after_strip1 = str2.strip(\"99!\")\n",
    "print(after_strip1)\n",
    "str3 = \"Welcome to Guru99!\"\n",
    "after_strip3 = str3.strip(\"to\")\n",
    "print(after_strip3)"
   ]
  },
  {
   "cell_type": "code",
   "execution_count": 9,
   "metadata": {},
   "outputs": [
    {
     "name": "stdout",
     "output_type": "stream",
     "text": [
      "The count of 'to' is 2\n",
      "The count of 'to' usingstart/end is 1\n"
     ]
    }
   ],
   "source": [
    "# Count occurrence of substring\n",
    "str1 = \"Welcome to Guru99 - Free Training Tutorials and Videos for IT Courses\"\n",
    "str_count1 = str1.count('to') # counting the substring “to” in the givenstring\n",
    "print(\"The count of 'to' is\", str_count1)\n",
    "str_count2 = str1.count('to', 6,15)\n",
    "print(\"The count of 'to' usingstart/end is\", str_count2)"
   ]
  },
  {
   "cell_type": "code",
   "execution_count": 10,
   "metadata": {},
   "outputs": [
    {
     "name": "stdout",
     "output_type": "stream",
     "text": [
      "Welcome to Guru99 tutorials\n"
     ]
    }
   ],
   "source": [
    "#string format()\n",
    "print (\"Welcome to {} tutorials\".format(\"Guru99\"))"
   ]
  },
  {
   "cell_type": "code",
   "execution_count": 11,
   "metadata": {},
   "outputs": [
    {
     "name": "stdout",
     "output_type": "stream",
     "text": [
      "Welcome to Guru99 Tutorials\n"
     ]
    }
   ],
   "source": [
    "print (\"Welcome to {name}{num} Tutorials\".format(name=\"Guru\", num=\"99\"))"
   ]
  },
  {
   "cell_type": "code",
   "execution_count": 12,
   "metadata": {},
   "outputs": [
    {
     "name": "stdout",
     "output_type": "stream",
     "text": [
      "Welcome to Guru99 Tutorials\n"
     ]
    }
   ],
   "source": [
    "print (\"Welcome to {0}{1} Tutorials\".format(\"Guru\",\"99\"))"
   ]
  },
  {
   "cell_type": "code",
   "execution_count": 13,
   "metadata": {},
   "outputs": [
    {
     "name": "stdout",
     "output_type": "stream",
     "text": [
      "Guru99 is totally new kind of learning experience!\n"
     ]
    }
   ],
   "source": [
    "print (\"{} is {} new kind of {} experience!\".format(\"Guru99\", \"totally\",\"learning\"))"
   ]
  },
  {
   "cell_type": "code",
   "execution_count": 14,
   "metadata": {},
   "outputs": [
    {
     "name": "stdout",
     "output_type": "stream",
     "text": [
      "Welcome to Guru99 Tutorials!\n"
     ]
    }
   ],
   "source": [
    "#class with format()\n",
    "class MyClass:\n",
    "    msg1=\"Guru\"\n",
    "    msg2=\"Tutorials\"   \n",
    "\n",
    "print(\"Welcome to {c.msg1}99 {c.msg2}!\".format(c=MyClass()))"
   ]
  },
  {
   "cell_type": "code",
   "execution_count": 15,
   "metadata": {},
   "outputs": [
    {
     "name": "stdout",
     "output_type": "stream",
     "text": [
      "Welcome to Guru99 Tutorials!\n"
     ]
    }
   ],
   "source": [
    "#dictionary with format()\n",
    "my_dict = {'msg1': \"Welcome\", 'msg2': 'Guru99'}\n",
    "print(\"{m[msg1]} to {m[msg2]} Tutorials!\".format(m=my_dict))"
   ]
  },
  {
   "cell_type": "code",
   "execution_count": 18,
   "metadata": {},
   "outputs": [
    {
     "name": "stdout",
     "output_type": "stream",
     "text": [
      "I have     2 dogs and     1 cat\n"
     ]
    }
   ],
   "source": [
    "#Padding Variable Substitutions\n",
    "print(\"I have {:5} dogs and {:5} cat\".format(2,1))"
   ]
  },
  {
   "cell_type": "code",
   "execution_count": 26,
   "metadata": {},
   "outputs": [
    {
     "name": "stdout",
     "output_type": "stream",
     "text": [
      "The position of Tutorials is at: 12\n"
     ]
    }
   ],
   "source": [
    "#find (start from 20)\n",
    "mystring = \"Meet Guru99 Tutorials Site.Best site for Python Tutorials!\"\n",
    "print(\"The position of Tutorials is at:\", mystring.find(\"Tutorials\", 2))"
   ]
  },
  {
   "cell_type": "code",
   "execution_count": 22,
   "metadata": {},
   "outputs": [
    {
     "name": "stdout",
     "output_type": "stream",
     "text": [
      "The position of Tutorials is at: 12\n"
     ]
    }
   ],
   "source": [
    "mystring = \"Meet Guru99 Tutorials Site.Best site for Python Tutorials!\"\n",
    "print(\"The position of Tutorials is at:\", mystring.find(\"Tutorials\", 5, 30))"
   ]
  },
  {
   "cell_type": "code",
   "execution_count": 61,
   "metadata": {},
   "outputs": [
    {
     "name": "stdout",
     "output_type": "stream",
     "text": [
      "The total count of substring test is:  0\n"
     ]
    }
   ],
   "source": [
    "#try - print how many test string in below?\n",
    "count=0\n",
    "my_string = \"test string test, test string testing, test string test string\"\n",
    "print(\"The total count of substring test is: \", count )"
   ]
  },
  {
   "cell_type": "markdown",
   "metadata": {},
   "source": [
    "# FUNCTION"
   ]
  },
  {
   "cell_type": "code",
   "execution_count": 65,
   "metadata": {},
   "outputs": [
    {
     "name": "stdout",
     "output_type": "stream",
     "text": [
      "hello world!\n",
      "Guru99\n",
      "Value in built variable name is:   __main__\n"
     ]
    }
   ],
   "source": [
    "#python module\n",
    "!python a.py"
   ]
  },
  {
   "cell_type": "code",
   "execution_count": 64,
   "metadata": {},
   "outputs": [
    {
     "name": "stdout",
     "output_type": "stream",
     "text": [
      "Guru99\n",
      "Value in built variable name is:   a\n",
      "done\n"
     ]
    }
   ],
   "source": [
    "!python b.py"
   ]
  },
  {
   "cell_type": "code",
   "execution_count": 66,
   "metadata": {},
   "outputs": [
    {
     "name": "stdout",
     "output_type": "stream",
     "text": [
      "I am learning Python function\n",
      "still in func1\n",
      "16\n",
      "value of x= 4\n",
      "value of y= 2\n",
      "8\n"
     ]
    }
   ],
   "source": [
    "#define a function\n",
    "def func1():\n",
    "    print (\"I am learning Python function\")\n",
    "    print (\"still in func1\")\n",
    "\n",
    "func1()\n",
    "\n",
    "def square(x):\n",
    "  \treturn x*x\n",
    "print(square(4))\n",
    "\n",
    "def multiply(x,y=0):\n",
    "\tprint(\"value of x=\",x)\n",
    "\tprint(\"value of y=\",y)\n",
    "    \n",
    "\treturn x*y\n",
    "  \n",
    "print(multiply(y=2,x=4))"
   ]
  },
  {
   "cell_type": "code",
   "execution_count": 25,
   "metadata": {},
   "outputs": [
    {
     "name": "stdout",
     "output_type": "stream",
     "text": [
      "some kind of a useless lambda\n"
     ]
    }
   ],
   "source": [
    "#lambda\n",
    "x=\"some kind of a useless lambda\"\n",
    "\n",
    "#input x into lamba function\n",
    "(lambda x : print(x))(x)"
   ]
  },
  {
   "cell_type": "code",
   "execution_count": 27,
   "metadata": {},
   "outputs": [
    {
     "data": {
      "text/plain": [
       "4"
      ]
     },
     "execution_count": 27,
     "metadata": {},
     "output_type": "execute_result"
    }
   ],
   "source": [
    "#input 2 into lambda function\n",
    "(lambda x: x + x)(2)"
   ]
  },
  {
   "cell_type": "code",
   "execution_count": 22,
   "metadata": {},
   "outputs": [
    {
     "name": "stdout",
     "output_type": "stream",
     "text": [
      "[10, 8, 7, 5, 11]\n"
     ]
    }
   ],
   "source": [
    "#lambdas in filter()\n",
    "sequences = [10,2,8,7,5,4,3,11,0, 1]\n",
    "filtered_result = filter(lambda x: x > 4, sequences) \n",
    "print(list(filtered_result))"
   ]
  },
  {
   "cell_type": "code",
   "execution_count": 23,
   "metadata": {},
   "outputs": [
    {
     "name": "stdout",
     "output_type": "stream",
     "text": [
      "[100, 4, 64, 49, 25, 16, 9, 121, 0, 1]\n"
     ]
    }
   ],
   "source": [
    "#lambdas in map()\n",
    "sequences = [10,2,8,7,5,4,3,11,0, 1]\n",
    "filtered_result = map(lambda x: x*x, sequences) \n",
    "#use list() to convert map outputs \n",
    "print(list(filtered_result))"
   ]
  },
  {
   "cell_type": "code",
   "execution_count": 28,
   "metadata": {},
   "outputs": [
    {
     "name": "stdout",
     "output_type": "stream",
     "text": [
      "120\n"
     ]
    }
   ],
   "source": [
    "#lambdas in reduce()\n",
    "from functools import reduce\n",
    "sequences = [1,2,3,4,5]\n",
    "\n",
    "#reduce function output will be a value\n",
    "product = reduce(lambda x, y: x*y, sequences)\n",
    "print(product)"
   ]
  },
  {
   "cell_type": "code",
   "execution_count": 29,
   "metadata": {},
   "outputs": [
    {
     "name": "stdout",
     "output_type": "stream",
     "text": [
      "25\n",
      "10.5\n"
     ]
    }
   ],
   "source": [
    "#abs\n",
    "int_num = -25\n",
    "float_num = -10.50\n",
    "\n",
    "print(abs(int_num))\n",
    "print(abs(float_num))"
   ]
  },
  {
   "cell_type": "code",
   "execution_count": 30,
   "metadata": {},
   "outputs": [
    {
     "name": "stdout",
     "output_type": "stream",
     "text": [
      "The value after rounding is -3\n",
      "The value after rounding is -2\n"
     ]
    }
   ],
   "source": [
    "#round\n",
    "num = -2.8\n",
    "num1 = -1.5\n",
    "print(\"The value after rounding is\", round(num))\n",
    "print(\"The value after rounding is\", round(num1))"
   ]
  },
  {
   "cell_type": "code",
   "execution_count": 31,
   "metadata": {},
   "outputs": [
    {
     "name": "stdout",
     "output_type": "stream",
     "text": [
      "[-0.34  1.46  4.23 -0.34  7.63  5.12]\n"
     ]
    }
   ],
   "source": [
    "import numpy as np\n",
    "\n",
    "arr = [-0.341111, 1.455098989, 4.232323, -0.3432326, 7.626632, 5.122323]\n",
    "arr1 = np.round(arr, 2)\n",
    "print(arr1)"
   ]
  },
  {
   "cell_type": "code",
   "execution_count": 32,
   "metadata": {},
   "outputs": [
    {
     "name": "stdout",
     "output_type": "stream",
     "text": [
      "0\n",
      "1\n",
      "2\n",
      "3\n",
      "4\n",
      "5\n",
      "6\n",
      "7\n",
      "8\n",
      "9\n"
     ]
    }
   ],
   "source": [
    "#range\n",
    "for i in range(10):\n",
    "    print(i)"
   ]
  },
  {
   "cell_type": "code",
   "execution_count": 33,
   "metadata": {},
   "outputs": [
    {
     "name": "stdout",
     "output_type": "stream",
     "text": [
      "3 4 5 6 7 8 9 "
     ]
    }
   ],
   "source": [
    "for i in range(3, 10):\n",
    "    print(i, end =\" \")"
   ]
  },
  {
   "cell_type": "code",
   "execution_count": 34,
   "metadata": {},
   "outputs": [
    {
     "name": "stdout",
     "output_type": "stream",
     "text": [
      "3 5 7 9 "
     ]
    }
   ],
   "source": [
    "for i in range(3, 10, 2):\n",
    "    print(i, end =\" \")"
   ]
  },
  {
   "cell_type": "code",
   "execution_count": 35,
   "metadata": {},
   "outputs": [
    {
     "name": "stdout",
     "output_type": "stream",
     "text": [
      "15 14 13 12 11 10 9 8 7 6 "
     ]
    }
   ],
   "source": [
    "for i in range(15, 5, -1):\n",
    "    print(i, end =\" \")"
   ]
  },
  {
   "cell_type": "code",
   "execution_count": 36,
   "metadata": {},
   "outputs": [
    {
     "name": "stdout",
     "output_type": "stream",
     "text": [
      "Mysql Mongodb PostgreSQL Firebase "
     ]
    }
   ],
   "source": [
    "arr_list = ['Mysql', 'Mongodb', 'PostgreSQL', 'Firebase']\n",
    "\n",
    "for i in range(len(arr_list)):\n",
    "    print(arr_list[i], end =\" \")"
   ]
  },
  {
   "cell_type": "code",
   "execution_count": 37,
   "metadata": {},
   "outputs": [
    {
     "name": "stdout",
     "output_type": "stream",
     "text": [
      "[0, 1, 2, 3, 4, 5, 6, 7, 8, 9]\n"
     ]
    }
   ],
   "source": [
    "print(list(range(10)))"
   ]
  },
  {
   "cell_type": "code",
   "execution_count": 94,
   "metadata": {},
   "outputs": [
    {
     "name": "stdout",
     "output_type": "stream",
     "text": [
      "<map object at 0x0000000005A748C8>\n",
      "[4, 9, 16, 25, 36, 49, 64, 81]\n"
     ]
    }
   ],
   "source": [
    "#map\n",
    "def square(n):\n",
    "    return n*n\n",
    "my_list = [2,3,4,5,6,7,8,9]\n",
    "\n",
    "updated_list = map(square, my_list)\n",
    "print(updated_list)\n",
    "print(list(updated_list))"
   ]
  },
  {
   "cell_type": "code",
   "execution_count": 38,
   "metadata": {},
   "outputs": [
    {
     "data": {
      "text/plain": [
       "[(1, 4), (2, 5), (3, 6)]"
      ]
     },
     "execution_count": 38,
     "metadata": {},
     "output_type": "execute_result"
    }
   ],
   "source": [
    "#zip\n",
    "a=[1,2,3]\n",
    "b=[4,5,6]\n",
    "c=[4,5,6,7,8]\n",
    "zipped=zip(a,b)\n",
    "list(zipped)"
   ]
  },
  {
   "cell_type": "code",
   "execution_count": 39,
   "metadata": {},
   "outputs": [
    {
     "data": {
      "text/plain": [
       "[(1, 4), (2, 5), (3, 6)]"
      ]
     },
     "execution_count": 39,
     "metadata": {},
     "output_type": "execute_result"
    }
   ],
   "source": [
    "#zip\n",
    "a=[1,2,3]\n",
    "b=[4,5,6]\n",
    "c=[4,5,6,7,8]\n",
    "zipped=zip(a,c)\n",
    "list(zipped)"
   ]
  },
  {
   "cell_type": "markdown",
   "metadata": {},
   "source": [
    "# GENERATOR"
   ]
  },
  {
   "cell_type": "code",
   "execution_count": 40,
   "metadata": {},
   "outputs": [
    {
     "name": "stdout",
     "output_type": "stream",
     "text": [
      "0\n",
      "2\n",
      "4\n",
      "6\n",
      "8\n"
     ]
    },
    {
     "ename": "StopIteration",
     "evalue": "",
     "output_type": "error",
     "traceback": [
      "\u001b[1;31m---------------------------------------------------------------------------\u001b[0m",
      "\u001b[1;31mStopIteration\u001b[0m                             Traceback (most recent call last)",
      "\u001b[1;32m<ipython-input-40-c2c8c7be4d0a>\u001b[0m in \u001b[0;36m<module>\u001b[1;34m\u001b[0m\n\u001b[0;32m     10\u001b[0m \u001b[0mprint\u001b[0m\u001b[1;33m(\u001b[0m\u001b[0mnext\u001b[0m\u001b[1;33m(\u001b[0m\u001b[0mnum\u001b[0m\u001b[1;33m)\u001b[0m\u001b[1;33m)\u001b[0m\u001b[1;33m\u001b[0m\u001b[1;33m\u001b[0m\u001b[0m\n\u001b[0;32m     11\u001b[0m \u001b[0mprint\u001b[0m\u001b[1;33m(\u001b[0m\u001b[0mnext\u001b[0m\u001b[1;33m(\u001b[0m\u001b[0mnum\u001b[0m\u001b[1;33m)\u001b[0m\u001b[1;33m)\u001b[0m\u001b[1;33m\u001b[0m\u001b[1;33m\u001b[0m\u001b[0m\n\u001b[1;32m---> 12\u001b[1;33m \u001b[0mprint\u001b[0m\u001b[1;33m(\u001b[0m\u001b[0mnext\u001b[0m\u001b[1;33m(\u001b[0m\u001b[0mnum\u001b[0m\u001b[1;33m)\u001b[0m\u001b[1;33m)\u001b[0m\u001b[1;33m\u001b[0m\u001b[1;33m\u001b[0m\u001b[0m\n\u001b[0m",
      "\u001b[1;31mStopIteration\u001b[0m: "
     ]
    }
   ],
   "source": [
    "#use next\n",
    "def even_numbers(n):\n",
    "    for x in range(n):\n",
    "        if (x%2==0): \n",
    "            yield x       \n",
    "num = even_numbers(10)\n",
    "print(next(num))\n",
    "print(next(num))\n",
    "print(next(num))\n",
    "print(next(num))\n",
    "print(next(num))\n",
    "print(next(num))"
   ]
  },
  {
   "cell_type": "code",
   "execution_count": 42,
   "metadata": {},
   "outputs": [
    {
     "name": "stdout",
     "output_type": "stream",
     "text": [
      "Hello World\n",
      "<generator object generator_test at 0x000000000573AEB0>\n",
      "Hello World\n"
     ]
    }
   ],
   "source": [
    "#yield and generator\n",
    "#normal function\n",
    "def normal_test():\n",
    "    return \"Hello World\"\n",
    "\n",
    "#Generator function\n",
    "def generator_test():\n",
    "    yield \"Hello World\"\n",
    "    \n",
    "print(normal_test()) #call to normal function\n",
    "print(generator_test()) # call to generator function\n",
    "print(next(generator_test())) "
   ]
  },
  {
   "cell_type": "code",
   "execution_count": 129,
   "metadata": {},
   "outputs": [
    {
     "name": "stdout",
     "output_type": "stream",
     "text": [
      "H\n",
      "E\n",
      "L\n",
      "L\n",
      "O\n"
     ]
    }
   ],
   "source": [
    "#generator\n",
    "def generator():\n",
    "    yield \"H\"\n",
    "    yield \"E\"\n",
    "    yield \"L\"\n",
    "    yield \"L\"\n",
    "    yield \"O\"\n",
    "\n",
    "test = generator()\n",
    "for i in test:\n",
    "    print(i)"
   ]
  },
  {
   "cell_type": "code",
   "execution_count": 131,
   "metadata": {},
   "outputs": [
    {
     "name": "stdout",
     "output_type": "stream",
     "text": [
      "[0, 2, 4, 6, 8]\n"
     ]
    }
   ],
   "source": [
    "#use list to read value from generator\n",
    "def even_numbers(n):\n",
    "    for x in range(n):\n",
    "        if (x%2==0): \n",
    "            yield x       \n",
    "num = even_numbers(10)\n",
    "print(list(num))"
   ]
  },
  {
   "cell_type": "code",
   "execution_count": 132,
   "metadata": {},
   "outputs": [
    {
     "name": "stdout",
     "output_type": "stream",
     "text": [
      "0\n",
      "2\n",
      "4\n",
      "6\n",
      "8\n"
     ]
    }
   ],
   "source": [
    "#use for loop\n",
    "def even_numbers(n):\n",
    "    for x in range(n):\n",
    "        if (x%2==0): \n",
    "            yield x       \n",
    "num = even_numbers(10)\n",
    "for i in num:\n",
    "    print(i)"
   ]
  },
  {
   "cell_type": "code",
   "execution_count": 135,
   "metadata": {},
   "outputs": [
    {
     "name": "stdout",
     "output_type": "stream",
     "text": [
      "0\n",
      "1\n",
      "4\n",
      "9\n",
      "16\n",
      "25\n",
      "36\n",
      "49\n",
      "64\n",
      "81\n"
     ]
    }
   ],
   "source": [
    "#yield\n",
    "def test(n):\n",
    "    return n*n\n",
    "\n",
    "def getSquare(n):\n",
    "    for i in range(n):\n",
    "        yield test(i)\n",
    "\n",
    "sq = getSquare(10)\n",
    "for i in sq:\n",
    "    print(i)"
   ]
  },
  {
   "cell_type": "markdown",
   "metadata": {},
   "source": [
    "# QUEUE"
   ]
  },
  {
   "cell_type": "code",
   "execution_count": 43,
   "metadata": {},
   "outputs": [
    {
     "name": "stdout",
     "output_type": "stream",
     "text": [
      "True\n"
     ]
    }
   ],
   "source": [
    "#Add and item in a queue\n",
    "import queue\n",
    "q1 = queue.Queue(5) #The max size is 5.\n",
    "q1.put(1)\n",
    "q1.put(2)\n",
    "q1.put(3)\n",
    "q1.put(4)\n",
    "q1.put(5)\n",
    "print(q1.full()) # will return true."
   ]
  },
  {
   "cell_type": "code",
   "execution_count": 137,
   "metadata": {},
   "outputs": [
    {
     "name": "stdout",
     "output_type": "stream",
     "text": [
      "The item removed from the queue is  10\n"
     ]
    }
   ],
   "source": [
    "import queue\n",
    "q1 = queue.Queue()\n",
    "q1.put(10)\n",
    "\n",
    "item1 = q1.get()\n",
    "\n",
    "print('The item removed from the queue is ', item1)"
   ]
  },
  {
   "cell_type": "code",
   "execution_count": 44,
   "metadata": {},
   "outputs": [],
   "source": [
    "#Last In First Out queue Example\n",
    "import queue\n",
    "q1 = queue.LifoQueue()\n",
    "q1.put(10)"
   ]
  },
  {
   "cell_type": "code",
   "execution_count": 140,
   "metadata": {},
   "outputs": [
    {
     "name": "stdout",
     "output_type": "stream",
     "text": [
      "The item removed from the LIFO queue is  10\n"
     ]
    }
   ],
   "source": [
    "#Remove an item from the queue\n",
    "import queue\n",
    "q1 = queue.LifoQueue()\n",
    "q1.put(10)\n",
    "\n",
    "item1 = q1.get()\n",
    "\n",
    "print('The item removed from the LIFO queue is ', item1)"
   ]
  },
  {
   "cell_type": "code",
   "execution_count": 143,
   "metadata": {},
   "outputs": [
    {
     "name": "stdout",
     "output_type": "stream",
     "text": [
      "The value is  0\n",
      "The value is  1\n",
      "The value is  2\n",
      "The value is  3\n",
      "The value is  4\n",
      "The value is  5\n",
      "The value is  6\n",
      "The value is  7\n",
      "The value is  8\n",
      "The value is  9\n",
      "The value is  10\n",
      "The value is  11\n",
      "The value is  12\n",
      "The value is  13\n",
      "The value is  14\n",
      "The value is  15\n",
      "The value is  16\n",
      "The value is  17\n",
      "The value is  18\n",
      "The value is  19\n"
     ]
    }
   ],
   "source": [
    "#Remove an item from the FIFOqueue\n",
    "import queue\n",
    "q1 = queue.Queue()\n",
    "\n",
    "for i in range(20):\n",
    "    q1.put(i) \n",
    "\n",
    "while not q1.empty():\n",
    "    print(\"The value is \", q1.get()) # get() will remove the item from the queue."
   ]
  },
  {
   "cell_type": "code",
   "execution_count": 145,
   "metadata": {},
   "outputs": [
    {
     "name": "stdout",
     "output_type": "stream",
     "text": [
      "The value is  19\n",
      "The value is  18\n",
      "The value is  17\n",
      "The value is  16\n",
      "The value is  15\n",
      "The value is  14\n",
      "The value is  13\n",
      "The value is  12\n",
      "The value is  11\n",
      "The value is  10\n",
      "The value is  9\n",
      "The value is  8\n",
      "The value is  7\n",
      "The value is  6\n",
      "The value is  5\n",
      "The value is  4\n",
      "The value is  3\n",
      "The value is  2\n",
      "The value is  1\n",
      "The value is  0\n"
     ]
    }
   ],
   "source": [
    "#Add and item in a LIFOqueue\n",
    "import queue\n",
    "q1 = queue.LifoQueue()\n",
    "\n",
    "for i in range(20):\n",
    "    q1.put(i) # this will additem from 0 to 20 to the queue\n",
    "\n",
    "\n",
    "while not q1.empty():\n",
    "    print(\"The value is \", q1.get()) # get() will remove the item from the queue. "
   ]
  },
  {
   "cell_type": "code",
   "execution_count": 160,
   "metadata": {},
   "outputs": [
    {
     "name": "stdout",
     "output_type": "stream",
     "text": [
      "10\n",
      "3\n",
      "21\n",
      "4\n",
      "5\n",
      "11\n"
     ]
    }
   ],
   "source": [
    "#reversing queue\n",
    "import queue\n",
    "q1 = queue.Queue()\n",
    "\n",
    "q1.put(11)\n",
    "q1.put(5)\n",
    "q1.put(4)\n",
    "q1.put(21)\n",
    "q1.put(3)\n",
    "q1.put(10)\n",
    "\n",
    "def reverseQueue (q1src, q2dest) :  \n",
    "    buffer = q1src.get()\n",
    "    if (q1src.empty() == False) :\n",
    "        reverseQueue(q1src, q2dest)      #using recursion\n",
    "    q2dest.put(buffer)\n",
    "    return q2dest\n",
    "\n",
    "q2dest = queue.Queue()\n",
    "qReversed = reverseQueue(q1,q2dest)\n",
    "\n",
    "while (q2dest.empty() == False): \n",
    "    print(q2dest.get())"
   ]
  },
  {
   "cell_type": "markdown",
   "metadata": {},
   "source": [
    "# COUNTER & ENUMERATE"
   ]
  },
  {
   "cell_type": "code",
   "execution_count": 45,
   "metadata": {},
   "outputs": [
    {
     "name": "stdout",
     "output_type": "stream",
     "text": [
      "Counter({'x': 4, 'y': 2, 'z': 2})\n"
     ]
    }
   ],
   "source": [
    "#Python Counter\n",
    "\n",
    "from collections import Counter\n",
    "list1 = ['x','y','z','x','x','x','y', 'z']\n",
    "print(Counter(list1))"
   ]
  },
  {
   "cell_type": "code",
   "execution_count": 162,
   "metadata": {},
   "outputs": [
    {
     "name": "stdout",
     "output_type": "stream",
     "text": [
      "[(0, 'A'), (1, 'B'), (2, 'C'), (3, 'D')]\n"
     ]
    }
   ],
   "source": [
    "#Enumerate()\n",
    "mylist = ['A', 'B' ,'C', 'D']\n",
    "e_list = enumerate(mylist)\n",
    "print(list(e_list))"
   ]
  },
  {
   "cell_type": "code",
   "execution_count": 165,
   "metadata": {},
   "outputs": [
    {
     "name": "stdout",
     "output_type": "stream",
     "text": [
      "The type is :  <class 'str'>\n",
      "The type is :  <class 'int'>\n",
      "The type is :  <class 'float'>\n",
      "The type is :  <class 'complex'>\n",
      "The type is :  <class 'list'>\n",
      "The type is :  <class 'tuple'>\n",
      "The type is :  <class 'dict'>\n",
      "The type is :  <class 'set'>\n"
     ]
    }
   ],
   "source": [
    "#type\n",
    "str_list = \"Welcome to Guru99\"\n",
    "age = 50\n",
    "pi = 3.14\n",
    "c_num = 3j+10\n",
    "my_list = [\"A\", \"B\", \"C\", \"D\"]\n",
    "my_tuple = (\"A\", \"B\", \"C\", \"D\")\n",
    "my_dict = {\"A\":\"a\", \"B\":\"b\", \"C\":\"c\", \"D\":\"d\"}\n",
    "my_set = {'A', 'B', 'C', 'D'}\n",
    "\n",
    "print(\"The type is : \",type(str_list))\n",
    "print(\"The type is : \",type(age))\n",
    "print(\"The type is : \",type(pi))\n",
    "print(\"The type is : \",type(c_num))\n",
    "print(\"The type is : \",type(my_list))\n",
    "print(\"The type is : \",type(my_tuple))\n",
    "print(\"The type is : \",type(my_dict))\n",
    "print(\"The type is : \",type(my_set))"
   ]
  },
  {
   "cell_type": "code",
   "execution_count": 166,
   "metadata": {},
   "outputs": [
    {
     "name": "stdout",
     "output_type": "stream",
     "text": [
      "<class '__main__.test'>\n"
     ]
    }
   ],
   "source": [
    "class test:\n",
    "    s = 'testing'\n",
    "\n",
    "t = test()\n",
    "print(type(t))\n",
    "\n",
    "#<class '__main__.test'>: it is a class object, and __main__ is a start point, class name is called test"
   ]
  },
  {
   "cell_type": "code",
   "execution_count": 171,
   "metadata": {},
   "outputs": [
    {
     "name": "stdout",
     "output_type": "stream",
     "text": [
      "_class is a instance of MyClass() :  True\n"
     ]
    }
   ],
   "source": [
    "class MyClass:\n",
    "    _message = \"Hello World\"\n",
    "\n",
    "_class = MyClass()\n",
    "\n",
    "print(\"_class is a instance of MyClass() : \", isinstance(_class,MyClass))"
   ]
  },
  {
   "cell_type": "code",
   "execution_count": 172,
   "metadata": {},
   "outputs": [
    {
     "name": "stdout",
     "output_type": "stream",
     "text": [
      "my_dict is a dict: True\n"
     ]
    }
   ],
   "source": [
    "my_dict = isinstance({\"A\":\"a\", \"B\":\"b\", \"C\":\"c\", \"D\":\"d\"},dict)\n",
    "print(\"my_dict is a dict:\", my_dict)"
   ]
  },
  {
   "cell_type": "code",
   "execution_count": 46,
   "metadata": {},
   "outputs": [
    {
     "name": "stdout",
     "output_type": "stream",
     "text": [
      "True\n",
      "False\n"
     ]
    }
   ],
   "source": [
    "#using == doesn't consider the inheritance relationship\n",
    "class A:\n",
    "    my_listA = [1,2,3]\n",
    "\n",
    "#inheritance A class\n",
    "class B(A):\n",
    "    my_listB = [1,2,3]\n",
    "\n",
    "print(type(A()) == A)\n",
    "print(type(B()) == A)"
   ]
  },
  {
   "cell_type": "code",
   "execution_count": 188,
   "metadata": {},
   "outputs": [
    {
     "name": "stdout",
     "output_type": "stream",
     "text": [
      "True\n",
      "True\n"
     ]
    }
   ],
   "source": [
    "#isinstance function considers the inheritance relationship\n",
    "class A:\n",
    "    my_listA = [1,2,3]\n",
    "\n",
    "class B(A):\n",
    "    my_listB = [1,2,3]\n",
    "\n",
    "print(isinstance(A(), A))\n",
    "print(isinstance(B(), A))"
   ]
  },
  {
   "cell_type": "code",
   "execution_count": null,
   "metadata": {},
   "outputs": [],
   "source": []
  }
 ],
 "metadata": {
  "kernelspec": {
   "display_name": "Python 3",
   "language": "python",
   "name": "python3"
  },
  "language_info": {
   "codemirror_mode": {
    "name": "ipython",
    "version": 3
   },
   "file_extension": ".py",
   "mimetype": "text/x-python",
   "name": "python",
   "nbconvert_exporter": "python",
   "pygments_lexer": "ipython3",
   "version": "3.8.8"
  }
 },
 "nbformat": 4,
 "nbformat_minor": 4
}
