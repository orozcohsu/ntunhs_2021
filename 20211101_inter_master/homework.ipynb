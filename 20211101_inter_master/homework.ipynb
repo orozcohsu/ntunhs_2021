{
 "cells": [
  {
   "cell_type": "code",
   "execution_count": 5,
   "metadata": {},
   "outputs": [],
   "source": [
    "#nine-nine-multiplication table\n",
    "for i in range(1,10):\n",
    "    pass\n",
    "    for j in range(1,10):\n",
    "        pass\n",
    "    \n",
    "    \n",
    "1x1=1\n",
    "1x2=2\n",
    "...\n",
    "9x1=9\n",
    "...\n",
    "9x9=81"
   ]
  },
  {
   "cell_type": "code",
   "execution_count": 1,
   "metadata": {},
   "outputs": [],
   "source": [
    "#FibonnaciSeries\n",
    "def FibonnaciSeries(num):\n",
    "    pass\n",
    "fin = FibonnaciSeries(7)\n",
    "for i in fin:\n",
    "    print(i)\n",
    "0,1,1,2,3,5,8"
   ]
  },
  {
   "cell_type": "code",
   "execution_count": 2,
   "metadata": {},
   "outputs": [
    {
     "name": "stdout",
     "output_type": "stream",
     "text": [
      "11 5 4 21 3 10 "
     ]
    }
   ],
   "source": [
    "#sorting queue\n",
    "import queue\n",
    "q1 = queue.Queue()\n",
    "\n",
    "q1.put(11)\n",
    "q1.put(5)\n",
    "q1.put(4)\n",
    "q1.put(21)\n",
    "q1.put(3)\n",
    "q1.put(10)\n",
    "\n",
    "while (q1.empty() == False): \n",
    "    print(q1.queue[0], end = \" \")  \n",
    "    q1.get()"
   ]
  },
  {
   "cell_type": "code",
   "execution_count": null,
   "metadata": {},
   "outputs": [],
   "source": []
  },
  {
   "cell_type": "code",
   "execution_count": null,
   "metadata": {},
   "outputs": [],
   "source": []
  }
 ],
 "metadata": {
  "kernelspec": {
   "display_name": "Python 3 (ipykernel)",
   "language": "python",
   "name": "python3"
  },
  "language_info": {
   "codemirror_mode": {
    "name": "ipython",
    "version": 3
   },
   "file_extension": ".py",
   "mimetype": "text/x-python",
   "name": "python",
   "nbconvert_exporter": "python",
   "pygments_lexer": "ipython3",
   "version": "3.8.12"
  }
 },
 "nbformat": 4,
 "nbformat_minor": 4
}
