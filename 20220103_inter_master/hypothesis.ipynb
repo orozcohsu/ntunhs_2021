{
 "cells": [
  {
   "cell_type": "code",
   "execution_count": 1,
   "id": "0ef8db87-ff2c-4f46-b4bc-a64421196f61",
   "metadata": {},
   "outputs": [],
   "source": [
    "# for basic operations\n",
    "import numpy as np \n",
    "import pandas as pd \n",
    "\n",
    "# reading the data\n",
    "data = pd.read_csv('train.csv')"
   ]
  },
  {
   "cell_type": "markdown",
   "id": "e8ec71b0-d7c1-41a5-a601-116575899dac",
   "metadata": {},
   "source": [
    "## Are house prices in OldTown really different from the House Prices of Other Neighborhoods?"
   ]
  },
  {
   "cell_type": "code",
   "execution_count": 2,
   "id": "df0400d5-72f0-49ce-aea9-2d1cc7763b14",
   "metadata": {},
   "outputs": [
    {
     "name": "stdout",
     "output_type": "stream",
     "text": [
      "Z-statistic is :-10.639294263334575\n",
      "P-value is :0.00000000000000000000000001956052602626001826532572\n"
     ]
    }
   ],
   "source": [
    "# import z test from statsmodels\n",
    "from statsmodels.stats.weightstats import ztest\n",
    "\n",
    "z_statistic, p_value = ztest(x1 = data[data['Neighborhood'] == 'OldTown']['SalePrice'],\n",
    "                             value = data['SalePrice'].mean())\n",
    "\n",
    "print('Z-statistic is :{}'.format(z_statistic))\n",
    "print('P-value is :{:.50f}'.format(p_value))"
   ]
  },
  {
   "cell_type": "markdown",
   "id": "58656c4c-0231-4d24-aab3-a57fa4e1965f",
   "metadata": {},
   "source": [
    "# If the P value if less than 0.05, then we can reject our null hypothesis against the alternate hypothesis.\n",
    "\n",
    "# The answer is NO! Reject H0, accept H1"
   ]
  },
  {
   "cell_type": "code",
   "execution_count": null,
   "id": "a6938bee-2a3f-4c0d-8c83-4bc81bf298d0",
   "metadata": {},
   "outputs": [],
   "source": []
  }
 ],
 "metadata": {
  "kernelspec": {
   "display_name": "Python 3 (ipykernel)",
   "language": "python",
   "name": "python3"
  },
  "language_info": {
   "codemirror_mode": {
    "name": "ipython",
    "version": 3
   },
   "file_extension": ".py",
   "mimetype": "text/x-python",
   "name": "python",
   "nbconvert_exporter": "python",
   "pygments_lexer": "ipython3",
   "version": "3.8.12"
  }
 },
 "nbformat": 4,
 "nbformat_minor": 5
}
