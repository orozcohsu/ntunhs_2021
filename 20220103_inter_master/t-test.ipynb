{
 "cells": [
  {
   "cell_type": "code",
   "execution_count": 1,
   "id": "29499c08-024b-4862-837e-c899e4cb9451",
   "metadata": {},
   "outputs": [],
   "source": [
    "# for basic operations\n",
    "import numpy as np \n",
    "import pandas as pd \n",
    "\n",
    "# reading the data\n",
    "data = pd.read_csv('train.csv')"
   ]
  },
  {
   "cell_type": "code",
   "execution_count": 3,
   "id": "62e948a3-6993-4b17-8719-55ddb43e59bb",
   "metadata": {},
   "outputs": [
    {
     "data": {
      "text/plain": [
       "25"
      ]
     },
     "execution_count": 3,
     "metadata": {},
     "output_type": "execute_result"
    }
   ],
   "source": [
    "# sample data = 25 (small data)\n",
    "data['Neighborhood'].value_counts()['StoneBr']"
   ]
  },
  {
   "cell_type": "markdown",
   "id": "e5490ff6-f08c-4181-af6a-541c10422c3d",
   "metadata": {},
   "source": [
    "# If house prices in Stone Brook neighborhood are different from the houses in the rest of the neighborhoods.\n",
    "# h0: prices are not different\n",
    "# h1: prices are different"
   ]
  },
  {
   "cell_type": "code",
   "execution_count": 15,
   "id": "ad0991b9-c0e5-413c-82c1-9fd6924c3116",
   "metadata": {},
   "outputs": [
    {
     "data": {
      "text/plain": [
       "Ttest_1sampResult(statistic=5.735070151700397, pvalue=6.558704101036394e-06)"
      ]
     },
     "execution_count": 15,
     "metadata": {},
     "output_type": "execute_result"
    }
   ],
   "source": [
    "from scipy.stats import ttest_1samp\n",
    "ttest_1samp(a=data[data['Neighborhood'] == 'StoneBr']['SalePrice'],popmean=data['SalePrice'].mean())\n"
   ]
  },
  {
   "cell_type": "markdown",
   "id": "282e33f8-fc51-4d90-8951-adf39dfbe21e",
   "metadata": {},
   "source": [
    "# p-value is low and we can reject h0"
   ]
  },
  {
   "cell_type": "code",
   "execution_count": null,
   "id": "48c10732-b4da-4ce6-ae2c-53683f60f952",
   "metadata": {},
   "outputs": [],
   "source": []
  }
 ],
 "metadata": {
  "kernelspec": {
   "display_name": "Python 3 (ipykernel)",
   "language": "python",
   "name": "python3"
  },
  "language_info": {
   "codemirror_mode": {
    "name": "ipython",
    "version": 3
   },
   "file_extension": ".py",
   "mimetype": "text/x-python",
   "name": "python",
   "nbconvert_exporter": "python",
   "pygments_lexer": "ipython3",
   "version": "3.8.12"
  }
 },
 "nbformat": 4,
 "nbformat_minor": 5
}
