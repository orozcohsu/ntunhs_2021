{
 "cells": [
  {
   "cell_type": "code",
   "execution_count": 1,
   "id": "c67daf1c-c763-4784-ab72-00c16b56f2ef",
   "metadata": {},
   "outputs": [],
   "source": [
    "import numpy as np"
   ]
  },
  {
   "cell_type": "markdown",
   "id": "0ca797ca-e2fb-4508-82a9-218b46bae62e",
   "metadata": {},
   "source": [
    "# create array, matrix"
   ]
  },
  {
   "cell_type": "code",
   "execution_count": 3,
   "id": "1dae7c6f-cc8a-4d16-a4b1-9d1895d5134a",
   "metadata": {},
   "outputs": [
    {
     "data": {
      "text/plain": [
       "array([1, 2, 3, 4])"
      ]
     },
     "execution_count": 3,
     "metadata": {},
     "output_type": "execute_result"
    }
   ],
   "source": [
    "a=np.array([1,2,3,4])\n",
    "a"
   ]
  },
  {
   "cell_type": "code",
   "execution_count": 4,
   "id": "e8967c11-a156-4b6d-99d1-12552335f2a4",
   "metadata": {},
   "outputs": [
    {
     "data": {
      "text/plain": [
       "array([[1, 2],\n",
       "       [3, 4],\n",
       "       [5, 6]])"
      ]
     },
     "execution_count": 4,
     "metadata": {},
     "output_type": "execute_result"
    }
   ],
   "source": [
    "b=np.array([[1,2],[3,4],[5,6]])\n",
    "b"
   ]
  },
  {
   "cell_type": "code",
   "execution_count": 6,
   "id": "2c0a26bc-543e-47a6-81e7-892e662eb017",
   "metadata": {},
   "outputs": [
    {
     "data": {
      "text/plain": [
       "(3, 2)"
      ]
     },
     "execution_count": 6,
     "metadata": {},
     "output_type": "execute_result"
    }
   ],
   "source": [
    "b.shape"
   ]
  },
  {
   "cell_type": "code",
   "execution_count": 7,
   "id": "55361de6-f0ea-455f-8782-7d1ce85d717c",
   "metadata": {},
   "outputs": [
    {
     "data": {
      "text/plain": [
       "dtype('int32')"
      ]
     },
     "execution_count": 7,
     "metadata": {},
     "output_type": "execute_result"
    }
   ],
   "source": [
    "b.dtype"
   ]
  },
  {
   "cell_type": "markdown",
   "id": "b9a4c298-078e-41b0-b178-0fede61e92fb",
   "metadata": {},
   "source": [
    "# array slicing"
   ]
  },
  {
   "cell_type": "code",
   "execution_count": 9,
   "id": "3c4e28a8-4b8a-4291-ba21-fb52d431e5e5",
   "metadata": {},
   "outputs": [
    {
     "data": {
      "text/plain": [
       "array([0, 1, 2, 3, 4, 5, 6, 7, 8, 9])"
      ]
     },
     "execution_count": 9,
     "metadata": {},
     "output_type": "execute_result"
    }
   ],
   "source": [
    "c=np.arange(10)\n",
    "c"
   ]
  },
  {
   "cell_type": "code",
   "execution_count": 26,
   "id": "7558d063-8249-4bcd-b74f-82fe5e03595a",
   "metadata": {},
   "outputs": [
    {
     "name": "stdout",
     "output_type": "stream",
     "text": [
      "0\n",
      "3\n",
      "9\n",
      "[0 1 2 3]\n",
      "[3 4 5 6]\n",
      "[6 7 8 9]\n",
      "[2 6]\n",
      "[2 6]\n",
      "[0 3 6 9]\n"
     ]
    }
   ],
   "source": [
    "print(c[0])\n",
    "print(c[3])\n",
    "print(c[-1])\n",
    "print(c[:4])\n",
    "print(c[3:7])\n",
    "print(c[6:])\n",
    "print(c[2:8:4])\n",
    "print(c[2::4])\n",
    "print(c[::3])"
   ]
  },
  {
   "cell_type": "code",
   "execution_count": 11,
   "id": "d039f39c-8f39-480a-8ef5-bd93cc69fe3b",
   "metadata": {},
   "outputs": [
    {
     "data": {
      "text/plain": [
       "array([0. , 0.2, 0.4, 0.6, 0.8, 1. , 1.2, 1.4, 1.6, 1.8, 2. ])"
      ]
     },
     "execution_count": 11,
     "metadata": {},
     "output_type": "execute_result"
    }
   ],
   "source": [
    "d=np.linspace(0,2,11)\n",
    "d"
   ]
  },
  {
   "cell_type": "code",
   "execution_count": 12,
   "id": "a5131865-3ea4-47fb-af21-0f939d054400",
   "metadata": {},
   "outputs": [
    {
     "data": {
      "text/plain": [
       "array([[1., 1., 1.],\n",
       "       [1., 1., 1.],\n",
       "       [1., 1., 1.]])"
      ]
     },
     "execution_count": 12,
     "metadata": {},
     "output_type": "execute_result"
    }
   ],
   "source": [
    "np.ones((3,3))"
   ]
  },
  {
   "cell_type": "code",
   "execution_count": 13,
   "id": "9457717d-725f-4502-89fe-c4399950d4ee",
   "metadata": {},
   "outputs": [
    {
     "data": {
      "text/plain": [
       "array([[0., 0., 0., 0., 0., 0.],\n",
       "       [0., 0., 0., 0., 0., 0.],\n",
       "       [0., 0., 0., 0., 0., 0.]])"
      ]
     },
     "execution_count": 13,
     "metadata": {},
     "output_type": "execute_result"
    }
   ],
   "source": [
    "np.zeros((3,6))"
   ]
  },
  {
   "cell_type": "code",
   "execution_count": 14,
   "id": "c38f1cc8-f3f6-4f96-a562-e52e0b4de902",
   "metadata": {},
   "outputs": [
    {
     "data": {
      "text/plain": [
       "array([[1., 0., 0., 0.],\n",
       "       [0., 1., 0., 0.],\n",
       "       [0., 0., 1., 0.],\n",
       "       [0., 0., 0., 1.]])"
      ]
     },
     "execution_count": 14,
     "metadata": {},
     "output_type": "execute_result"
    }
   ],
   "source": [
    "np.eye(4)"
   ]
  },
  {
   "cell_type": "code",
   "execution_count": 16,
   "id": "60953221-60ee-4090-8283-3cc8e7546fff",
   "metadata": {},
   "outputs": [
    {
     "data": {
      "text/plain": [
       "array([[ 0.39781066, -0.16630847,  2.14006704,  1.21834484],\n",
       "       [-1.53040187,  0.41308457,  0.47471672, -1.13461173],\n",
       "       [-1.21314164, -1.13482066,  1.66894711,  1.75538967],\n",
       "       [ 0.88915774,  0.38696876, -0.99374479,  0.15656922],\n",
       "       [ 1.54219767, -1.38036312,  1.2655271 , -1.13153257],\n",
       "       [ 0.37844868, -1.46012239, -1.21964897,  0.43232283]])"
      ]
     },
     "execution_count": 16,
     "metadata": {},
     "output_type": "execute_result"
    }
   ],
   "source": [
    "np.random.randn(6,4)"
   ]
  },
  {
   "cell_type": "markdown",
   "id": "cd8a966b-6682-4601-b815-b9dc0e3f35d7",
   "metadata": {},
   "source": [
    "#  Matrix slicing "
   ]
  },
  {
   "cell_type": "code",
   "execution_count": 46,
   "id": "89cadb9b-159b-4794-b074-a5a39c7c6efb",
   "metadata": {},
   "outputs": [
    {
     "name": "stdout",
     "output_type": "stream",
     "text": [
      "[[ 0  1  2  3  4  5]\n",
      " [10 11 12 13 14 15]\n",
      " [20 21 22 23 24 25]\n",
      " [30 31 32 33 34 35]\n",
      " [40 41 42 43 44 45]\n",
      " [50 51 52 53 54 55]]\n",
      "(6, 6)\n"
     ]
    }
   ],
   "source": [
    "a=np.arange(0,51,10).reshape(6,1)+np.arange(6)\n",
    "print(a)\n",
    "print(a.shape)"
   ]
  },
  {
   "cell_type": "code",
   "execution_count": 53,
   "id": "d214d3e1-c0f0-4047-b235-c458c9ad7c0d",
   "metadata": {},
   "outputs": [
    {
     "name": "stdout",
     "output_type": "stream",
     "text": [
      "0\n",
      "25\n",
      "[2 3 4]\n",
      "[[ 0  1  2]\n",
      " [10 11 12]\n",
      " [20 21 22]]\n",
      "[20 21 22 23 24 25]\n",
      "[ 3 13 23 33 43 53]\n",
      "[[ 0  2  4]\n",
      " [10 12 14]\n",
      " [20 22 24]\n",
      " [30 32 34]\n",
      " [40 42 44]\n",
      " [50 52 54]]\n",
      "[[ 0  3]\n",
      " [20 23]\n",
      " [40 43]]\n"
     ]
    }
   ],
   "source": [
    "print(a[0,0])\n",
    "print(a[2,-1])\n",
    "print(a[0,2:5])\n",
    "print(a[:3,:3])\n",
    "print(a[2,:])\n",
    "print(a[:,3])\n",
    "print(a[:,::2])\n",
    "print(a[::2,::3])"
   ]
  },
  {
   "cell_type": "markdown",
   "id": "ced1c080-15d9-4a1d-90cb-e8e6f0d61c7c",
   "metadata": {},
   "source": [
    "# check even number"
   ]
  },
  {
   "cell_type": "code",
   "execution_count": 56,
   "id": "608b73bc-704d-4ba2-a3e8-f60545e5d28e",
   "metadata": {},
   "outputs": [
    {
     "data": {
      "text/plain": [
       "array([14, 10, 12, 10])"
      ]
     },
     "execution_count": 56,
     "metadata": {},
     "output_type": "execute_result"
    }
   ],
   "source": [
    "a=np.random.randint(10,20,6)\n",
    "a[a%2==0]"
   ]
  },
  {
   "cell_type": "markdown",
   "id": "35bd5c10-e250-4203-84f2-c7521b70c2ab",
   "metadata": {},
   "source": [
    "# memory share and copy"
   ]
  },
  {
   "cell_type": "code",
   "execution_count": 59,
   "id": "029ebc45-4b84-4609-8f1d-8c05a3a59a59",
   "metadata": {},
   "outputs": [
    {
     "name": "stdout",
     "output_type": "stream",
     "text": [
      "[0 1 2 3 4 5]\n",
      "[2 3 4]\n",
      "[  0   1   2 100   4   5]\n",
      "[  2 100   4]\n"
     ]
    }
   ],
   "source": [
    "#memory share\n",
    "a=np.arange(6)\n",
    "print(a)\n",
    "b=a[2:5]\n",
    "print(b)\n",
    "b[1]=100\n",
    "print(a)\n",
    "print(b)"
   ]
  },
  {
   "cell_type": "code",
   "execution_count": 60,
   "id": "f0cf557a-3296-48d7-954d-d7236bd1a62f",
   "metadata": {},
   "outputs": [
    {
     "name": "stdout",
     "output_type": "stream",
     "text": [
      "[2 3 4 5]\n",
      "[  0   1   2 100   4   5]\n"
     ]
    }
   ],
   "source": [
    "#copy\n",
    "b=a[2:6].copy()\n",
    "b[1]=3\n",
    "print(b)\n",
    "print(a)"
   ]
  },
  {
   "cell_type": "markdown",
   "id": "2edaa602-9365-471c-896d-ca6ae049dd08",
   "metadata": {},
   "source": [
    "# computation"
   ]
  },
  {
   "cell_type": "code",
   "execution_count": 64,
   "id": "d5162206-fdc3-4651-af36-6a4087d752a5",
   "metadata": {},
   "outputs": [
    {
     "name": "stdout",
     "output_type": "stream",
     "text": [
      "[ 5  6  7  8  9 10]\n",
      "[0 1 2 3 4 5]\n",
      "[[2 4 2 2 3]\n",
      " [1 4 3 1 4]\n",
      " [1 2 3 4 3]\n",
      " [3 2 1 2 4]]\n",
      "[[5 7 5 5 6]\n",
      " [4 7 6 4 7]\n",
      " [4 5 6 7 6]\n",
      " [6 5 4 5 7]]\n"
     ]
    }
   ],
   "source": [
    "a=np.arange(6)\n",
    "print(a+5)\n",
    "print(a)\n",
    "b=np.random.randint(1,5,20).reshape(4,5)\n",
    "print(b)\n",
    "print(b+3)"
   ]
  },
  {
   "cell_type": "markdown",
   "id": "5d1c2eda-93dd-4a77-9cc2-9395a99268ce",
   "metadata": {},
   "source": [
    "# numpy is faster"
   ]
  },
  {
   "cell_type": "code",
   "execution_count": 65,
   "id": "44bf3bfe-c308-4331-85f9-2188eb0d241e",
   "metadata": {},
   "outputs": [
    {
     "name": "stdout",
     "output_type": "stream",
     "text": [
      "78.2 µs ± 4.04 µs per loop (mean ± std. dev. of 7 runs, 10000 loops each)\n"
     ]
    }
   ],
   "source": [
    "c=np.arange(100000)\n",
    "\n",
    "%timeit c+1"
   ]
  },
  {
   "cell_type": "code",
   "execution_count": 66,
   "id": "07099b1c-7c71-4172-8757-1a25fc5e5f96",
   "metadata": {},
   "outputs": [
    {
     "name": "stdout",
     "output_type": "stream",
     "text": [
      "40.8 ms ± 2.78 ms per loop (mean ± std. dev. of 7 runs, 10 loops each)\n"
     ]
    }
   ],
   "source": [
    "%timeit [i+1 for i in c]"
   ]
  },
  {
   "cell_type": "markdown",
   "id": "f0cc91f8-3dd2-40a8-b160-de1839b903d5",
   "metadata": {},
   "source": [
    "# Matrix computation"
   ]
  },
  {
   "cell_type": "code",
   "execution_count": 87,
   "id": "f7c739d7-6f41-4538-bb05-351eda33686c",
   "metadata": {},
   "outputs": [
    {
     "name": "stdout",
     "output_type": "stream",
     "text": [
      "[[2. 3. 5. 3.]\n",
      " [4. 2. 3. 3.]\n",
      " [3. 5. 3. 2.]\n",
      " [2. 4. 5. 5.]\n",
      " [5. 5. 4. 2.]]\n",
      "[[ 6 12  4  3]\n",
      " [ 2  6 16  2]\n",
      " [ 1  2  8  6]]\n"
     ]
    }
   ],
   "source": [
    "#matrix add, multply\n",
    "a=np.random.randint(1,5,(5,4))\n",
    "b=np.ones((5,4))\n",
    "print(a+b)\n",
    "c=np.random.randint(1,5,(3,4))\n",
    "d=np.random.randint(1,5,(3,4))\n",
    "print(c*d)"
   ]
  },
  {
   "cell_type": "code",
   "execution_count": 91,
   "id": "76fe6229-fbb6-45f7-9437-f3080289055d",
   "metadata": {},
   "outputs": [
    {
     "data": {
      "text/plain": [
       "array([[ 9, 24, 21],\n",
       "       [ 4, 12, 11],\n",
       "       [ 5, 16, 15]])"
      ]
     },
     "execution_count": 91,
     "metadata": {},
     "output_type": "execute_result"
    }
   ],
   "source": [
    "#matrix dot\n",
    "a=np.random.randint(1,5,(3,2))\n",
    "b=np.random.randint(1,5,(2,3))\n",
    "np.dot(a,b)"
   ]
  },
  {
   "cell_type": "markdown",
   "id": "21d8d185-4fcc-4200-be71-871f744b6e6f",
   "metadata": {},
   "source": [
    "# boolean operations"
   ]
  },
  {
   "cell_type": "code",
   "execution_count": 95,
   "id": "2a9a56cc-aad9-4218-821d-9ddfc0bd5778",
   "metadata": {},
   "outputs": [
    {
     "name": "stdout",
     "output_type": "stream",
     "text": [
      "True\n",
      "False\n"
     ]
    }
   ],
   "source": [
    "a=np.array([1,2,3,4])\n",
    "b=np.array([4,2,2,4])\n",
    "#any()=>True, it means as long as it has True\n",
    "print((a==b).any())\n",
    "#all()=>False, it means as long as it has False\n",
    "print((a==b).all())"
   ]
  },
  {
   "cell_type": "markdown",
   "id": "7519e677-9cfb-476d-af87-ee8eb28880e5",
   "metadata": {},
   "source": [
    "# buildin functions"
   ]
  },
  {
   "cell_type": "code",
   "execution_count": 99,
   "id": "4dabc91e-56b6-4b16-9ce8-61b8614b0238",
   "metadata": {},
   "outputs": [
    {
     "name": "stdout",
     "output_type": "stream",
     "text": [
      "[ 1.          0.54030231 -0.41614684 -0.9899925  -0.65364362  0.28366219]\n",
      "[  1.           2.71828183   7.3890561   20.08553692  54.59815003\n",
      " 148.4131591 ]\n",
      "[0.         1.         1.41421356 1.73205081 2.         2.23606798]\n",
      "15\n",
      "2.5\n",
      "1.707825127659933\n",
      "0\n",
      "5\n",
      "0\n",
      "5\n"
     ]
    }
   ],
   "source": [
    "a=np.arange(6)\n",
    "print(np.cos(a))\n",
    "print(np.exp(a))\n",
    "print(np.sqrt(a))\n",
    "print(a.sum())\n",
    "print(a.mean())\n",
    "print(a.std())\n",
    "print(a.min())\n",
    "print(a.max())\n",
    "print(a.argmin())\n",
    "print(a.argmax())"
   ]
  },
  {
   "cell_type": "markdown",
   "id": "0e34d440-78af-4bfa-90c6-3dd6598062ea",
   "metadata": {},
   "source": [
    "# axis"
   ]
  },
  {
   "cell_type": "code",
   "execution_count": 110,
   "id": "bcfece52-1f62-48c9-ab4c-ab7aabc75132",
   "metadata": {},
   "outputs": [
    {
     "name": "stdout",
     "output_type": "stream",
     "text": [
      "[[4 4 1 1]\n",
      " [3 3 2 1]\n",
      " [4 2 3 4]\n",
      " [3 1 1 2]\n",
      " [1 4 4 1]\n",
      " [1 4 4 1]]\n",
      "59\n",
      "[16 18 15 10]\n",
      "[10  9 13  7 10 10]\n",
      "[1 1 1 1]\n",
      "[4 3 0 0]\n"
     ]
    }
   ],
   "source": [
    "#axis=0,1\n",
    "a=np.random.randint(1,5,(6,4))\n",
    "print(a)\n",
    "print(a.sum())\n",
    "print(a.sum(axis=0))\n",
    "print(a.sum(axis=1))\n",
    "print(a.min(axis=0))\n",
    "print(a.argmin(axis=0))"
   ]
  },
  {
   "cell_type": "code",
   "execution_count": null,
   "id": "b36e5c64-8ab4-4cb0-96d7-4e7c5d9b939d",
   "metadata": {},
   "outputs": [],
   "source": []
  },
  {
   "cell_type": "code",
   "execution_count": null,
   "id": "b761dacb-9226-4e61-a50a-f31f1ae2c500",
   "metadata": {},
   "outputs": [],
   "source": []
  }
 ],
 "metadata": {
  "kernelspec": {
   "display_name": "Python 3 (ipykernel)",
   "language": "python",
   "name": "python3"
  },
  "language_info": {
   "codemirror_mode": {
    "name": "ipython",
    "version": 3
   },
   "file_extension": ".py",
   "mimetype": "text/x-python",
   "name": "python",
   "nbconvert_exporter": "python",
   "pygments_lexer": "ipython3",
   "version": "3.8.12"
  }
 },
 "nbformat": 4,
 "nbformat_minor": 5
}
