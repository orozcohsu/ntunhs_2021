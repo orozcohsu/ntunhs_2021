{
 "cells": [
  {
   "cell_type": "code",
   "execution_count": 6,
   "id": "6b5105bb-44d7-439b-9435-f06ab424e1b2",
   "metadata": {},
   "outputs": [],
   "source": [
    "import pandas as pd\n",
    "import numpy as np"
   ]
  },
  {
   "cell_type": "markdown",
   "id": "ed0c1e73-57f6-47ff-9661-c018cf38cee9",
   "metadata": {},
   "source": [
    "# Basic "
   ]
  },
  {
   "cell_type": "code",
   "execution_count": 4,
   "id": "a1f18b44-62cc-4442-97ab-a2b9f4b8f2bd",
   "metadata": {},
   "outputs": [
    {
     "data": {
      "text/plain": [
       "0    4\n",
       "1    2\n",
       "2    5\n",
       "3    0\n",
       "4    6\n",
       "5    3\n",
       "dtype: int64"
      ]
     },
     "execution_count": 4,
     "metadata": {},
     "output_type": "execute_result"
    }
   ],
   "source": [
    "s=pd.Series([4,2,5,0,6,3])\n",
    "s"
   ]
  },
  {
   "cell_type": "code",
   "execution_count": 10,
   "id": "8ab54718-a899-4a1a-9d5b-3d85575a63b3",
   "metadata": {},
   "outputs": [
    {
     "data": {
      "text/html": [
       "<div>\n",
       "<style scoped>\n",
       "    .dataframe tbody tr th:only-of-type {\n",
       "        vertical-align: middle;\n",
       "    }\n",
       "\n",
       "    .dataframe tbody tr th {\n",
       "        vertical-align: top;\n",
       "    }\n",
       "\n",
       "    .dataframe thead th {\n",
       "        text-align: right;\n",
       "    }\n",
       "</style>\n",
       "<table border=\"1\" class=\"dataframe\">\n",
       "  <thead>\n",
       "    <tr style=\"text-align: right;\">\n",
       "      <th></th>\n",
       "      <th>A</th>\n",
       "      <th>B</th>\n",
       "      <th>C</th>\n",
       "      <th>D</th>\n",
       "    </tr>\n",
       "  </thead>\n",
       "  <tbody>\n",
       "    <tr>\n",
       "      <th>0</th>\n",
       "      <td>0.880296</td>\n",
       "      <td>-0.470597</td>\n",
       "      <td>-0.521338</td>\n",
       "      <td>-1.590632</td>\n",
       "    </tr>\n",
       "    <tr>\n",
       "      <th>1</th>\n",
       "      <td>-0.424702</td>\n",
       "      <td>-1.242345</td>\n",
       "      <td>-1.435050</td>\n",
       "      <td>-1.008606</td>\n",
       "    </tr>\n",
       "    <tr>\n",
       "      <th>2</th>\n",
       "      <td>0.939847</td>\n",
       "      <td>1.147058</td>\n",
       "      <td>1.103125</td>\n",
       "      <td>-1.009457</td>\n",
       "    </tr>\n",
       "    <tr>\n",
       "      <th>3</th>\n",
       "      <td>-1.003291</td>\n",
       "      <td>-0.902755</td>\n",
       "      <td>0.909960</td>\n",
       "      <td>-0.339356</td>\n",
       "    </tr>\n",
       "    <tr>\n",
       "      <th>4</th>\n",
       "      <td>1.032955</td>\n",
       "      <td>-1.356164</td>\n",
       "      <td>0.940168</td>\n",
       "      <td>-0.678172</td>\n",
       "    </tr>\n",
       "    <tr>\n",
       "      <th>5</th>\n",
       "      <td>-2.495200</td>\n",
       "      <td>0.515089</td>\n",
       "      <td>-0.298392</td>\n",
       "      <td>1.277271</td>\n",
       "    </tr>\n",
       "  </tbody>\n",
       "</table>\n",
       "</div>"
      ],
      "text/plain": [
       "          A         B         C         D\n",
       "0  0.880296 -0.470597 -0.521338 -1.590632\n",
       "1 -0.424702 -1.242345 -1.435050 -1.008606\n",
       "2  0.939847  1.147058  1.103125 -1.009457\n",
       "3 -1.003291 -0.902755  0.909960 -0.339356\n",
       "4  1.032955 -1.356164  0.940168 -0.678172\n",
       "5 -2.495200  0.515089 -0.298392  1.277271"
      ]
     },
     "execution_count": 10,
     "metadata": {},
     "output_type": "execute_result"
    }
   ],
   "source": [
    "df=pd.DataFrame(np.random.randn(6,4), columns=list('ABCD'))\n",
    "df"
   ]
  },
  {
   "cell_type": "code",
   "execution_count": 36,
   "id": "084a1fb1-8769-42c5-b518-a323e56b76a8",
   "metadata": {},
   "outputs": [
    {
     "data": {
      "text/plain": [
       "B   -0.470597\n",
       "C   -0.521338\n",
       "D   -1.590632\n",
       "Name: 0, dtype: object"
      ]
     },
     "execution_count": 36,
     "metadata": {},
     "output_type": "execute_result"
    }
   ],
   "source": [
    "df.iloc[0,1:4]"
   ]
  },
  {
   "cell_type": "code",
   "execution_count": 35,
   "id": "1ca7e9e2-4972-454d-b503-04664fc6c650",
   "metadata": {},
   "outputs": [
    {
     "data": {
      "text/plain": [
       "-0.9027550424616431"
      ]
     },
     "execution_count": 35,
     "metadata": {},
     "output_type": "execute_result"
    }
   ],
   "source": [
    "df.loc[3,'B']"
   ]
  },
  {
   "cell_type": "code",
   "execution_count": 12,
   "id": "f494af2e-1409-4c4e-a9b2-7214cf1a1ea2",
   "metadata": {},
   "outputs": [
    {
     "data": {
      "text/plain": [
       "0    0.880296\n",
       "1   -0.424702\n",
       "2    0.939847\n",
       "3   -1.003291\n",
       "4    1.032955\n",
       "5   -2.495200\n",
       "Name: A, dtype: float64"
      ]
     },
     "execution_count": 12,
     "metadata": {},
     "output_type": "execute_result"
    }
   ],
   "source": [
    "df.A"
   ]
  },
  {
   "cell_type": "code",
   "execution_count": 13,
   "id": "1fa08511-92a8-40a9-89ed-40c7e08ffbf7",
   "metadata": {},
   "outputs": [
    {
     "data": {
      "text/plain": [
       "0    0.880296\n",
       "1   -0.424702\n",
       "2    0.939847\n",
       "3   -1.003291\n",
       "4    1.032955\n",
       "5   -2.495200\n",
       "Name: A, dtype: float64"
      ]
     },
     "execution_count": 13,
     "metadata": {},
     "output_type": "execute_result"
    }
   ],
   "source": [
    "df['A']"
   ]
  },
  {
   "cell_type": "code",
   "execution_count": 14,
   "id": "1eaa3a3a-0030-4edf-9669-abed0b51e0c7",
   "metadata": {},
   "outputs": [
    {
     "data": {
      "text/html": [
       "<div>\n",
       "<style scoped>\n",
       "    .dataframe tbody tr th:only-of-type {\n",
       "        vertical-align: middle;\n",
       "    }\n",
       "\n",
       "    .dataframe tbody tr th {\n",
       "        vertical-align: top;\n",
       "    }\n",
       "\n",
       "    .dataframe thead th {\n",
       "        text-align: right;\n",
       "    }\n",
       "</style>\n",
       "<table border=\"1\" class=\"dataframe\">\n",
       "  <thead>\n",
       "    <tr style=\"text-align: right;\">\n",
       "      <th></th>\n",
       "      <th>A</th>\n",
       "      <th>B</th>\n",
       "      <th>C</th>\n",
       "      <th>D</th>\n",
       "    </tr>\n",
       "  </thead>\n",
       "  <tbody>\n",
       "    <tr>\n",
       "      <th>0</th>\n",
       "      <td>0.880296</td>\n",
       "      <td>-0.470597</td>\n",
       "      <td>-0.521338</td>\n",
       "      <td>-1.590632</td>\n",
       "    </tr>\n",
       "    <tr>\n",
       "      <th>1</th>\n",
       "      <td>-0.424702</td>\n",
       "      <td>-1.242345</td>\n",
       "      <td>-1.435050</td>\n",
       "      <td>-1.008606</td>\n",
       "    </tr>\n",
       "    <tr>\n",
       "      <th>2</th>\n",
       "      <td>0.939847</td>\n",
       "      <td>1.147058</td>\n",
       "      <td>1.103125</td>\n",
       "      <td>-1.009457</td>\n",
       "    </tr>\n",
       "  </tbody>\n",
       "</table>\n",
       "</div>"
      ],
      "text/plain": [
       "          A         B         C         D\n",
       "0  0.880296 -0.470597 -0.521338 -1.590632\n",
       "1 -0.424702 -1.242345 -1.435050 -1.008606\n",
       "2  0.939847  1.147058  1.103125 -1.009457"
      ]
     },
     "execution_count": 14,
     "metadata": {},
     "output_type": "execute_result"
    }
   ],
   "source": [
    "df.head(3)"
   ]
  },
  {
   "cell_type": "code",
   "execution_count": 15,
   "id": "1d5924a5-634e-424b-adb8-3a8ec312a4b6",
   "metadata": {},
   "outputs": [
    {
     "data": {
      "text/plain": [
       "(6, 4)"
      ]
     },
     "execution_count": 15,
     "metadata": {},
     "output_type": "execute_result"
    }
   ],
   "source": [
    "df.shape"
   ]
  },
  {
   "cell_type": "code",
   "execution_count": 17,
   "id": "6673ca09-9a52-43ee-a3dd-1d1bdf425412",
   "metadata": {},
   "outputs": [
    {
     "data": {
      "text/plain": [
       "array([0, 1, 2, 3, 4, 5], dtype=int64)"
      ]
     },
     "execution_count": 17,
     "metadata": {},
     "output_type": "execute_result"
    }
   ],
   "source": [
    "df.index.values"
   ]
  },
  {
   "cell_type": "code",
   "execution_count": 18,
   "id": "7fdfa3c4-9bc6-4657-81de-c7f5938339c4",
   "metadata": {},
   "outputs": [
    {
     "data": {
      "text/plain": [
       "Index(['A', 'B', 'C', 'D'], dtype='object')"
      ]
     },
     "execution_count": 18,
     "metadata": {},
     "output_type": "execute_result"
    }
   ],
   "source": [
    "df.columns"
   ]
  },
  {
   "cell_type": "code",
   "execution_count": 19,
   "id": "8b68cdc0-4a42-4f56-98fa-f7cf6f10855b",
   "metadata": {},
   "outputs": [
    {
     "data": {
      "text/html": [
       "<div>\n",
       "<style scoped>\n",
       "    .dataframe tbody tr th:only-of-type {\n",
       "        vertical-align: middle;\n",
       "    }\n",
       "\n",
       "    .dataframe tbody tr th {\n",
       "        vertical-align: top;\n",
       "    }\n",
       "\n",
       "    .dataframe thead th {\n",
       "        text-align: right;\n",
       "    }\n",
       "</style>\n",
       "<table border=\"1\" class=\"dataframe\">\n",
       "  <thead>\n",
       "    <tr style=\"text-align: right;\">\n",
       "      <th></th>\n",
       "      <th>A</th>\n",
       "      <th>B</th>\n",
       "      <th>C</th>\n",
       "      <th>D</th>\n",
       "    </tr>\n",
       "  </thead>\n",
       "  <tbody>\n",
       "    <tr>\n",
       "      <th>count</th>\n",
       "      <td>6.000000</td>\n",
       "      <td>6.000000</td>\n",
       "      <td>6.000000</td>\n",
       "      <td>6.000000</td>\n",
       "    </tr>\n",
       "    <tr>\n",
       "      <th>mean</th>\n",
       "      <td>-0.178349</td>\n",
       "      <td>-0.384952</td>\n",
       "      <td>0.116412</td>\n",
       "      <td>-0.558159</td>\n",
       "    </tr>\n",
       "    <tr>\n",
       "      <th>std</th>\n",
       "      <td>1.410487</td>\n",
       "      <td>1.011035</td>\n",
       "      <td>1.026422</td>\n",
       "      <td>0.990319</td>\n",
       "    </tr>\n",
       "    <tr>\n",
       "      <th>min</th>\n",
       "      <td>-2.495200</td>\n",
       "      <td>-1.356164</td>\n",
       "      <td>-1.435050</td>\n",
       "      <td>-1.590632</td>\n",
       "    </tr>\n",
       "    <tr>\n",
       "      <th>25%</th>\n",
       "      <td>-0.858644</td>\n",
       "      <td>-1.157447</td>\n",
       "      <td>-0.465601</td>\n",
       "      <td>-1.009244</td>\n",
       "    </tr>\n",
       "    <tr>\n",
       "      <th>50%</th>\n",
       "      <td>0.227797</td>\n",
       "      <td>-0.686676</td>\n",
       "      <td>0.305784</td>\n",
       "      <td>-0.843389</td>\n",
       "    </tr>\n",
       "    <tr>\n",
       "      <th>75%</th>\n",
       "      <td>0.924959</td>\n",
       "      <td>0.268668</td>\n",
       "      <td>0.932616</td>\n",
       "      <td>-0.424060</td>\n",
       "    </tr>\n",
       "    <tr>\n",
       "      <th>max</th>\n",
       "      <td>1.032955</td>\n",
       "      <td>1.147058</td>\n",
       "      <td>1.103125</td>\n",
       "      <td>1.277271</td>\n",
       "    </tr>\n",
       "  </tbody>\n",
       "</table>\n",
       "</div>"
      ],
      "text/plain": [
       "              A         B         C         D\n",
       "count  6.000000  6.000000  6.000000  6.000000\n",
       "mean  -0.178349 -0.384952  0.116412 -0.558159\n",
       "std    1.410487  1.011035  1.026422  0.990319\n",
       "min   -2.495200 -1.356164 -1.435050 -1.590632\n",
       "25%   -0.858644 -1.157447 -0.465601 -1.009244\n",
       "50%    0.227797 -0.686676  0.305784 -0.843389\n",
       "75%    0.924959  0.268668  0.932616 -0.424060\n",
       "max    1.032955  1.147058  1.103125  1.277271"
      ]
     },
     "execution_count": 19,
     "metadata": {},
     "output_type": "execute_result"
    }
   ],
   "source": [
    "df.describe()"
   ]
  },
  {
   "cell_type": "code",
   "execution_count": 22,
   "id": "c2e35aa1-4070-4eb8-8ae1-d55380262a1f",
   "metadata": {},
   "outputs": [
    {
     "data": {
      "text/html": [
       "<div>\n",
       "<style scoped>\n",
       "    .dataframe tbody tr th:only-of-type {\n",
       "        vertical-align: middle;\n",
       "    }\n",
       "\n",
       "    .dataframe tbody tr th {\n",
       "        vertical-align: top;\n",
       "    }\n",
       "\n",
       "    .dataframe thead th {\n",
       "        text-align: right;\n",
       "    }\n",
       "</style>\n",
       "<table border=\"1\" class=\"dataframe\">\n",
       "  <thead>\n",
       "    <tr style=\"text-align: right;\">\n",
       "      <th></th>\n",
       "      <th>D</th>\n",
       "      <th>C</th>\n",
       "      <th>B</th>\n",
       "      <th>A</th>\n",
       "    </tr>\n",
       "  </thead>\n",
       "  <tbody>\n",
       "    <tr>\n",
       "      <th>0</th>\n",
       "      <td>-1.590632</td>\n",
       "      <td>-0.521338</td>\n",
       "      <td>-0.470597</td>\n",
       "      <td>0.880296</td>\n",
       "    </tr>\n",
       "    <tr>\n",
       "      <th>1</th>\n",
       "      <td>-1.008606</td>\n",
       "      <td>-1.435050</td>\n",
       "      <td>-1.242345</td>\n",
       "      <td>-0.424702</td>\n",
       "    </tr>\n",
       "    <tr>\n",
       "      <th>2</th>\n",
       "      <td>-1.009457</td>\n",
       "      <td>1.103125</td>\n",
       "      <td>1.147058</td>\n",
       "      <td>0.939847</td>\n",
       "    </tr>\n",
       "    <tr>\n",
       "      <th>3</th>\n",
       "      <td>-0.339356</td>\n",
       "      <td>0.909960</td>\n",
       "      <td>-0.902755</td>\n",
       "      <td>-1.003291</td>\n",
       "    </tr>\n",
       "    <tr>\n",
       "      <th>4</th>\n",
       "      <td>-0.678172</td>\n",
       "      <td>0.940168</td>\n",
       "      <td>-1.356164</td>\n",
       "      <td>1.032955</td>\n",
       "    </tr>\n",
       "    <tr>\n",
       "      <th>5</th>\n",
       "      <td>1.277271</td>\n",
       "      <td>-0.298392</td>\n",
       "      <td>0.515089</td>\n",
       "      <td>-2.495200</td>\n",
       "    </tr>\n",
       "  </tbody>\n",
       "</table>\n",
       "</div>"
      ],
      "text/plain": [
       "          D         C         B         A\n",
       "0 -1.590632 -0.521338 -0.470597  0.880296\n",
       "1 -1.008606 -1.435050 -1.242345 -0.424702\n",
       "2 -1.009457  1.103125  1.147058  0.939847\n",
       "3 -0.339356  0.909960 -0.902755 -1.003291\n",
       "4 -0.678172  0.940168 -1.356164  1.032955\n",
       "5  1.277271 -0.298392  0.515089 -2.495200"
      ]
     },
     "execution_count": 22,
     "metadata": {},
     "output_type": "execute_result"
    }
   ],
   "source": [
    "df.sort_index(axis=1,ascending=False)"
   ]
  },
  {
   "cell_type": "code",
   "execution_count": 23,
   "id": "6f4531d0-cfbf-482e-90a3-1a913a701454",
   "metadata": {},
   "outputs": [
    {
     "data": {
      "text/html": [
       "<div>\n",
       "<style scoped>\n",
       "    .dataframe tbody tr th:only-of-type {\n",
       "        vertical-align: middle;\n",
       "    }\n",
       "\n",
       "    .dataframe tbody tr th {\n",
       "        vertical-align: top;\n",
       "    }\n",
       "\n",
       "    .dataframe thead th {\n",
       "        text-align: right;\n",
       "    }\n",
       "</style>\n",
       "<table border=\"1\" class=\"dataframe\">\n",
       "  <thead>\n",
       "    <tr style=\"text-align: right;\">\n",
       "      <th></th>\n",
       "      <th>A</th>\n",
       "      <th>B</th>\n",
       "      <th>C</th>\n",
       "      <th>D</th>\n",
       "    </tr>\n",
       "  </thead>\n",
       "  <tbody>\n",
       "    <tr>\n",
       "      <th>4</th>\n",
       "      <td>1.032955</td>\n",
       "      <td>-1.356164</td>\n",
       "      <td>0.940168</td>\n",
       "      <td>-0.678172</td>\n",
       "    </tr>\n",
       "    <tr>\n",
       "      <th>1</th>\n",
       "      <td>-0.424702</td>\n",
       "      <td>-1.242345</td>\n",
       "      <td>-1.435050</td>\n",
       "      <td>-1.008606</td>\n",
       "    </tr>\n",
       "    <tr>\n",
       "      <th>3</th>\n",
       "      <td>-1.003291</td>\n",
       "      <td>-0.902755</td>\n",
       "      <td>0.909960</td>\n",
       "      <td>-0.339356</td>\n",
       "    </tr>\n",
       "    <tr>\n",
       "      <th>0</th>\n",
       "      <td>0.880296</td>\n",
       "      <td>-0.470597</td>\n",
       "      <td>-0.521338</td>\n",
       "      <td>-1.590632</td>\n",
       "    </tr>\n",
       "    <tr>\n",
       "      <th>5</th>\n",
       "      <td>-2.495200</td>\n",
       "      <td>0.515089</td>\n",
       "      <td>-0.298392</td>\n",
       "      <td>1.277271</td>\n",
       "    </tr>\n",
       "    <tr>\n",
       "      <th>2</th>\n",
       "      <td>0.939847</td>\n",
       "      <td>1.147058</td>\n",
       "      <td>1.103125</td>\n",
       "      <td>-1.009457</td>\n",
       "    </tr>\n",
       "  </tbody>\n",
       "</table>\n",
       "</div>"
      ],
      "text/plain": [
       "          A         B         C         D\n",
       "4  1.032955 -1.356164  0.940168 -0.678172\n",
       "1 -0.424702 -1.242345 -1.435050 -1.008606\n",
       "3 -1.003291 -0.902755  0.909960 -0.339356\n",
       "0  0.880296 -0.470597 -0.521338 -1.590632\n",
       "5 -2.495200  0.515089 -0.298392  1.277271\n",
       "2  0.939847  1.147058  1.103125 -1.009457"
      ]
     },
     "execution_count": 23,
     "metadata": {},
     "output_type": "execute_result"
    }
   ],
   "source": [
    "df.sort_values(by='B')"
   ]
  },
  {
   "cell_type": "code",
   "execution_count": 24,
   "id": "54e8dbab-8168-4ca2-b963-77db72064309",
   "metadata": {},
   "outputs": [
    {
     "data": {
      "text/html": [
       "<div>\n",
       "<style scoped>\n",
       "    .dataframe tbody tr th:only-of-type {\n",
       "        vertical-align: middle;\n",
       "    }\n",
       "\n",
       "    .dataframe tbody tr th {\n",
       "        vertical-align: top;\n",
       "    }\n",
       "\n",
       "    .dataframe thead th {\n",
       "        text-align: right;\n",
       "    }\n",
       "</style>\n",
       "<table border=\"1\" class=\"dataframe\">\n",
       "  <thead>\n",
       "    <tr style=\"text-align: right;\">\n",
       "      <th></th>\n",
       "      <th>A</th>\n",
       "      <th>B</th>\n",
       "      <th>C</th>\n",
       "      <th>D</th>\n",
       "    </tr>\n",
       "  </thead>\n",
       "  <tbody>\n",
       "    <tr>\n",
       "      <th>3</th>\n",
       "      <td>-1.003291</td>\n",
       "      <td>-0.902755</td>\n",
       "      <td>0.909960</td>\n",
       "      <td>-0.339356</td>\n",
       "    </tr>\n",
       "    <tr>\n",
       "      <th>4</th>\n",
       "      <td>1.032955</td>\n",
       "      <td>-1.356164</td>\n",
       "      <td>0.940168</td>\n",
       "      <td>-0.678172</td>\n",
       "    </tr>\n",
       "  </tbody>\n",
       "</table>\n",
       "</div>"
      ],
      "text/plain": [
       "          A         B         C         D\n",
       "3 -1.003291 -0.902755  0.909960 -0.339356\n",
       "4  1.032955 -1.356164  0.940168 -0.678172"
      ]
     },
     "execution_count": 24,
     "metadata": {},
     "output_type": "execute_result"
    }
   ],
   "source": [
    "df[3:5]"
   ]
  },
  {
   "cell_type": "code",
   "execution_count": 26,
   "id": "6f340094-76e0-4114-bf92-94c870f3e6ba",
   "metadata": {},
   "outputs": [
    {
     "data": {
      "text/plain": [
       "-1.0032912622712415"
      ]
     },
     "execution_count": 26,
     "metadata": {},
     "output_type": "execute_result"
    }
   ],
   "source": [
    "df.loc[3,'A']"
   ]
  },
  {
   "cell_type": "code",
   "execution_count": 27,
   "id": "5d8a2497-dd3d-4cf2-bdd5-bebeea64fdcc",
   "metadata": {},
   "outputs": [
    {
     "data": {
      "text/html": [
       "<div>\n",
       "<style scoped>\n",
       "    .dataframe tbody tr th:only-of-type {\n",
       "        vertical-align: middle;\n",
       "    }\n",
       "\n",
       "    .dataframe tbody tr th {\n",
       "        vertical-align: top;\n",
       "    }\n",
       "\n",
       "    .dataframe thead th {\n",
       "        text-align: right;\n",
       "    }\n",
       "</style>\n",
       "<table border=\"1\" class=\"dataframe\">\n",
       "  <thead>\n",
       "    <tr style=\"text-align: right;\">\n",
       "      <th></th>\n",
       "      <th>A</th>\n",
       "      <th>B</th>\n",
       "      <th>C</th>\n",
       "      <th>D</th>\n",
       "    </tr>\n",
       "  </thead>\n",
       "  <tbody>\n",
       "    <tr>\n",
       "      <th>2</th>\n",
       "      <td>0.939847</td>\n",
       "      <td>1.147058</td>\n",
       "      <td>1.103125</td>\n",
       "      <td>-1.009457</td>\n",
       "    </tr>\n",
       "    <tr>\n",
       "      <th>3</th>\n",
       "      <td>-1.003291</td>\n",
       "      <td>-0.902755</td>\n",
       "      <td>0.909960</td>\n",
       "      <td>-0.339356</td>\n",
       "    </tr>\n",
       "    <tr>\n",
       "      <th>4</th>\n",
       "      <td>1.032955</td>\n",
       "      <td>-1.356164</td>\n",
       "      <td>0.940168</td>\n",
       "      <td>-0.678172</td>\n",
       "    </tr>\n",
       "  </tbody>\n",
       "</table>\n",
       "</div>"
      ],
      "text/plain": [
       "          A         B         C         D\n",
       "2  0.939847  1.147058  1.103125 -1.009457\n",
       "3 -1.003291 -0.902755  0.909960 -0.339356\n",
       "4  1.032955 -1.356164  0.940168 -0.678172"
      ]
     },
     "execution_count": 27,
     "metadata": {},
     "output_type": "execute_result"
    }
   ],
   "source": [
    "df[df.C>0]"
   ]
  },
  {
   "cell_type": "code",
   "execution_count": 33,
   "id": "df632102-f622-4d01-a7db-b2f6059e9700",
   "metadata": {},
   "outputs": [
    {
     "data": {
      "text/html": [
       "<div>\n",
       "<style scoped>\n",
       "    .dataframe tbody tr th:only-of-type {\n",
       "        vertical-align: middle;\n",
       "    }\n",
       "\n",
       "    .dataframe tbody tr th {\n",
       "        vertical-align: top;\n",
       "    }\n",
       "\n",
       "    .dataframe thead th {\n",
       "        text-align: right;\n",
       "    }\n",
       "</style>\n",
       "<table border=\"1\" class=\"dataframe\">\n",
       "  <thead>\n",
       "    <tr style=\"text-align: right;\">\n",
       "      <th></th>\n",
       "      <th>A</th>\n",
       "      <th>B</th>\n",
       "      <th>C</th>\n",
       "      <th>D</th>\n",
       "      <th>TAG</th>\n",
       "    </tr>\n",
       "  </thead>\n",
       "  <tbody>\n",
       "    <tr>\n",
       "      <th>0</th>\n",
       "      <td>0.880296</td>\n",
       "      <td>-0.470597</td>\n",
       "      <td>-0.521338</td>\n",
       "      <td>-1.590632</td>\n",
       "      <td>cat</td>\n",
       "    </tr>\n",
       "    <tr>\n",
       "      <th>1</th>\n",
       "      <td>-0.424702</td>\n",
       "      <td>-1.242345</td>\n",
       "      <td>-1.435050</td>\n",
       "      <td>-1.008606</td>\n",
       "      <td>dog</td>\n",
       "    </tr>\n",
       "    <tr>\n",
       "      <th>2</th>\n",
       "      <td>0.939847</td>\n",
       "      <td>1.147058</td>\n",
       "      <td>1.103125</td>\n",
       "      <td>-1.009457</td>\n",
       "      <td>cat</td>\n",
       "    </tr>\n",
       "    <tr>\n",
       "      <th>3</th>\n",
       "      <td>-1.003291</td>\n",
       "      <td>-0.902755</td>\n",
       "      <td>0.909960</td>\n",
       "      <td>-0.339356</td>\n",
       "      <td>cat</td>\n",
       "    </tr>\n",
       "    <tr>\n",
       "      <th>4</th>\n",
       "      <td>1.032955</td>\n",
       "      <td>-1.356164</td>\n",
       "      <td>0.940168</td>\n",
       "      <td>-0.678172</td>\n",
       "      <td>cat</td>\n",
       "    </tr>\n",
       "    <tr>\n",
       "      <th>5</th>\n",
       "      <td>-2.495200</td>\n",
       "      <td>0.515089</td>\n",
       "      <td>-0.298392</td>\n",
       "      <td>1.277271</td>\n",
       "      <td>dog</td>\n",
       "    </tr>\n",
       "  </tbody>\n",
       "</table>\n",
       "</div>"
      ],
      "text/plain": [
       "          A         B         C         D  TAG\n",
       "0  0.880296 -0.470597 -0.521338 -1.590632  cat\n",
       "1 -0.424702 -1.242345 -1.435050 -1.008606  dog\n",
       "2  0.939847  1.147058  1.103125 -1.009457  cat\n",
       "3 -1.003291 -0.902755  0.909960 -0.339356  cat\n",
       "4  1.032955 -1.356164  0.940168 -0.678172  cat\n",
       "5 -2.495200  0.515089 -0.298392  1.277271  dog"
      ]
     },
     "execution_count": 33,
     "metadata": {},
     "output_type": "execute_result"
    }
   ],
   "source": [
    "df['TAG']=['cat','dog','cat','cat','cat','dog']\n",
    "df"
   ]
  },
  {
   "cell_type": "code",
   "execution_count": 37,
   "id": "edce05eb-9199-436e-9865-f00a5984bfc4",
   "metadata": {},
   "outputs": [
    {
     "data": {
      "text/html": [
       "<div>\n",
       "<style scoped>\n",
       "    .dataframe tbody tr th:only-of-type {\n",
       "        vertical-align: middle;\n",
       "    }\n",
       "\n",
       "    .dataframe tbody tr th {\n",
       "        vertical-align: top;\n",
       "    }\n",
       "\n",
       "    .dataframe thead th {\n",
       "        text-align: right;\n",
       "    }\n",
       "</style>\n",
       "<table border=\"1\" class=\"dataframe\">\n",
       "  <thead>\n",
       "    <tr style=\"text-align: right;\">\n",
       "      <th></th>\n",
       "      <th>A</th>\n",
       "      <th>B</th>\n",
       "      <th>C</th>\n",
       "      <th>D</th>\n",
       "    </tr>\n",
       "    <tr>\n",
       "      <th>TAG</th>\n",
       "      <th></th>\n",
       "      <th></th>\n",
       "      <th></th>\n",
       "      <th></th>\n",
       "    </tr>\n",
       "  </thead>\n",
       "  <tbody>\n",
       "    <tr>\n",
       "      <th>cat</th>\n",
       "      <td>1.849806</td>\n",
       "      <td>-1.582458</td>\n",
       "      <td>2.431915</td>\n",
       "      <td>-3.617617</td>\n",
       "    </tr>\n",
       "    <tr>\n",
       "      <th>dog</th>\n",
       "      <td>-2.919902</td>\n",
       "      <td>-0.727255</td>\n",
       "      <td>-1.733442</td>\n",
       "      <td>0.268665</td>\n",
       "    </tr>\n",
       "  </tbody>\n",
       "</table>\n",
       "</div>"
      ],
      "text/plain": [
       "            A         B         C         D\n",
       "TAG                                        \n",
       "cat  1.849806 -1.582458  2.431915 -3.617617\n",
       "dog -2.919902 -0.727255 -1.733442  0.268665"
      ]
     },
     "execution_count": 37,
     "metadata": {},
     "output_type": "execute_result"
    }
   ],
   "source": [
    "df.groupby('TAG').sum()"
   ]
  },
  {
   "cell_type": "code",
   "execution_count": 40,
   "id": "d1bb8b57-5912-428c-8425-f647ffb44359",
   "metadata": {},
   "outputs": [
    {
     "name": "stdout",
     "output_type": "stream",
     "text": [
      "(366,)\n",
      "2021-11-14   -0.106897\n",
      "2021-11-15    0.027335\n",
      "2021-11-16    1.634052\n",
      "2021-11-17    0.159984\n",
      "2021-11-18    1.511080\n",
      "                ...   \n",
      "2022-11-10   -1.554345\n",
      "2022-11-11   -1.116571\n",
      "2022-11-12    1.461189\n",
      "2022-11-13    0.727026\n",
      "2022-11-14    0.893988\n",
      "Freq: D, Length: 366, dtype: float64\n"
     ]
    }
   ],
   "source": [
    "#time-series\n",
    "n_items=366\n",
    "ts=pd.Series(np.random.randn(n_items),index=pd.date_range('20211114',periods=n_items))\n",
    "print(ts.shape)\n",
    "print(ts)"
   ]
  },
  {
   "cell_type": "code",
   "execution_count": 41,
   "id": "fdd4f02c-065b-4f3e-babc-3dcaff3ca304",
   "metadata": {},
   "outputs": [
    {
     "data": {
      "text/plain": [
       "2021-11-30     2.651916\n",
       "2021-12-31   -16.000768\n",
       "2022-01-31     0.168879\n",
       "2022-02-28     2.236038\n",
       "2022-03-31     8.592513\n",
       "2022-04-30     3.012580\n",
       "2022-05-31     1.541186\n",
       "2022-06-30    -0.542454\n",
       "2022-07-31     0.172099\n",
       "2022-08-31    -6.529903\n",
       "2022-09-30    -1.103653\n",
       "2022-10-31     1.934138\n",
       "2022-11-30     1.134456\n",
       "Freq: M, dtype: float64"
      ]
     },
     "execution_count": 41,
     "metadata": {},
     "output_type": "execute_result"
    }
   ],
   "source": [
    "#by month summary\n",
    "ts.resample(\"1m\").sum()"
   ]
  },
  {
   "cell_type": "code",
   "execution_count": null,
   "id": "f6b9bff4-5f9a-4e26-a672-c5164b83f627",
   "metadata": {},
   "outputs": [],
   "source": []
  }
 ],
 "metadata": {
  "kernelspec": {
   "display_name": "Python 3 (ipykernel)",
   "language": "python",
   "name": "python3"
  },
  "language_info": {
   "codemirror_mode": {
    "name": "ipython",
    "version": 3
   },
   "file_extension": ".py",
   "mimetype": "text/x-python",
   "name": "python",
   "nbconvert_exporter": "python",
   "pygments_lexer": "ipython3",
   "version": "3.8.12"
  }
 },
 "nbformat": 4,
 "nbformat_minor": 5
}
