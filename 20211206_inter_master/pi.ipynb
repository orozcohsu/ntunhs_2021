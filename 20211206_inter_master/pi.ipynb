{
 "cells": [
  {
   "cell_type": "code",
   "execution_count": 1,
   "id": "f6405f2f-cce8-4092-bb5e-092bcdfbebc8",
   "metadata": {},
   "outputs": [],
   "source": [
    "import numpy as np"
   ]
  },
  {
   "cell_type": "code",
   "execution_count": 3,
   "id": "3f4ab0bc-a451-4279-98e4-baf618b92fe2",
   "metadata": {},
   "outputs": [],
   "source": [
    "#sample dots\n",
    "n_dots=1000000\n",
    "\n",
    "#random dots\n",
    "x=np.random.random(n_dots)\n",
    "y=np.random.random(n_dots)\n",
    "\n",
    "#calculate the distance of original point to the dot \n",
    "distance=np.sqrt(x**2 + y**2)\n",
    "\n",
    "#only get in circle dots\n",
    "in_circle=distance[distance<1]"
   ]
  },
  {
   "cell_type": "code",
   "execution_count": 4,
   "id": "dac706e1-cb95-48e7-98a5-6eab49a85c7e",
   "metadata": {},
   "outputs": [
    {
     "name": "stdout",
     "output_type": "stream",
     "text": [
      "3.142092\n"
     ]
    }
   ],
   "source": [
    "# the circle area ratio need to multiply 4 \n",
    "pi/4=float(len(in_circle))/n_dots\n",
    "print(pi)"
   ]
  },
  {
   "cell_type": "code",
   "execution_count": null,
   "id": "1d4bf34a-3ed9-4489-8bae-530896f48e7e",
   "metadata": {},
   "outputs": [],
   "source": []
  },
  {
   "cell_type": "code",
   "execution_count": null,
   "id": "2187545f-a0f6-409c-b9d8-bf097cafae0c",
   "metadata": {},
   "outputs": [],
   "source": []
  }
 ],
 "metadata": {
  "kernelspec": {
   "display_name": "Python 3 (ipykernel)",
   "language": "python",
   "name": "python3"
  },
  "language_info": {
   "codemirror_mode": {
    "name": "ipython",
    "version": 3
   },
   "file_extension": ".py",
   "mimetype": "text/x-python",
   "name": "python",
   "nbconvert_exporter": "python",
   "pygments_lexer": "ipython3",
   "version": "3.8.12"
  }
 },
 "nbformat": 4,
 "nbformat_minor": 5
}
