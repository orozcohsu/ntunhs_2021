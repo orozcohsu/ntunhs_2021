{
 "cells": [
  {
   "cell_type": "code",
   "execution_count": 1,
   "id": "2f9224b3-090a-482e-8b3f-a06b9071f906",
   "metadata": {},
   "outputs": [],
   "source": [
    "%matplotlib inline"
   ]
  },
  {
   "cell_type": "code",
   "execution_count": 2,
   "id": "269542c3-e4ef-424a-95d0-04f850686124",
   "metadata": {},
   "outputs": [],
   "source": [
    "import matplotlib.pyplot as plt\n",
    "import numpy as np"
   ]
  },
  {
   "cell_type": "code",
   "execution_count": 3,
   "id": "bdfd6d8f-ae26-496c-814e-c4f7eda544dc",
   "metadata": {},
   "outputs": [],
   "source": [
    "n_person=2000\n",
    "n_times=500"
   ]
  },
  {
   "cell_type": "code",
   "execution_count": 25,
   "id": "60144d95-edeb-4c00-815d-7602f17f76a9",
   "metadata": {},
   "outputs": [
    {
     "name": "stdout",
     "output_type": "stream",
     "text": [
      "[[ 1  1 -1 ... -1 -1  1]\n",
      " [ 1 -1 -1 ... -1 -1 -1]\n",
      " [ 1 -1  1 ...  1 -1  1]\n",
      " ...\n",
      " [-1 -1 -1 ...  1 -1  1]\n",
      " [ 1 -1  1 ... -1 -1 -1]\n",
      " [-1  1  1 ...  1  1 -1]]\n"
     ]
    }
   ],
   "source": [
    "t=np.arange(n_times)\n",
    "steps=2*np.random.randint(0,2,(n_person,n_times))-1\n",
    "print(steps)"
   ]
  },
  {
   "cell_type": "code",
   "execution_count": 41,
   "id": "36cef38f-94f5-4f6c-b714-483791fff7c2",
   "metadata": {},
   "outputs": [],
   "source": [
    "amount=np.cumsum(steps,axis=1)\n",
    "sd_amount=amount**2\n",
    "mean_sd_amount=sd_amount.mean(axis=0)"
   ]
  },
  {
   "cell_type": "code",
   "execution_count": 43,
   "id": "fcbd6ee4-4af3-4048-832c-306559a79965",
   "metadata": {},
   "outputs": [
    {
     "data": {
      "text/plain": [
       "[<matplotlib.lines.Line2D at 0x98cf640>,\n",
       " <matplotlib.lines.Line2D at 0x98cf700>]"
      ]
     },
     "execution_count": 43,
     "metadata": {},
     "output_type": "execute_result"
    },
    {
     "data": {
      "image/png": "[encoded data removed]",
      "text/plain": [
       "<Figure size 432x288 with 1 Axes>"
      ]
     },
     "metadata": {
      "needs_background": "light"
     },
     "output_type": "display_data"
    }
   ],
   "source": [
    "plt.xlabel('t')\n",
    "plt.ylabel('mean amount vs times')\n",
    "plt.plot(t,np.sqrt(mean_sd_amount),'g.',t,np.sqrt(t),'r-')"
   ]
  },
  {
   "cell_type": "code",
   "execution_count": null,
   "id": "3353cd77-8943-4a9e-9eae-dc23acb5e089",
   "metadata": {},
   "outputs": [],
   "source": []
  }
 ],
 "metadata": {
  "kernelspec": {
   "display_name": "Python 3 (ipykernel)",
   "language": "python",
   "name": "python3"
  },
  "language_info": {
   "codemirror_mode": {
    "name": "ipython",
    "version": 3
   },
   "file_extension": ".py",
   "mimetype": "text/x-python",
   "name": "python",
   "nbconvert_exporter": "python",
   "pygments_lexer": "ipython3",
   "version": "3.8.12"
  }
 },
 "nbformat": 4,
 "nbformat_minor": 5
}
