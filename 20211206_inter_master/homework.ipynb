{
 "cells": [
  {
   "cell_type": "code",
   "execution_count": 2,
   "id": "4cdc9698-e4ca-4ac5-8667-055b2dd9d0ee",
   "metadata": {},
   "outputs": [],
   "source": [
    "import numpy as np"
   ]
  },
  {
   "cell_type": "code",
   "execution_count": 12,
   "id": "1e97c8c6-c3ef-405f-965c-762dcf282bbf",
   "metadata": {},
   "outputs": [],
   "source": [
    "def get_prime(lst):\n",
    "    print(lst)"
   ]
  },
  {
   "cell_type": "code",
   "execution_count": 9,
   "id": "8b8af60c-aa4a-40b6-ada4-f32278044866",
   "metadata": {},
   "outputs": [],
   "source": [
    "#given 0 to 100000\n",
    "num=np.arange(100001)"
   ]
  },
  {
   "cell_type": "code",
   "execution_count": 13,
   "id": "4469e884-deb8-4cea-a4fb-3f4b011cc245",
   "metadata": {},
   "outputs": [
    {
     "name": "stdout",
     "output_type": "stream",
     "text": [
      "[     0      1      2 ...  99998  99999 100000]\n"
     ]
    }
   ],
   "source": [
    "#get the prime\n",
    "get_prime(num)"
   ]
  },
  {
   "cell_type": "code",
   "execution_count": null,
   "id": "8b905620-af85-48e2-a86b-0b0c51ecb020",
   "metadata": {},
   "outputs": [],
   "source": []
  }
 ],
 "metadata": {
  "kernelspec": {
   "display_name": "Python 3 (ipykernel)",
   "language": "python",
   "name": "python3"
  },
  "language_info": {
   "codemirror_mode": {
    "name": "ipython",
    "version": 3
   },
   "file_extension": ".py",
   "mimetype": "text/x-python",
   "name": "python",
   "nbconvert_exporter": "python",
   "pygments_lexer": "ipython3",
   "version": "3.8.12"
  }
 },
 "nbformat": 4,
 "nbformat_minor": 5
}
