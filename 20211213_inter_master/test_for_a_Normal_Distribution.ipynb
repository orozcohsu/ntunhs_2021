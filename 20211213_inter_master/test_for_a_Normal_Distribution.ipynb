{
 "cells": [
  {
   "cell_type": "markdown",
   "id": "08fc0394-3043-49cf-88fc-69d434a6d4bc",
   "metadata": {},
   "source": [
    "# The histogram is a great way to quickly visualize the distribution of a single variable."
   ]
  },
  {
   "cell_type": "markdown",
   "id": "b331e668-7a14-403c-b404-f3069f52e665",
   "metadata": {},
   "source": [
    "![Cat](1.png)"
   ]
  },
  {
   "cell_type": "code",
   "execution_count": 2,
   "id": "59a0560e-12d2-4b6e-8aa8-3dea047cfc55",
   "metadata": {},
   "outputs": [
    {
     "data": {
      "text/plain": [
       "<AxesSubplot:>"
      ]
     },
     "execution_count": 2,
     "metadata": {},
     "output_type": "execute_result"
    },
    {
     "data": {
      "image/png": "[encoded data removed]",
      "text/plain": [
       "<Figure size 432x288 with 1 Axes>"
      ]
     },
     "metadata": {
      "needs_background": "light"
     },
     "output_type": "display_data"
    }
   ],
   "source": [
    "import pandas as pd\n",
    "my_data = pd.Series([1, 2, 3, 4, 5, 6, 7, 8, 9, 10, 8, 6, 4, 2])\n",
    "my_data.hist()"
   ]
  },
  {
   "cell_type": "markdown",
   "id": "e2cce2e3-5c49-403e-89d8-0f0691ac84eb",
   "metadata": {},
   "source": [
    "# The boxplot is a great way to visualize distributions of multiple variables at the same time.\n",
    "## The Box Plot plots the 5-number summary of a variable: minimum, first quartile, median, third quartile and maximum.\n",
    "### Normal (left), Uniform (middle) and exponential (right) boxplots.\n",
    "### A deviation in width/pointiness is hard to identify using box plots."
   ]
  },
  {
   "cell_type": "markdown",
   "id": "7fa86b59-a77d-40a4-bd18-b7ccf783f017",
   "metadata": {},
   "source": [
    "![Cat](2.png)"
   ]
  },
  {
   "cell_type": "code",
   "execution_count": 6,
   "id": "c39dccce-a422-413c-a7e4-c632e4165409",
   "metadata": {},
   "outputs": [
    {
     "data": {
      "text/plain": [
       "<AxesSubplot:>"
      ]
     },
     "execution_count": 6,
     "metadata": {},
     "output_type": "execute_result"
    },
    {
     "data": {
      "image/png": "[encoded data removed]",
      "text/plain": [
       "<Figure size 432x288 with 1 Axes>"
      ]
     },
     "metadata": {
      "needs_background": "light"
     },
     "output_type": "display_data"
    }
   ],
   "source": [
    "import pandas as pd\n",
    "my_data = pd.Series([1, 2, 3, 4, 5, 6, 7, 8, 9, 10, 8, 6, 4, 2])\n",
    "my_data.plot(kind = 'box')"
   ]
  },
  {
   "cell_type": "markdown",
   "id": "6071716b-7dc2-43f1-a376-af48a1a82f10",
   "metadata": {},
   "source": [
    "# The QQ Plot allows us to see deviation of a normal distribution much better than in a Histogram or Box Plot.\n",
    "## Normal (left), uniform (middle) and exponential (right) QQ Plots\n",
    "### The uniform distribution has too many observations in both extremities (very high and very low values).\n",
    "### The exponential distribution has too many observations on the lower values, but too little in the higher values.\n",
    "\n",
    "### The QQ Plot allows us to see deviation of a normal distribution much better than in a Histogram or box plot."
   ]
  },
  {
   "cell_type": "markdown",
   "id": "9338e012-7d45-4de8-bc24-636c0f01f859",
   "metadata": {},
   "source": [
    "![Cat](3.png)"
   ]
  },
  {
   "cell_type": "code",
   "execution_count": 10,
   "id": "ad089c97-b681-4b53-9612-3742e7493b6a",
   "metadata": {},
   "outputs": [
    {
     "data": {
      "image/png": "[encoded data removed]",
      "text/plain": [
       "<Figure size 432x288 with 1 Axes>"
      ]
     },
     "metadata": {
      "needs_background": "light"
     },
     "output_type": "display_data"
    }
   ],
   "source": [
    "import statsmodels.api as sm\n",
    "from scipy.stats import norm\n",
    "import pylab\n",
    "\n",
    "my_data = norm.rvs(size=1000)\n",
    "sm.qqplot(my_data, line='45')\n",
    "pylab.show()"
   ]
  },
  {
   "cell_type": "markdown",
   "id": "6eda3dc1-f06a-409d-9525-c648ecb5adfe",
   "metadata": {},
   "source": [
    "# The KS (Kolmogorov Smirnov) test     \n",
    "# If the P-Value of the KS Test is larger than 0.05, we assume a normal distribution\n",
    "# If the P-Value of the KS Test is smaller than 0.05, we do not assume a normal distribution"
   ]
  },
  {
   "cell_type": "code",
   "execution_count": 14,
   "id": "5692438d-18b6-4446-8f03-b2fb5d21f96f",
   "metadata": {},
   "outputs": [
    {
     "name": "stdout",
     "output_type": "stream",
     "text": [
      "0.02027565753913832 0.7976451095024603\n"
     ]
    }
   ],
   "source": [
    "from scipy.stats import kstest, norm\n",
    "my_data = norm.rvs(size=1000)\n",
    "ks_statistic, p_value = kstest(my_data, 'norm')\n",
    "print(ks_statistic, p_value)"
   ]
  },
  {
   "cell_type": "markdown",
   "id": "9faaa0e4-447f-4476-a4c2-a21d0ad80a0a",
   "metadata": {},
   "source": [
    "# Lilliefors test\n",
    "## If the P-Value of the Lilliefors Test is larger than 0.05, we assume a normal distribution\n",
    "## If the P-Value of the Lilliefors Test is smaller than 0.05, we do not assume a normal distribution"
   ]
  },
  {
   "cell_type": "code",
   "execution_count": 17,
   "id": "6d97f9e2-0005-417b-9101-11352a7fa3a4",
   "metadata": {},
   "outputs": [
    {
     "name": "stdout",
     "output_type": "stream",
     "text": [
      "0.028541298887618638 0.48675978204462583\n"
     ]
    }
   ],
   "source": [
    "from scipy.stats import norm\n",
    "from statsmodels.stats.diagnostic import lilliefors\n",
    "my_data = norm.rvs(size=500)\n",
    "lilliefors_statistic, p_value = lilliefors(my_data)\n",
    "print(lilliefors_statistic, p_value)"
   ]
  },
  {
   "cell_type": "code",
   "execution_count": null,
   "id": "87d07e12-f20d-4391-9279-2b9d12b76667",
   "metadata": {},
   "outputs": [],
   "source": []
  }
 ],
 "metadata": {
  "kernelspec": {
   "display_name": "Python 3 (ipykernel)",
   "language": "python",
   "name": "python3"
  },
  "language_info": {
   "codemirror_mode": {
    "name": "ipython",
    "version": 3
   },
   "file_extension": ".py",
   "mimetype": "text/x-python",
   "name": "python",
   "nbconvert_exporter": "python",
   "pygments_lexer": "ipython3",
   "version": "3.8.12"
  }
 },
 "nbformat": 4,
 "nbformat_minor": 5
}
