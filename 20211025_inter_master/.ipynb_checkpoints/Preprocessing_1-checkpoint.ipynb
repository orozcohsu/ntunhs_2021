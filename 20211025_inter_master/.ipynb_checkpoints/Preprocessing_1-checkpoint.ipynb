{
 "cells": [
  {
   "cell_type": "code",
   "execution_count": 1,
   "metadata": {},
   "outputs": [],
   "source": [
    "import pandas as pd\n",
    "import numpy as np"
   ]
  },
  {
   "cell_type": "code",
   "execution_count": 39,
   "metadata": {},
   "outputs": [],
   "source": [
    "df=pd.read_csv('chronic_kidney_disease.csv', names=['age', 'bp', 'sg', 'al', 'su', 'rbc', 'pc', 'pcc', 'ba', 'bgr', 'bu', 'sc', 'sod', \\\n",
    "                                                    'pot', 'hemo', 'pcv', 'wc', 'rc', 'htn', 'dm', 'cad', 'appet', 'pe', 'ane', 'class'],\n",
    "               na_values='?')"
   ]
  },
  {
   "cell_type": "code",
   "execution_count": 40,
   "metadata": {},
   "outputs": [
    {
     "name": "stdout",
     "output_type": "stream",
     "text": [
      "> age, Missing: 9 (2.2%)\n",
      "> bp, Missing: 12 (3.0%)\n",
      "> sg, Missing: 47 (11.8%)\n",
      "> al, Missing: 46 (11.5%)\n",
      "> su, Missing: 49 (12.2%)\n",
      "> bgr, Missing: 44 (11.0%)\n",
      "> bu, Missing: 19 (4.8%)\n",
      "> sc, Missing: 17 (4.2%)\n",
      "> sod, Missing: 87 (21.8%)\n",
      "> pot, Missing: 88 (22.0%)\n",
      "> hemo, Missing: 52 (13.0%)\n",
      "> pcv, Missing: 71 (17.8%)\n",
      "> wc, Missing: 106 (26.5%)\n",
      "> rc, Missing: 131 (32.8%)\n"
     ]
    }
   ],
   "source": [
    "#print misssing value rate (number)\n",
    "for i in df.select_dtypes(include=np.number).columns.tolist():\n",
    "    n_miss = df[[i]].isnull().sum()\n",
    "    perc = n_miss / df.shape[0] * 100\n",
    "    print('> %s, Missing: %d (%.1f%%)' % (i, n_miss, perc))"
   ]
  },
  {
   "cell_type": "code",
   "execution_count": 41,
   "metadata": {},
   "outputs": [
    {
     "name": "stdout",
     "output_type": "stream",
     "text": [
      "> rbc, Missing: 152 (38.0%)\n",
      "> pc, Missing: 65 (16.2%)\n",
      "> pcc, Missing: 4 (1.0%)\n",
      "> ba, Missing: 4 (1.0%)\n",
      "> htn, Missing: 2 (0.5%)\n",
      "> dm, Missing: 2 (0.5%)\n",
      "> cad, Missing: 2 (0.5%)\n",
      "> appet, Missing: 1 (0.2%)\n",
      "> pe, Missing: 1 (0.2%)\n",
      "> ane, Missing: 1 (0.2%)\n",
      "> class, Missing: 0 (0.0%)\n"
     ]
    }
   ],
   "source": [
    "#print misssing value rate (object)\n",
    "for i in df.select_dtypes(include=np.object).columns.tolist():\n",
    "    n_miss = df[[i]].isnull().sum()\n",
    "    perc = n_miss / df.shape[0] * 100\n",
    "    print('> %s, Missing: %d (%.1f%%)' % (i, n_miss, perc))"
   ]
  },
  {
   "cell_type": "code",
   "execution_count": 42,
   "metadata": {},
   "outputs": [],
   "source": [
    "#replace nan to mean (integer)\n",
    "replace_dict = {'age': {np.nan: pd.to_numeric(df.age, errors='coerce').mean()}, \n",
    "                'bp':{np.nan: pd.to_numeric(df.bp, errors='coerce').mean()}, \n",
    "                'sg':{np.nan: pd.to_numeric(df.bp, errors='coerce').mean()}, \n",
    "                'al':{np.nan: pd.to_numeric(df.al, errors='coerce').mean()},\n",
    "                'su':{np.nan: pd.to_numeric(df.su, errors='coerce').mean()},\n",
    "                'bgr':{np.nan: pd.to_numeric(df.bgr, errors='coerce').mean()},\n",
    "                'bu':{np.nan: pd.to_numeric(df.bu, errors='coerce').mean()},\n",
    "                'sc':{np.nan: pd.to_numeric(df.sc, errors='coerce').mean()},\n",
    "                'sod':{np.nan: pd.to_numeric(df.sod, errors='coerce').mean()},\n",
    "                'pot':{np.nan: pd.to_numeric(df.pot, errors='coerce').mean()},\n",
    "                'hemo':{np.nan: pd.to_numeric(df.hemo, errors='coerce').mean()},\n",
    "                'pcv':{np.nan: pd.to_numeric(df.pcv, errors='coerce').mean()},\n",
    "                'wc':{np.nan: pd.to_numeric(df.wc, errors='coerce').mean()},\n",
    "                'rc':{np.nan: pd.to_numeric(df.rc, errors='coerce').mean()},\n",
    "                'htn':{np.nan: pd.to_numeric(df.htn, errors='coerce').mean()},\n",
    "                'dm':{np.nan: pd.to_numeric(df.dm, errors='coerce').mean()},\n",
    "                'cad':{np.nan: pd.to_numeric(df.cad, errors='coerce').mean()},\n",
    "                'appet':{np.nan: pd.to_numeric(df.appet, errors='coerce').mean()},\n",
    "                'pe':{np.nan: pd.to_numeric(df.pe, errors='coerce').mean()},\n",
    "                'ane':{np.nan: pd.to_numeric(df.ane, errors='coerce').mean()}\n",
    "               }\n",
    "df.replace(replace_dict, inplace=True)"
   ]
  },
  {
   "cell_type": "code",
   "execution_count": 43,
   "metadata": {},
   "outputs": [],
   "source": [
    "#replace nan to most frequent (object)\n",
    "for i in df.select_dtypes(include=np.object).columns.tolist():\n",
    "    df[i].fillna(df[i].mode()[0], inplace=True)"
   ]
  },
  {
   "cell_type": "markdown",
   "metadata": {},
   "source": [
    "age\t\t-\tage\t\n",
    "bp\t\t-\tblood pressure\n",
    "sg\t\t-\tspecific gravity\n",
    "al\t\t-   albumin\n",
    "su\t\t-\tsugar\n",
    "rbc\t\t-\tred blood cells\n",
    "pc\t\t-\tpus cell\n",
    "pcc\t\t-\tpus cell clumps\n",
    "ba\t\t-\tbacteria\n",
    "bgr\t\t-\tblood glucose random\n",
    "bu\t\t-\tblood urea\n",
    "sc\t\t-\tserum creatinine\n",
    "sod\t\t-\tsodium\n",
    "pot\t\t-\tpotassium\n",
    "hemo\t-\themoglobin\n",
    "pcv\t\t-\tpacked cell volume\n",
    "wc\t\t-\twhite blood cell count\n",
    "rc\t\t-\tred blood cell count\n",
    "htn\t\t-\thypertension\n",
    "dm\t\t-\tdiabetes mellitus\n",
    "cad\t\t-\tcoronary artery disease\n",
    "appet\t-\tappetite\n",
    "pe\t\t-\tpedal edema\n",
    "ane\t\t-\tanemia\n",
    "class\t-\tclass\t"
   ]
  },
  {
   "cell_type": "code",
   "execution_count": 44,
   "metadata": {},
   "outputs": [],
   "source": [
    "#Encoding variable (object to ordinal number)\n",
    "from sklearn.preprocessing import LabelEncoder  \n",
    "label_encoder= LabelEncoder()  \n",
    "\n",
    "for i in df.select_dtypes(include=np.object).columns.tolist():\n",
    "    df[i]=label_encoder.fit_transform(df[i])"
   ]
  },
  {
   "cell_type": "code",
   "execution_count": 45,
   "metadata": {},
   "outputs": [],
   "source": [
    "X=df.iloc[:,:-1]\n",
    "y=df.iloc[:,-1]"
   ]
  },
  {
   "cell_type": "code",
   "execution_count": null,
   "metadata": {},
   "outputs": [],
   "source": []
  },
  {
   "cell_type": "code",
   "execution_count": 46,
   "metadata": {},
   "outputs": [],
   "source": [
    "from sklearn.model_selection import train_test_split\n",
    "X_train, X_test, y_train, y_test= train_test_split(X, y, test_size= 0.2, random_state=0)"
   ]
  },
  {
   "cell_type": "code",
   "execution_count": 47,
   "metadata": {},
   "outputs": [
    {
     "data": {
      "text/plain": [
       "array([[-1.50935703, -1.18319374, -0.37787   , ..., -0.51460872,\n",
       "        -0.4853053 , -0.3992747 ],\n",
       "       [ 0.23212848,  0.28483932, -0.37827075, ..., -0.51460872,\n",
       "        -0.4853053 , -0.3992747 ],\n",
       "       [-0.92886186,  0.28483932, -0.37847113, ..., -0.51460872,\n",
       "         2.06055857, -0.3992747 ],\n",
       "       ...,\n",
       "       [ 0.02799015, -0.44917721, -0.37787   , ..., -0.51460872,\n",
       "        -0.4853053 , -0.3992747 ],\n",
       "       [-2.32205027,  0.28483932, -0.37827075, ..., -0.51460872,\n",
       "        -0.4853053 , -0.3992747 ],\n",
       "       [ 0.63847509,  0.28483932, -0.37827075, ..., -0.51460872,\n",
       "        -0.4853053 , -0.3992747 ]])"
      ]
     },
     "execution_count": 47,
     "metadata": {},
     "output_type": "execute_result"
    }
   ],
   "source": [
    "from sklearn.preprocessing import StandardScaler\n",
    "st_X= StandardScaler()\n",
    "X_train= st_X.fit_transform(X_train)\n",
    "X_train"
   ]
  },
  {
   "cell_type": "code",
   "execution_count": 48,
   "metadata": {},
   "outputs": [
    {
     "data": {
      "text/plain": [
       "array([[-5.81191096e-02,  2.56633840e-02,  2.64575125e+00, ...,\n",
       "        -5.14608720e-01,  2.06055857e+00,  2.50454133e+00],\n",
       "       [-6.95926115e-05, -1.18319374e+00, -3.77870002e-01, ...,\n",
       "        -5.14608720e-01, -4.85305301e-01, -3.99274705e-01],\n",
       "       [ 6.96524611e-01, -4.49177207e-01, -3.77669627e-01, ...,\n",
       "        -5.14608720e-01, -4.85305301e-01, -3.99274705e-01],\n",
       "       ...,\n",
       "       [-1.04496090e+00,  2.84839324e-01, -3.77669627e-01, ...,\n",
       "        -5.14608720e-01, -4.85305301e-01, -3.99274705e-01],\n",
       "       [-1.27715897e+00,  2.84839324e-01, -3.77870002e-01, ...,\n",
       "        -5.14608720e-01, -4.85305301e-01, -3.99274705e-01],\n",
       "       [-1.04496090e+00, -1.18319374e+00, -3.77669627e-01, ...,\n",
       "        -5.14608720e-01, -4.85305301e-01, -3.99274705e-01]])"
      ]
     },
     "execution_count": 48,
     "metadata": {},
     "output_type": "execute_result"
    }
   ],
   "source": [
    "X_test= st_X.transform(X_test)\n",
    "X_test"
   ]
  },
  {
   "cell_type": "code",
   "execution_count": null,
   "metadata": {},
   "outputs": [],
   "source": []
  },
  {
   "cell_type": "code",
   "execution_count": null,
   "metadata": {},
   "outputs": [],
   "source": []
  }
 ],
 "metadata": {
  "kernelspec": {
   "display_name": "Python 3",
   "language": "python",
   "name": "python3"
  },
  "language_info": {
   "codemirror_mode": {
    "name": "ipython",
    "version": 3
   },
   "file_extension": ".py",
   "mimetype": "text/x-python",
   "name": "python",
   "nbconvert_exporter": "python",
   "pygments_lexer": "ipython3",
   "version": "3.7.9"
  },
  "varInspector": {
   "cols": {
    "lenName": 16,
    "lenType": 16,
    "lenVar": 40
   },
   "kernels_config": {
    "python": {
     "delete_cmd_postfix": "",
     "delete_cmd_prefix": "del ",
     "library": "var_list.py",
     "varRefreshCmd": "print(var_dic_list())"
    },
    "r": {
     "delete_cmd_postfix": ") ",
     "delete_cmd_prefix": "rm(",
     "library": "var_list.r",
     "varRefreshCmd": "cat(var_dic_list()) "
    }
   },
   "types_to_exclude": [
    "module",
    "function",
    "builtin_function_or_method",
    "instance",
    "_Feature"
   ],
   "window_display": false
  }
 },
 "nbformat": 4,
 "nbformat_minor": 4
}
