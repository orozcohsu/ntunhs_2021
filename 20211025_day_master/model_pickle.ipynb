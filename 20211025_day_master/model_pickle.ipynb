{
 "cells": [
  {
   "cell_type": "code",
   "execution_count": 1,
   "metadata": {
    "executionInfo": {
     "elapsed": 812,
     "status": "ok",
     "timestamp": 1601257549386,
     "user": {
      "displayName": "10程式中",
      "photoUrl": "https://lh3.googleusercontent.com/a-/AOh14Gjcm9yF5nSbP1WaeQuXtTScTGduCrixXG-vKBG1=s64",
      "userId": "05620490010612616832"
     },
     "user_tz": -480
    },
    "id": "_-u4Q-e_X69a"
   },
   "outputs": [],
   "source": [
    "import pandas as pd\n",
    "import numpy as np\n",
    "import matplotlib.pyplot as plt\n",
    "import seaborn as sns\n",
    "import io\n",
    "import requests"
   ]
  },
  {
   "cell_type": "code",
   "execution_count": 2,
   "metadata": {
    "colab": {
     "base_uri": "https://localhost:8080/",
     "height": 419
    },
    "executionInfo": {
     "elapsed": 1387,
     "status": "ok",
     "timestamp": 1601257549967,
     "user": {
      "displayName": "10程式中",
      "photoUrl": "https://lh3.googleusercontent.com/a-/AOh14Gjcm9yF5nSbP1WaeQuXtTScTGduCrixXG-vKBG1=s64",
      "userId": "05620490010612616832"
     },
     "user_tz": -480
    },
    "id": "HqBI1DuQX69k",
    "outputId": "c040bd13-3f37-4d6a-e6ec-58306895c8e7"
   },
   "outputs": [
    {
     "data": {
      "text/html": [
       "<div>\n",
       "<style scoped>\n",
       "    .dataframe tbody tr th:only-of-type {\n",
       "        vertical-align: middle;\n",
       "    }\n",
       "\n",
       "    .dataframe tbody tr th {\n",
       "        vertical-align: top;\n",
       "    }\n",
       "\n",
       "    .dataframe thead th {\n",
       "        text-align: right;\n",
       "    }\n",
       "</style>\n",
       "<table border=\"1\" class=\"dataframe\">\n",
       "  <thead>\n",
       "    <tr style=\"text-align: right;\">\n",
       "      <th></th>\n",
       "      <th>SepalLengthCm</th>\n",
       "      <th>SepalWidthCm</th>\n",
       "      <th>PetalLengthCm</th>\n",
       "      <th>PetalWidthCm</th>\n",
       "      <th>Species</th>\n",
       "    </tr>\n",
       "  </thead>\n",
       "  <tbody>\n",
       "    <tr>\n",
       "      <th>0</th>\n",
       "      <td>5.1</td>\n",
       "      <td>3.5</td>\n",
       "      <td>1.4</td>\n",
       "      <td>0.2</td>\n",
       "      <td>Iris-setosa</td>\n",
       "    </tr>\n",
       "    <tr>\n",
       "      <th>1</th>\n",
       "      <td>4.9</td>\n",
       "      <td>3.0</td>\n",
       "      <td>1.4</td>\n",
       "      <td>0.2</td>\n",
       "      <td>Iris-setosa</td>\n",
       "    </tr>\n",
       "    <tr>\n",
       "      <th>2</th>\n",
       "      <td>4.7</td>\n",
       "      <td>3.2</td>\n",
       "      <td>1.3</td>\n",
       "      <td>0.2</td>\n",
       "      <td>Iris-setosa</td>\n",
       "    </tr>\n",
       "    <tr>\n",
       "      <th>3</th>\n",
       "      <td>4.6</td>\n",
       "      <td>3.1</td>\n",
       "      <td>1.5</td>\n",
       "      <td>0.2</td>\n",
       "      <td>Iris-setosa</td>\n",
       "    </tr>\n",
       "    <tr>\n",
       "      <th>4</th>\n",
       "      <td>5.0</td>\n",
       "      <td>3.6</td>\n",
       "      <td>1.4</td>\n",
       "      <td>0.2</td>\n",
       "      <td>Iris-setosa</td>\n",
       "    </tr>\n",
       "    <tr>\n",
       "      <th>...</th>\n",
       "      <td>...</td>\n",
       "      <td>...</td>\n",
       "      <td>...</td>\n",
       "      <td>...</td>\n",
       "      <td>...</td>\n",
       "    </tr>\n",
       "    <tr>\n",
       "      <th>145</th>\n",
       "      <td>6.7</td>\n",
       "      <td>3.0</td>\n",
       "      <td>5.2</td>\n",
       "      <td>2.3</td>\n",
       "      <td>Iris-virginica</td>\n",
       "    </tr>\n",
       "    <tr>\n",
       "      <th>146</th>\n",
       "      <td>6.3</td>\n",
       "      <td>2.5</td>\n",
       "      <td>5.0</td>\n",
       "      <td>1.9</td>\n",
       "      <td>Iris-virginica</td>\n",
       "    </tr>\n",
       "    <tr>\n",
       "      <th>147</th>\n",
       "      <td>6.5</td>\n",
       "      <td>3.0</td>\n",
       "      <td>5.2</td>\n",
       "      <td>2.0</td>\n",
       "      <td>Iris-virginica</td>\n",
       "    </tr>\n",
       "    <tr>\n",
       "      <th>148</th>\n",
       "      <td>6.2</td>\n",
       "      <td>3.4</td>\n",
       "      <td>5.4</td>\n",
       "      <td>2.3</td>\n",
       "      <td>Iris-virginica</td>\n",
       "    </tr>\n",
       "    <tr>\n",
       "      <th>149</th>\n",
       "      <td>5.9</td>\n",
       "      <td>3.0</td>\n",
       "      <td>5.1</td>\n",
       "      <td>1.8</td>\n",
       "      <td>Iris-virginica</td>\n",
       "    </tr>\n",
       "  </tbody>\n",
       "</table>\n",
       "<p>150 rows × 5 columns</p>\n",
       "</div>"
      ],
      "text/plain": [
       "     SepalLengthCm  SepalWidthCm  PetalLengthCm  PetalWidthCm         Species\n",
       "0              5.1           3.5            1.4           0.2     Iris-setosa\n",
       "1              4.9           3.0            1.4           0.2     Iris-setosa\n",
       "2              4.7           3.2            1.3           0.2     Iris-setosa\n",
       "3              4.6           3.1            1.5           0.2     Iris-setosa\n",
       "4              5.0           3.6            1.4           0.2     Iris-setosa\n",
       "..             ...           ...            ...           ...             ...\n",
       "145            6.7           3.0            5.2           2.3  Iris-virginica\n",
       "146            6.3           2.5            5.0           1.9  Iris-virginica\n",
       "147            6.5           3.0            5.2           2.0  Iris-virginica\n",
       "148            6.2           3.4            5.4           2.3  Iris-virginica\n",
       "149            5.9           3.0            5.1           1.8  Iris-virginica\n",
       "\n",
       "[150 rows x 5 columns]"
      ]
     },
     "execution_count": 2,
     "metadata": {},
     "output_type": "execute_result"
    }
   ],
   "source": [
    "df_data=pd.read_csv('Iris.csv')\n",
    "df_data = df_data.drop(labels=['Id'],axis=1)\n",
    "df_data"
   ]
  },
  {
   "cell_type": "code",
   "execution_count": 3,
   "metadata": {
    "executionInfo": {
     "elapsed": 1382,
     "status": "ok",
     "timestamp": 1601257549968,
     "user": {
      "displayName": "10程式中",
      "photoUrl": "https://lh3.googleusercontent.com/a-/AOh14Gjcm9yF5nSbP1WaeQuXtTScTGduCrixXG-vKBG1=s64",
      "userId": "05620490010612616832"
     },
     "user_tz": -480
    },
    "id": "5O-yGitGX69q"
   },
   "outputs": [],
   "source": [
    "label_map = {'Iris-setosa': 0, 'Iris-versicolor': 1, 'Iris-virginica': 2}\n",
    "\n",
    "#套用編碼於Class欄位\n",
    "df_data['Class'] = df_data['Species'].map(label_map)"
   ]
  },
  {
   "cell_type": "code",
   "execution_count": 5,
   "metadata": {
    "colab": {
     "base_uri": "https://localhost:8080/",
     "height": 419
    },
    "executionInfo": {
     "elapsed": 1380,
     "status": "ok",
     "timestamp": 1601257549969,
     "user": {
      "displayName": "10程式中",
      "photoUrl": "https://lh3.googleusercontent.com/a-/AOh14Gjcm9yF5nSbP1WaeQuXtTScTGduCrixXG-vKBG1=s64",
      "userId": "05620490010612616832"
     },
     "user_tz": -480
    },
    "id": "IiGAiM-6X69u",
    "outputId": "dffcd3c7-8e6e-44da-923e-028feef8bfcc"
   },
   "outputs": [
    {
     "data": {
      "text/html": [
       "<div>\n",
       "<style scoped>\n",
       "    .dataframe tbody tr th:only-of-type {\n",
       "        vertical-align: middle;\n",
       "    }\n",
       "\n",
       "    .dataframe tbody tr th {\n",
       "        vertical-align: top;\n",
       "    }\n",
       "\n",
       "    .dataframe thead th {\n",
       "        text-align: right;\n",
       "    }\n",
       "</style>\n",
       "<table border=\"1\" class=\"dataframe\">\n",
       "  <thead>\n",
       "    <tr style=\"text-align: right;\">\n",
       "      <th></th>\n",
       "      <th>SepalLengthCm</th>\n",
       "      <th>SepalWidthCm</th>\n",
       "      <th>PetalLengthCm</th>\n",
       "      <th>PetalWidthCm</th>\n",
       "      <th>Species</th>\n",
       "      <th>Class</th>\n",
       "    </tr>\n",
       "  </thead>\n",
       "  <tbody>\n",
       "    <tr>\n",
       "      <th>0</th>\n",
       "      <td>5.1</td>\n",
       "      <td>3.5</td>\n",
       "      <td>1.4</td>\n",
       "      <td>0.2</td>\n",
       "      <td>Iris-setosa</td>\n",
       "      <td>0</td>\n",
       "    </tr>\n",
       "    <tr>\n",
       "      <th>1</th>\n",
       "      <td>4.9</td>\n",
       "      <td>3.0</td>\n",
       "      <td>1.4</td>\n",
       "      <td>0.2</td>\n",
       "      <td>Iris-setosa</td>\n",
       "      <td>0</td>\n",
       "    </tr>\n",
       "    <tr>\n",
       "      <th>2</th>\n",
       "      <td>4.7</td>\n",
       "      <td>3.2</td>\n",
       "      <td>1.3</td>\n",
       "      <td>0.2</td>\n",
       "      <td>Iris-setosa</td>\n",
       "      <td>0</td>\n",
       "    </tr>\n",
       "    <tr>\n",
       "      <th>3</th>\n",
       "      <td>4.6</td>\n",
       "      <td>3.1</td>\n",
       "      <td>1.5</td>\n",
       "      <td>0.2</td>\n",
       "      <td>Iris-setosa</td>\n",
       "      <td>0</td>\n",
       "    </tr>\n",
       "    <tr>\n",
       "      <th>4</th>\n",
       "      <td>5.0</td>\n",
       "      <td>3.6</td>\n",
       "      <td>1.4</td>\n",
       "      <td>0.2</td>\n",
       "      <td>Iris-setosa</td>\n",
       "      <td>0</td>\n",
       "    </tr>\n",
       "    <tr>\n",
       "      <th>...</th>\n",
       "      <td>...</td>\n",
       "      <td>...</td>\n",
       "      <td>...</td>\n",
       "      <td>...</td>\n",
       "      <td>...</td>\n",
       "      <td>...</td>\n",
       "    </tr>\n",
       "    <tr>\n",
       "      <th>145</th>\n",
       "      <td>6.7</td>\n",
       "      <td>3.0</td>\n",
       "      <td>5.2</td>\n",
       "      <td>2.3</td>\n",
       "      <td>Iris-virginica</td>\n",
       "      <td>2</td>\n",
       "    </tr>\n",
       "    <tr>\n",
       "      <th>146</th>\n",
       "      <td>6.3</td>\n",
       "      <td>2.5</td>\n",
       "      <td>5.0</td>\n",
       "      <td>1.9</td>\n",
       "      <td>Iris-virginica</td>\n",
       "      <td>2</td>\n",
       "    </tr>\n",
       "    <tr>\n",
       "      <th>147</th>\n",
       "      <td>6.5</td>\n",
       "      <td>3.0</td>\n",
       "      <td>5.2</td>\n",
       "      <td>2.0</td>\n",
       "      <td>Iris-virginica</td>\n",
       "      <td>2</td>\n",
       "    </tr>\n",
       "    <tr>\n",
       "      <th>148</th>\n",
       "      <td>6.2</td>\n",
       "      <td>3.4</td>\n",
       "      <td>5.4</td>\n",
       "      <td>2.3</td>\n",
       "      <td>Iris-virginica</td>\n",
       "      <td>2</td>\n",
       "    </tr>\n",
       "    <tr>\n",
       "      <th>149</th>\n",
       "      <td>5.9</td>\n",
       "      <td>3.0</td>\n",
       "      <td>5.1</td>\n",
       "      <td>1.8</td>\n",
       "      <td>Iris-virginica</td>\n",
       "      <td>2</td>\n",
       "    </tr>\n",
       "  </tbody>\n",
       "</table>\n",
       "<p>150 rows × 6 columns</p>\n",
       "</div>"
      ],
      "text/plain": [
       "     SepalLengthCm  SepalWidthCm  PetalLengthCm  PetalWidthCm         Species  \\\n",
       "0              5.1           3.5            1.4           0.2     Iris-setosa   \n",
       "1              4.9           3.0            1.4           0.2     Iris-setosa   \n",
       "2              4.7           3.2            1.3           0.2     Iris-setosa   \n",
       "3              4.6           3.1            1.5           0.2     Iris-setosa   \n",
       "4              5.0           3.6            1.4           0.2     Iris-setosa   \n",
       "..             ...           ...            ...           ...             ...   \n",
       "145            6.7           3.0            5.2           2.3  Iris-virginica   \n",
       "146            6.3           2.5            5.0           1.9  Iris-virginica   \n",
       "147            6.5           3.0            5.2           2.0  Iris-virginica   \n",
       "148            6.2           3.4            5.4           2.3  Iris-virginica   \n",
       "149            5.9           3.0            5.1           1.8  Iris-virginica   \n",
       "\n",
       "     Class  \n",
       "0        0  \n",
       "1        0  \n",
       "2        0  \n",
       "3        0  \n",
       "4        0  \n",
       "..     ...  \n",
       "145      2  \n",
       "146      2  \n",
       "147      2  \n",
       "148      2  \n",
       "149      2  \n",
       "\n",
       "[150 rows x 6 columns]"
      ]
     },
     "execution_count": 5,
     "metadata": {},
     "output_type": "execute_result"
    }
   ],
   "source": [
    "df_data"
   ]
  },
  {
   "cell_type": "code",
   "execution_count": 7,
   "metadata": {
    "colab": {
     "base_uri": "https://localhost:8080/",
     "height": 34
    },
    "executionInfo": {
     "elapsed": 1375,
     "status": "ok",
     "timestamp": 1601257549969,
     "user": {
      "displayName": "10程式中",
      "photoUrl": "https://lh3.googleusercontent.com/a-/AOh14Gjcm9yF5nSbP1WaeQuXtTScTGduCrixXG-vKBG1=s64",
      "userId": "05620490010612616832"
     },
     "user_tz": -480
    },
    "id": "3JzNs9kgX69y",
    "outputId": "647fd813-77cb-446c-bc14-28c699e35724"
   },
   "outputs": [
    {
     "name": "stdout",
     "output_type": "stream",
     "text": [
      "是否有缺失值: 0\n"
     ]
    }
   ],
   "source": [
    "X = df_data.drop(labels=['Species','Class'],axis=1).values\n",
    "\n",
    "print(\"是否有缺失值:\",len(np.where(np.isnan(X))[0]))"
   ]
  },
  {
   "cell_type": "code",
   "execution_count": 8,
   "metadata": {
    "executionInfo": {
     "elapsed": 1370,
     "status": "ok",
     "timestamp": 1601257549970,
     "user": {
      "displayName": "10程式中",
      "photoUrl": "https://lh3.googleusercontent.com/a-/AOh14Gjcm9yF5nSbP1WaeQuXtTScTGduCrixXG-vKBG1=s64",
      "userId": "05620490010612616832"
     },
     "user_tz": -480
    },
    "id": "xB0GMqHzX690"
   },
   "outputs": [],
   "source": [
    "#切分資料\n",
    "from sklearn.model_selection import train_test_split\n",
    "\n",
    "X=df_data.drop(labels=['Class','Species'],axis=1).values\n",
    "y=df_data['Class'].values\n",
    "X_train , X_test , y_train , y_test = train_test_split(X,y , test_size=.3 , random_state=42)"
   ]
  },
  {
   "cell_type": "code",
   "execution_count": 9,
   "metadata": {
    "colab": {
     "base_uri": "https://localhost:8080/",
     "height": 51
    },
    "executionInfo": {
     "elapsed": 1368,
     "status": "ok",
     "timestamp": 1601257549970,
     "user": {
      "displayName": "10程式中",
      "photoUrl": "https://lh3.googleusercontent.com/a-/AOh14Gjcm9yF5nSbP1WaeQuXtTScTGduCrixXG-vKBG1=s64",
      "userId": "05620490010612616832"
     },
     "user_tz": -480
    },
    "id": "Ou6Ie6TpX693",
    "outputId": "8bed1c28-81c4-4d83-ea2c-501c99a2dcc4"
   },
   "outputs": [
    {
     "name": "stdout",
     "output_type": "stream",
     "text": [
      "Training data shape: (105, 4)\n",
      "Testing data shape: (45, 4)\n"
     ]
    }
   ],
   "source": [
    "#查看資料集筆數\n",
    "print('Training data shape:',X_train.shape)\n",
    "print('Testing data shape:',X_test.shape)"
   ]
  },
  {
   "cell_type": "markdown",
   "metadata": {
    "id": "Kpuo2UD0X695"
   },
   "source": [
    "## XGBoost (classfication)\n",
    "Boosting 則是希望能夠由後面生成的樹，來修正前面樹學的不好的地方。\n",
    "\n",
    "Parameters:\n",
    "- n_estimators: 總共迭代的次數，即決策樹的個數。預設值為100。\n",
    "- max_depth: 樹的最大深度，默認值為6。\n",
    "- booster: gbtree 樹模型(預設) / gbliner 線性模型\n",
    "- learning_rate: 學習速率，預設0.3。\n",
    "- gamma: 懲罰項係數，指定節點分裂所需的最小損失函數下降值。\n",
    "\n",
    "Attributes:\n",
    "- feature_importances_: 查詢模型特徵的重要程度。\n",
    "\n",
    "Methods:\n",
    "- fit: 放入X、y進行模型擬合。\n",
    "- predict: 預測並回傳預測類別。\n",
    "- score: 預測成功的比例。\n",
    "- predict_proba: 預測每個類別的機率值。"
   ]
  },
  {
   "cell_type": "code",
   "execution_count": 11,
   "metadata": {
    "executionInfo": {
     "elapsed": 1364,
     "status": "ok",
     "timestamp": 1601257549971,
     "user": {
      "displayName": "10程式中",
      "photoUrl": "https://lh3.googleusercontent.com/a-/AOh14Gjcm9yF5nSbP1WaeQuXtTScTGduCrixXG-vKBG1=s64",
      "userId": "05620490010612616832"
     },
     "user_tz": -480
    },
    "id": "_gJIrIQZX695"
   },
   "outputs": [
    {
     "name": "stdout",
     "output_type": "stream",
     "text": [
      "[18:16:06] WARNING: D:\\bld\\xgboost-split_1631904903843\\work\\src\\learner.cc:1095: Starting in XGBoost 1.3.0, the default evaluation metric used with the objective 'multi:softprob' was changed from 'merror' to 'mlogloss'. Explicitly set eval_metric if you'd like to restore the old behavior.\n"
     ]
    },
    {
     "name": "stderr",
     "output_type": "stream",
     "text": [
      "C:\\Users\\gpu\\.conda\\envs\\NLP\\lib\\site-packages\\xgboost\\sklearn.py:1146: UserWarning: The use of label encoder in XGBClassifier is deprecated and will be removed in a future release. To remove this warning, do the following: 1) Pass option use_label_encoder=False when constructing XGBClassifier object; and 2) Encode your labels (y) as integers starting with 0, i.e. 0, 1, 2, ..., [num_class - 1].\n",
      "  warnings.warn(label_encoder_deprecation_msg, UserWarning)\n"
     ]
    }
   ],
   "source": [
    "from xgboost import XGBClassifier\n",
    "\n",
    "# 建立XGBClassifier模型\n",
    "xgboostModel = XGBClassifier(n_estimators=100, learning_rate= 0.3)\n",
    "# 使用訓練資料訓練模型\n",
    "xgboostModel.fit(X_train, y_train)\n",
    "# 使用訓練資料預測分類\n",
    "predicted = xgboostModel.predict(X_train)"
   ]
  },
  {
   "cell_type": "code",
   "execution_count": 12,
   "metadata": {
    "colab": {
     "base_uri": "https://localhost:8080/",
     "height": 51
    },
    "executionInfo": {
     "elapsed": 1361,
     "status": "ok",
     "timestamp": 1601257549971,
     "user": {
      "displayName": "10程式中",
      "photoUrl": "https://lh3.googleusercontent.com/a-/AOh14Gjcm9yF5nSbP1WaeQuXtTScTGduCrixXG-vKBG1=s64",
      "userId": "05620490010612616832"
     },
     "user_tz": -480
    },
    "id": "woFW6yISX698",
    "outputId": "ac2734a2-6f42-4e29-dbd3-e05ad675628c"
   },
   "outputs": [
    {
     "name": "stdout",
     "output_type": "stream",
     "text": [
      "訓練集:  1.0\n",
      "測試集:  1.0\n"
     ]
    }
   ],
   "source": [
    "print('訓練集: ',xgboostModel.score(X_train,y_train))\n",
    "print('測試集: ',xgboostModel.score(X_test,y_test))"
   ]
  },
  {
   "cell_type": "code",
   "execution_count": 14,
   "metadata": {
    "executionInfo": {
     "elapsed": 583,
     "status": "ok",
     "timestamp": 1601257711215,
     "user": {
      "displayName": "10程式中",
      "photoUrl": "https://lh3.googleusercontent.com/a-/AOh14Gjcm9yF5nSbP1WaeQuXtTScTGduCrixXG-vKBG1=s64",
      "userId": "05620490010612616832"
     },
     "user_tz": -480
    },
    "id": "IOXVy35_X69-"
   },
   "outputs": [],
   "source": [
    "import pickle\n",
    "with open('./model/xgboost-iris.pickle', 'wb') as f:\n",
    "    pickle.dump(xgboostModel, f)"
   ]
  },
  {
   "cell_type": "code",
   "execution_count": 7,
   "metadata": {
    "colab": {
     "base_uri": "https://localhost:8080/",
     "height": 34
    },
    "executionInfo": {
     "elapsed": 1870,
     "status": "ok",
     "timestamp": 1601257550497,
     "user": {
      "displayName": "10程式中",
      "photoUrl": "https://lh3.googleusercontent.com/a-/AOh14Gjcm9yF5nSbP1WaeQuXtTScTGduCrixXG-vKBG1=s64",
      "userId": "05620490010612616832"
     },
     "user_tz": -480
    },
    "id": "LoTI55HQX6-D",
    "outputId": "3890a61e-623e-488b-b7e9-8970e64a6716"
   },
   "outputs": [
    {
     "name": "stdout",
     "output_type": "stream",
     "text": [
      "預測的類別為: [1]\n"
     ]
    }
   ],
   "source": [
    "#讀取Model\n",
    "with open('./model/xgboost-iris.pickle', 'rb') as f:\n",
    "    xgboostModel = pickle.load(f)\n",
    "    pred=xgboostModel.predict(np.array([[5.5, 2.4, 3.7, 1. ]]))\n",
    "    print(\"預測的類別為:\",pred)"
   ]
  },
  {
   "cell_type": "code",
   "execution_count": null,
   "metadata": {},
   "outputs": [],
   "source": []
  }
 ],
 "metadata": {
  "colab": {
   "collapsed_sections": [],
   "name": "24.XGBoost (Classfication-iris).ipynb",
   "provenance": []
  },
  "kernelspec": {
   "display_name": "Python 3",
   "language": "python",
   "name": "python3"
  },
  "language_info": {
   "codemirror_mode": {
    "name": "ipython",
    "version": 3
   },
   "file_extension": ".py",
   "mimetype": "text/x-python",
   "name": "python",
   "nbconvert_exporter": "python",
   "pygments_lexer": "ipython3",
   "version": "3.7.6"
  },
  "varInspector": {
   "cols": {
    "lenName": 16,
    "lenType": 16,
    "lenVar": 40
   },
   "kernels_config": {
    "python": {
     "delete_cmd_postfix": "",
     "delete_cmd_prefix": "del ",
     "library": "var_list.py",
     "varRefreshCmd": "print(var_dic_list())"
    },
    "r": {
     "delete_cmd_postfix": ") ",
     "delete_cmd_prefix": "rm(",
     "library": "var_list.r",
     "varRefreshCmd": "cat(var_dic_list()) "
    }
   },
   "types_to_exclude": [
    "module",
    "function",
    "builtin_function_or_method",
    "instance",
    "_Feature"
   ],
   "window_display": false
  }
 },
 "nbformat": 4,
 "nbformat_minor": 1
}
