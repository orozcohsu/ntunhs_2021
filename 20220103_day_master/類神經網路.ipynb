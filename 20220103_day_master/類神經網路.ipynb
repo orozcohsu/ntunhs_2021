{
 "cells": [
  {
   "cell_type": "code",
   "execution_count": 5,
   "id": "52183244-21b6-4e4f-8072-e8776fe5d1c4",
   "metadata": {},
   "outputs": [],
   "source": [
    "import numpy\n",
    "#scipy內建有sigmoid函數\n",
    "import scipy.special"
   ]
  },
  {
   "cell_type": "code",
   "execution_count": 2,
   "id": "dd4c0b47-4828-4da3-a4b8-11ac1b28d174",
   "metadata": {},
   "outputs": [],
   "source": [
    "#類神經網路\n",
    "class neuralNetwork:\n",
    "    \n",
    "    \n",
    "    # 初始化類神經網路\n",
    "    def __init__(self, inputnodes, hiddennodes, outputnodes, learningrate):\n",
    "        # 設定類神經網路內部節點餐數\n",
    "        self.inodes = inputnodes\n",
    "        self.hnodes = hiddennodes\n",
    "        self.onodes = outputnodes\n",
    "        \n",
    "        # 設定節點參數\n",
    "        self.wih = numpy.random.normal(0.0, pow(self.inodes, -0.5), (self.hnodes, self.inodes))\n",
    "        self.who = numpy.random.normal(0.0, pow(self.hnodes, -0.5), (self.onodes, self.hnodes))\n",
    "\n",
    "        # 學習率\n",
    "        self.lr = learningrate\n",
    "        \n",
    "        # 激活函數，採用sigmoid函數\n",
    "        self.activation_function = lambda x: scipy.special.expit(x)\n",
    "        \n",
    "        pass\n",
    "\n",
    "    \n",
    "    # 訓練類神經網路\n",
    "    def train(self, inputs_list, targets_list):\n",
    "        # 將輸入資料轉換為2d資料格式\n",
    "        inputs = numpy.array(inputs_list, ndmin=2).T\n",
    "        targets = numpy.array(targets_list, ndmin=2).T\n",
    "        \n",
    "        # 隱藏層計算\n",
    "        hidden_inputs = numpy.dot(self.wih, inputs)\n",
    "        # 結合激活隱藏層計算結果\n",
    "        hidden_outputs = self.activation_function(hidden_inputs)\n",
    "        \n",
    "        # 輸出層計算結果\n",
    "        final_inputs = numpy.dot(self.who, hidden_outputs)\n",
    "        # 結合激活輸出層計算結果\n",
    "        final_outputs = self.activation_function(final_inputs)\n",
    "        \n",
    "        # 計算輸出層結果誤差(計算方式: 輸入值-實際值)\n",
    "        output_errors = targets - final_outputs\n",
    "        # 計算隱藏層誤差\n",
    "        hidden_errors = numpy.dot(self.who.T, output_errors) \n",
    "        \n",
    "        # 更新計算後的結果至隱藏層與輸出層\n",
    "        self.who += self.lr * numpy.dot((output_errors * final_outputs * (1.0 - final_outputs)), numpy.transpose(hidden_outputs))\n",
    "        \n",
    "        # 更新計算後的結果至隱藏層與輸入層\n",
    "        self.wih += self.lr * numpy.dot((hidden_errors * hidden_outputs * (1.0 - hidden_outputs)), numpy.transpose(inputs))\n",
    "        \n",
    "        pass\n",
    "\n",
    "    \n",
    "    # 查詢類神經網路，用來測試結果\n",
    "    def query(self, inputs_list):\n",
    "        # 將輸入資料轉換為2d資料格式\n",
    "        inputs = numpy.array(inputs_list, ndmin=2).T\n",
    "        \n",
    "        # 結合激活輸出層計算結果\n",
    "        hidden_inputs = numpy.dot(self.wih, inputs)\n",
    "        hidden_outputs = self.activation_function(hidden_inputs)\n",
    "        \n",
    "        # 結合激活輸出層計算結果\n",
    "        final_inputs = numpy.dot(self.who, hidden_outputs)\n",
    "        final_outputs = self.activation_function(final_inputs)\n",
    "        \n",
    "        return final_outputs"
   ]
  },
  {
   "cell_type": "code",
   "execution_count": 3,
   "id": "9db29f80-11a1-49a7-94b9-bc82cc13783f",
   "metadata": {},
   "outputs": [],
   "source": [
    "# 節點參數\n",
    "input_nodes = 3\n",
    "hidden_nodes = 3\n",
    "output_nodes = 3\n",
    "\n",
    "# 學習率\n",
    "learning_rate = 0.3\n",
    "\n",
    "# 建立類神經網路\n",
    "n = neuralNetwork(input_nodes,hidden_nodes,output_nodes, learning_rate)"
   ]
  },
  {
   "cell_type": "code",
   "execution_count": 6,
   "id": "18f3ac0e-fa4e-4869-b04d-26c7f560f2aa",
   "metadata": {},
   "outputs": [
    {
     "data": {
      "text/plain": [
       "array([[0.47497167],\n",
       "       [0.60884828],\n",
       "       [0.50269846]])"
      ]
     },
     "execution_count": 6,
     "metadata": {},
     "output_type": "execute_result"
    }
   ],
   "source": [
    "# 測試 query\n",
    "n.query([1.0, 0.5, -1.5])"
   ]
  },
  {
   "cell_type": "code",
   "execution_count": null,
   "id": "ea72adfe-1bc7-4d7c-b6df-3e19c2404c58",
   "metadata": {},
   "outputs": [],
   "source": []
  }
 ],
 "metadata": {
  "kernelspec": {
   "display_name": "Python 3 (ipykernel)",
   "language": "python",
   "name": "python3"
  },
  "language_info": {
   "codemirror_mode": {
    "name": "ipython",
    "version": 3
   },
   "file_extension": ".py",
   "mimetype": "text/x-python",
   "name": "python",
   "nbconvert_exporter": "python",
   "pygments_lexer": "ipython3",
   "version": "3.8.12"
  }
 },
 "nbformat": 4,
 "nbformat_minor": 5
}
