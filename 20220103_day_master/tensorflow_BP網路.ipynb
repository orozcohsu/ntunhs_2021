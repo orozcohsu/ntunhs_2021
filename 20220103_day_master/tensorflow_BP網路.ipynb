{
 "cells": [
  {
   "cell_type": "code",
   "execution_count": 1,
   "id": "888454ab-efcd-401a-bfd8-8317df1475f6",
   "metadata": {},
   "outputs": [],
   "source": [
    "import tensorflow as tf\n",
    "import numpy as np"
   ]
  },
  {
   "cell_type": "code",
   "execution_count": 4,
   "id": "28996636-ed1b-46d7-9897-09f16b990f63",
   "metadata": {},
   "outputs": [
    {
     "name": "stdout",
     "output_type": "stream",
     "text": [
      "WARNING:tensorflow:From E:\\Anaconda3\\envs\\ML\\lib\\site-packages\\tensorflow\\python\\compat\\v2_compat.py:96: disable_resource_variables (from tensorflow.python.ops.variable_scope) is deprecated and will be removed in a future version.\n",
      "Instructions for updating:\n",
      "non-resource variables are not supported in the long term\n"
     ]
    }
   ],
   "source": [
    "#沿用舊版tensorflow\n",
    "import tensorflow.compat.v1 as tf\n",
    "tf.disable_v2_behavior()"
   ]
  },
  {
   "cell_type": "code",
   "execution_count": 2,
   "id": "f2f26989-68a3-4dc9-bdf5-721625fd0671",
   "metadata": {},
   "outputs": [],
   "source": [
    "#建立假資料\n",
    "X = np.array([[0, 0], [0, 1], [1, 0], [1, 1]])\n",
    "Y = np.array([[0], [1], [1], [0]])"
   ]
  },
  {
   "cell_type": "code",
   "execution_count": 5,
   "id": "f0207e9a-7cfe-49eb-904a-5f24e65d133e",
   "metadata": {},
   "outputs": [],
   "source": [
    "#定義placeholder\n",
    "x = tf.placeholder(tf.float32, [None, 2])\n",
    "y = tf.placeholder(tf.float32, [None, 1])\n",
    "\n",
    "#以常態分佈建立權重初始化\n",
    "#w1是輸入層到隱藏層間的權重矩陣\n",
    "#w2是隱藏層到輸出層間的權重矩陣\n",
    "w1 = tf.Variable(tf.random_normal([2,2]))\n",
    "w2 = tf.Variable(tf.random_normal([2,1]))\n",
    "\n",
    "#定義bias\n",
    "#b1为隱藏層的bias\n",
    "#b2是輸出層的bias\n",
    "b1=tf.Variable([0.1,0.1])\n",
    "b2=tf.Variable(0.1)"
   ]
  },
  {
   "cell_type": "code",
   "execution_count": 6,
   "id": "d7284ac0-51ec-408c-b355-5cfba1fdc6a4",
   "metadata": {},
   "outputs": [],
   "source": [
    "#定義激活函数經過隱藏層厚的計算的輸出值\n",
    "h=tf.nn.relu(tf.matmul(x,w1)+b1)\n",
    "\n",
    "#計算輸出層值\n",
    "out=tf.matmul(h,w2)+b2\n"
   ]
  },
  {
   "cell_type": "code",
   "execution_count": 7,
   "id": "15d8a13d-e7f6-40c0-ba05-299ee11519c3",
   "metadata": {},
   "outputs": [],
   "source": [
    "#定義成本函數計算方式\n",
    "loss = tf.reduce_mean(tf.square(out - y))\n",
    "\n",
    "#採用Adam演算法計算成本函數的方式\n",
    "train = tf.train.AdamOptimizer(0.1).minimize(loss)\n",
    "\n",
    "#tensorflow提供的優化器\n",
    "#tf.train.AdadeltaOptimizer\n",
    "#tf.train.AdagradOptimizer\n",
    "#tf.train.AdagradDAOptimizer\n",
    "#tf.train.MomentumOptimizer\n",
    "#tf.train.AdamOptimizer\n",
    "#tf.train.RMSPropOptimizer"
   ]
  },
  {
   "cell_type": "code",
   "execution_count": 8,
   "id": "9a8eadf7-d677-45ce-96db-80dc4fd9f7e7",
   "metadata": {},
   "outputs": [
    {
     "name": "stdout",
     "output_type": "stream",
     "text": [
      "step: 0, loss: 0.383\n",
      "step: 200, loss: 0.000\n",
      "step: 400, loss: 0.000\n",
      "step: 600, loss: 0.001\n",
      "step: 800, loss: 0.000\n",
      "step: 1000, loss: 0.000\n",
      "step: 1200, loss: 0.010\n",
      "step: 1400, loss: 0.000\n",
      "step: 1600, loss: 0.000\n",
      "step: 1800, loss: 0.000\n",
      "X: array([[0, 0],\n",
      "       [0, 1],\n",
      "       [1, 0],\n",
      "       [1, 1]])\n",
      "pred: array([[1.6687991e-06],\n",
      "       [1.0000176e+00],\n",
      "       [1.0000173e+00],\n",
      "       [3.5285819e-05]], dtype=float32)\n"
     ]
    }
   ],
   "source": [
    "#迭代計算，更新權重值\n",
    "#採用Backpropagation網路\n",
    "with tf.Session() as sess:\n",
    "    sess.run(tf.global_variables_initializer())\n",
    "    #迭代2000次\n",
    "    for i in range(2000):\n",
    "        sess.run(train, feed_dict={x: X, y: Y})\n",
    "        loss_ = sess.run(loss, feed_dict={x: X, y: Y})\n",
    "        if i%200==0 :\n",
    "            print(\"step: %d, loss: %.3f\"%(i, loss_))\n",
    "    print(\"X: %r\"%X)\n",
    "    print(\"pred: %r\"%sess.run(out, feed_dict={x: X}))"
   ]
  },
  {
   "cell_type": "code",
   "execution_count": null,
   "id": "4c4eb340-4874-4370-bce9-4084f900d58c",
   "metadata": {},
   "outputs": [],
   "source": []
  }
 ],
 "metadata": {
  "kernelspec": {
   "display_name": "Python 3 (ipykernel)",
   "language": "python",
   "name": "python3"
  },
  "language_info": {
   "codemirror_mode": {
    "name": "ipython",
    "version": 3
   },
   "file_extension": ".py",
   "mimetype": "text/x-python",
   "name": "python",
   "nbconvert_exporter": "python",
   "pygments_lexer": "ipython3",
   "version": "3.8.12"
  }
 },
 "nbformat": 4,
 "nbformat_minor": 5
}
